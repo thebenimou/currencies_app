{
 "metadata": {
  "language_info": {
   "codemirror_mode": {
    "name": "ipython",
    "version": 3
   },
   "file_extension": ".py",
   "mimetype": "text/x-python",
   "name": "python",
   "nbconvert_exporter": "python",
   "pygments_lexer": "ipython3",
   "version": "3.7.4-final"
  },
  "orig_nbformat": 2,
  "kernelspec": {
   "name": "Python 3.7.4 32-bit ('env')",
   "display_name": "Python 3.7.4 32-bit ('env')",
   "metadata": {
    "interpreter": {
     "hash": "2660c6f8cafb59bcff1569e1325913020e0f84fc4284782da75f3fe3e39cf939"
    }
   }
  }
 },
 "nbformat": 4,
 "nbformat_minor": 2,
 "cells": [
  {
   "source": [
    "# test"
   ],
   "cell_type": "markdown",
   "metadata": {}
  },
  {
   "cell_type": "code",
   "execution_count": 1,
   "metadata": {},
   "outputs": [],
   "source": [
    "import dash_bootstrap_components as dbc"
   ]
  },
  {
   "cell_type": "code",
   "execution_count": null,
   "metadata": {},
   "outputs": [],
   "source": [
    "class ModernCard(dbc.Card):\n",
    "    pass"
   ]
  },
  {
   "cell_type": "code",
   "execution_count": null,
   "metadata": {},
   "outputs": [],
   "source": [
    "m = ModernCard()"
   ]
  },
  {
   "cell_type": "code",
   "execution_count": null,
   "metadata": {},
   "outputs": [],
   "source": [
    "m"
   ]
  },
  {
   "source": [
    "# superstore"
   ],
   "cell_type": "markdown",
   "metadata": {}
  },
  {
   "cell_type": "code",
   "execution_count": 2,
   "metadata": {},
   "outputs": [],
   "source": [
    "import pandas as pd\n",
    "import plotly.express as px\n",
    "inputfile = \"https://sds-platform-private.s3-us-east-2.amazonaws.com/uploads/P1-SuperStoreUS-2015.xlsx\"\n",
    "superstore = pd.read_excel(inputfile)\n",
    "us_cities = pd.read_csv(\"us-zip-code-latitude-and-longitude.csv\", sep=\";\")\n",
    "pd.options.display.max_columns=100\n",
    "superstore2 = superstore.merge(us_cities.drop(\"City\",1), left_on=\"Postal Code\", right_on=\"Zip\")"
   ]
  },
  {
   "cell_type": "code",
   "execution_count": 11,
   "metadata": {},
   "outputs": [
    {
     "output_type": "execute_result",
     "data": {
      "text/plain": [
       "   Row ID Order Priority  Discount  Unit Price  Shipping Cost  Customer ID  \\\n",
       "0   20847           High      0.01        2.84           0.93            3   \n",
       "\n",
       "   Customer Name    Ship Mode Customer Segment Product Category  \\\n",
       "0  Bonnie Potter  Express Air        Corporate  Office Supplies   \n",
       "\n",
       "  Product Sub-Category Product Container  \\\n",
       "0  Pens & Art Supplies          Wrap Bag   \n",
       "\n",
       "                                     Product Name  Product Base Margin  \\\n",
       "0  SANFORD Liquid Accent™ Tank-Style Highlighters                 0.54   \n",
       "\n",
       "         Country Region State or Province       City  Postal Code Order Date  \\\n",
       "0  United States   West        Washington  Anacortes        98221 2015-01-07   \n",
       "\n",
       "   Ship Date  Profit  Quantity ordered new  Sales  Order ID    Zip State  \\\n",
       "0 2015-01-08    4.56                     4  13.01     88522  98221    WA   \n",
       "\n",
       "    Latitude  Longitude  Timezone  Daylight savings time flag  \\\n",
       "0  48.495234 -122.61976        -8                           1   \n",
       "\n",
       "               geopoint  \n",
       "0  48.495234,-122.61976  "
      ],
      "text/html": "<div>\n<style scoped>\n    .dataframe tbody tr th:only-of-type {\n        vertical-align: middle;\n    }\n\n    .dataframe tbody tr th {\n        vertical-align: top;\n    }\n\n    .dataframe thead th {\n        text-align: right;\n    }\n</style>\n<table border=\"1\" class=\"dataframe\">\n  <thead>\n    <tr style=\"text-align: right;\">\n      <th></th>\n      <th>Row ID</th>\n      <th>Order Priority</th>\n      <th>Discount</th>\n      <th>Unit Price</th>\n      <th>Shipping Cost</th>\n      <th>Customer ID</th>\n      <th>Customer Name</th>\n      <th>Ship Mode</th>\n      <th>Customer Segment</th>\n      <th>Product Category</th>\n      <th>Product Sub-Category</th>\n      <th>Product Container</th>\n      <th>Product Name</th>\n      <th>Product Base Margin</th>\n      <th>Country</th>\n      <th>Region</th>\n      <th>State or Province</th>\n      <th>City</th>\n      <th>Postal Code</th>\n      <th>Order Date</th>\n      <th>Ship Date</th>\n      <th>Profit</th>\n      <th>Quantity ordered new</th>\n      <th>Sales</th>\n      <th>Order ID</th>\n      <th>Zip</th>\n      <th>State</th>\n      <th>Latitude</th>\n      <th>Longitude</th>\n      <th>Timezone</th>\n      <th>Daylight savings time flag</th>\n      <th>geopoint</th>\n    </tr>\n  </thead>\n  <tbody>\n    <tr>\n      <th>0</th>\n      <td>20847</td>\n      <td>High</td>\n      <td>0.01</td>\n      <td>2.84</td>\n      <td>0.93</td>\n      <td>3</td>\n      <td>Bonnie Potter</td>\n      <td>Express Air</td>\n      <td>Corporate</td>\n      <td>Office Supplies</td>\n      <td>Pens &amp; Art Supplies</td>\n      <td>Wrap Bag</td>\n      <td>SANFORD Liquid Accent™ Tank-Style Highlighters</td>\n      <td>0.54</td>\n      <td>United States</td>\n      <td>West</td>\n      <td>Washington</td>\n      <td>Anacortes</td>\n      <td>98221</td>\n      <td>2015-01-07</td>\n      <td>2015-01-08</td>\n      <td>4.56</td>\n      <td>4</td>\n      <td>13.01</td>\n      <td>88522</td>\n      <td>98221</td>\n      <td>WA</td>\n      <td>48.495234</td>\n      <td>-122.61976</td>\n      <td>-8</td>\n      <td>1</td>\n      <td>48.495234,-122.61976</td>\n    </tr>\n  </tbody>\n</table>\n</div>"
     },
     "metadata": {},
     "execution_count": 11
    }
   ],
   "source": [
    "superstore2.head(1)"
   ]
  },
  {
   "cell_type": "code",
   "execution_count": 27,
   "metadata": {},
   "outputs": [
    {
     "output_type": "display_data",
     "data": {
      "application/vnd.plotly.v1+json": {
       "config": {
        "plotlyServerURL": "https://plot.ly"
       },
       "data": [
        {
         "alignmentgroup": "True",
         "hovertemplate": "Product Sub-Category=%{y}<br>Sales=%{x}<extra></extra>",
         "legendgroup": "Office Machines",
         "marker": {
          "color": "#636efa"
         },
         "name": "Office Machines",
         "offsetgroup": "Office Machines",
         "orientation": "h",
         "showlegend": true,
         "textposition": "auto",
         "type": "bar",
         "x": [
          318169.67999999993
         ],
         "xaxis": "x",
         "y": [
          "Office Machines"
         ],
         "yaxis": "y"
        },
        {
         "alignmentgroup": "True",
         "hovertemplate": "Product Sub-Category=%{y}<br>Sales=%{x}<extra></extra>",
         "legendgroup": "Chairs & Chairmats",
         "marker": {
          "color": "#EF553B"
         },
         "name": "Chairs & Chairmats",
         "offsetgroup": "Chairs & Chairmats",
         "orientation": "h",
         "showlegend": true,
         "textposition": "auto",
         "type": "bar",
         "x": [
          261072.72999999998
         ],
         "xaxis": "x",
         "y": [
          "Chairs & Chairmats"
         ],
         "yaxis": "y"
        },
        {
         "alignmentgroup": "True",
         "hovertemplate": "Product Sub-Category=%{y}<br>Sales=%{x}<extra></extra>",
         "legendgroup": "Telephones and Communication",
         "marker": {
          "color": "#00cc96"
         },
         "name": "Telephones and Communication",
         "offsetgroup": "Telephones and Communication",
         "orientation": "h",
         "showlegend": true,
         "textposition": "auto",
         "type": "bar",
         "x": [
          198764.49000000008
         ],
         "xaxis": "x",
         "y": [
          "Telephones and Communication"
         ],
         "yaxis": "y"
        },
        {
         "alignmentgroup": "True",
         "hovertemplate": "Product Sub-Category=%{y}<br>Sales=%{x}<extra></extra>",
         "legendgroup": "Tables",
         "marker": {
          "color": "#ab63fa"
         },
         "name": "Tables",
         "offsetgroup": "Tables",
         "orientation": "h",
         "showlegend": true,
         "textposition": "auto",
         "type": "bar",
         "x": [
          192334.77000000005
         ],
         "xaxis": "x",
         "y": [
          "Tables"
         ],
         "yaxis": "y"
        },
        {
         "alignmentgroup": "True",
         "hovertemplate": "Product Sub-Category=%{y}<br>Sales=%{x}<extra></extra>",
         "legendgroup": "Binders and Binder Accessories",
         "marker": {
          "color": "#FFA15A"
         },
         "name": "Binders and Binder Accessories",
         "offsetgroup": "Binders and Binder Accessories",
         "orientation": "h",
         "showlegend": true,
         "textposition": "auto",
         "type": "bar",
         "x": [
          185524.8899999999
         ],
         "xaxis": "x",
         "y": [
          "Binders and Binder Accessories"
         ],
         "yaxis": "y"
        }
       ],
       "layout": {
        "barmode": "relative",
        "legend": {
         "title": {
          "text": "Product Sub-Category"
         },
         "tracegroupgap": 0
        },
        "margin": {
         "t": 60
        },
        "showlegend": false,
        "template": {
         "data": {
          "bar": [
           {
            "error_x": {
             "color": "#2a3f5f"
            },
            "error_y": {
             "color": "#2a3f5f"
            },
            "marker": {
             "line": {
              "color": "#E5ECF6",
              "width": 0.5
             }
            },
            "type": "bar"
           }
          ],
          "barpolar": [
           {
            "marker": {
             "line": {
              "color": "#E5ECF6",
              "width": 0.5
             }
            },
            "type": "barpolar"
           }
          ],
          "carpet": [
           {
            "aaxis": {
             "endlinecolor": "#2a3f5f",
             "gridcolor": "white",
             "linecolor": "white",
             "minorgridcolor": "white",
             "startlinecolor": "#2a3f5f"
            },
            "baxis": {
             "endlinecolor": "#2a3f5f",
             "gridcolor": "white",
             "linecolor": "white",
             "minorgridcolor": "white",
             "startlinecolor": "#2a3f5f"
            },
            "type": "carpet"
           }
          ],
          "choropleth": [
           {
            "colorbar": {
             "outlinewidth": 0,
             "ticks": ""
            },
            "type": "choropleth"
           }
          ],
          "contour": [
           {
            "colorbar": {
             "outlinewidth": 0,
             "ticks": ""
            },
            "colorscale": [
             [
              0,
              "#0d0887"
             ],
             [
              0.1111111111111111,
              "#46039f"
             ],
             [
              0.2222222222222222,
              "#7201a8"
             ],
             [
              0.3333333333333333,
              "#9c179e"
             ],
             [
              0.4444444444444444,
              "#bd3786"
             ],
             [
              0.5555555555555556,
              "#d8576b"
             ],
             [
              0.6666666666666666,
              "#ed7953"
             ],
             [
              0.7777777777777778,
              "#fb9f3a"
             ],
             [
              0.8888888888888888,
              "#fdca26"
             ],
             [
              1,
              "#f0f921"
             ]
            ],
            "type": "contour"
           }
          ],
          "contourcarpet": [
           {
            "colorbar": {
             "outlinewidth": 0,
             "ticks": ""
            },
            "type": "contourcarpet"
           }
          ],
          "heatmap": [
           {
            "colorbar": {
             "outlinewidth": 0,
             "ticks": ""
            },
            "colorscale": [
             [
              0,
              "#0d0887"
             ],
             [
              0.1111111111111111,
              "#46039f"
             ],
             [
              0.2222222222222222,
              "#7201a8"
             ],
             [
              0.3333333333333333,
              "#9c179e"
             ],
             [
              0.4444444444444444,
              "#bd3786"
             ],
             [
              0.5555555555555556,
              "#d8576b"
             ],
             [
              0.6666666666666666,
              "#ed7953"
             ],
             [
              0.7777777777777778,
              "#fb9f3a"
             ],
             [
              0.8888888888888888,
              "#fdca26"
             ],
             [
              1,
              "#f0f921"
             ]
            ],
            "type": "heatmap"
           }
          ],
          "heatmapgl": [
           {
            "colorbar": {
             "outlinewidth": 0,
             "ticks": ""
            },
            "colorscale": [
             [
              0,
              "#0d0887"
             ],
             [
              0.1111111111111111,
              "#46039f"
             ],
             [
              0.2222222222222222,
              "#7201a8"
             ],
             [
              0.3333333333333333,
              "#9c179e"
             ],
             [
              0.4444444444444444,
              "#bd3786"
             ],
             [
              0.5555555555555556,
              "#d8576b"
             ],
             [
              0.6666666666666666,
              "#ed7953"
             ],
             [
              0.7777777777777778,
              "#fb9f3a"
             ],
             [
              0.8888888888888888,
              "#fdca26"
             ],
             [
              1,
              "#f0f921"
             ]
            ],
            "type": "heatmapgl"
           }
          ],
          "histogram": [
           {
            "marker": {
             "colorbar": {
              "outlinewidth": 0,
              "ticks": ""
             }
            },
            "type": "histogram"
           }
          ],
          "histogram2d": [
           {
            "colorbar": {
             "outlinewidth": 0,
             "ticks": ""
            },
            "colorscale": [
             [
              0,
              "#0d0887"
             ],
             [
              0.1111111111111111,
              "#46039f"
             ],
             [
              0.2222222222222222,
              "#7201a8"
             ],
             [
              0.3333333333333333,
              "#9c179e"
             ],
             [
              0.4444444444444444,
              "#bd3786"
             ],
             [
              0.5555555555555556,
              "#d8576b"
             ],
             [
              0.6666666666666666,
              "#ed7953"
             ],
             [
              0.7777777777777778,
              "#fb9f3a"
             ],
             [
              0.8888888888888888,
              "#fdca26"
             ],
             [
              1,
              "#f0f921"
             ]
            ],
            "type": "histogram2d"
           }
          ],
          "histogram2dcontour": [
           {
            "colorbar": {
             "outlinewidth": 0,
             "ticks": ""
            },
            "colorscale": [
             [
              0,
              "#0d0887"
             ],
             [
              0.1111111111111111,
              "#46039f"
             ],
             [
              0.2222222222222222,
              "#7201a8"
             ],
             [
              0.3333333333333333,
              "#9c179e"
             ],
             [
              0.4444444444444444,
              "#bd3786"
             ],
             [
              0.5555555555555556,
              "#d8576b"
             ],
             [
              0.6666666666666666,
              "#ed7953"
             ],
             [
              0.7777777777777778,
              "#fb9f3a"
             ],
             [
              0.8888888888888888,
              "#fdca26"
             ],
             [
              1,
              "#f0f921"
             ]
            ],
            "type": "histogram2dcontour"
           }
          ],
          "mesh3d": [
           {
            "colorbar": {
             "outlinewidth": 0,
             "ticks": ""
            },
            "type": "mesh3d"
           }
          ],
          "parcoords": [
           {
            "line": {
             "colorbar": {
              "outlinewidth": 0,
              "ticks": ""
             }
            },
            "type": "parcoords"
           }
          ],
          "pie": [
           {
            "automargin": true,
            "type": "pie"
           }
          ],
          "scatter": [
           {
            "marker": {
             "colorbar": {
              "outlinewidth": 0,
              "ticks": ""
             }
            },
            "type": "scatter"
           }
          ],
          "scatter3d": [
           {
            "line": {
             "colorbar": {
              "outlinewidth": 0,
              "ticks": ""
             }
            },
            "marker": {
             "colorbar": {
              "outlinewidth": 0,
              "ticks": ""
             }
            },
            "type": "scatter3d"
           }
          ],
          "scattercarpet": [
           {
            "marker": {
             "colorbar": {
              "outlinewidth": 0,
              "ticks": ""
             }
            },
            "type": "scattercarpet"
           }
          ],
          "scattergeo": [
           {
            "marker": {
             "colorbar": {
              "outlinewidth": 0,
              "ticks": ""
             }
            },
            "type": "scattergeo"
           }
          ],
          "scattergl": [
           {
            "marker": {
             "colorbar": {
              "outlinewidth": 0,
              "ticks": ""
             }
            },
            "type": "scattergl"
           }
          ],
          "scattermapbox": [
           {
            "marker": {
             "colorbar": {
              "outlinewidth": 0,
              "ticks": ""
             }
            },
            "type": "scattermapbox"
           }
          ],
          "scatterpolar": [
           {
            "marker": {
             "colorbar": {
              "outlinewidth": 0,
              "ticks": ""
             }
            },
            "type": "scatterpolar"
           }
          ],
          "scatterpolargl": [
           {
            "marker": {
             "colorbar": {
              "outlinewidth": 0,
              "ticks": ""
             }
            },
            "type": "scatterpolargl"
           }
          ],
          "scatterternary": [
           {
            "marker": {
             "colorbar": {
              "outlinewidth": 0,
              "ticks": ""
             }
            },
            "type": "scatterternary"
           }
          ],
          "surface": [
           {
            "colorbar": {
             "outlinewidth": 0,
             "ticks": ""
            },
            "colorscale": [
             [
              0,
              "#0d0887"
             ],
             [
              0.1111111111111111,
              "#46039f"
             ],
             [
              0.2222222222222222,
              "#7201a8"
             ],
             [
              0.3333333333333333,
              "#9c179e"
             ],
             [
              0.4444444444444444,
              "#bd3786"
             ],
             [
              0.5555555555555556,
              "#d8576b"
             ],
             [
              0.6666666666666666,
              "#ed7953"
             ],
             [
              0.7777777777777778,
              "#fb9f3a"
             ],
             [
              0.8888888888888888,
              "#fdca26"
             ],
             [
              1,
              "#f0f921"
             ]
            ],
            "type": "surface"
           }
          ],
          "table": [
           {
            "cells": {
             "fill": {
              "color": "#EBF0F8"
             },
             "line": {
              "color": "white"
             }
            },
            "header": {
             "fill": {
              "color": "#C8D4E3"
             },
             "line": {
              "color": "white"
             }
            },
            "type": "table"
           }
          ]
         },
         "layout": {
          "annotationdefaults": {
           "arrowcolor": "#2a3f5f",
           "arrowhead": 0,
           "arrowwidth": 1
          },
          "coloraxis": {
           "colorbar": {
            "outlinewidth": 0,
            "ticks": ""
           }
          },
          "colorscale": {
           "diverging": [
            [
             0,
             "#8e0152"
            ],
            [
             0.1,
             "#c51b7d"
            ],
            [
             0.2,
             "#de77ae"
            ],
            [
             0.3,
             "#f1b6da"
            ],
            [
             0.4,
             "#fde0ef"
            ],
            [
             0.5,
             "#f7f7f7"
            ],
            [
             0.6,
             "#e6f5d0"
            ],
            [
             0.7,
             "#b8e186"
            ],
            [
             0.8,
             "#7fbc41"
            ],
            [
             0.9,
             "#4d9221"
            ],
            [
             1,
             "#276419"
            ]
           ],
           "sequential": [
            [
             0,
             "#0d0887"
            ],
            [
             0.1111111111111111,
             "#46039f"
            ],
            [
             0.2222222222222222,
             "#7201a8"
            ],
            [
             0.3333333333333333,
             "#9c179e"
            ],
            [
             0.4444444444444444,
             "#bd3786"
            ],
            [
             0.5555555555555556,
             "#d8576b"
            ],
            [
             0.6666666666666666,
             "#ed7953"
            ],
            [
             0.7777777777777778,
             "#fb9f3a"
            ],
            [
             0.8888888888888888,
             "#fdca26"
            ],
            [
             1,
             "#f0f921"
            ]
           ],
           "sequentialminus": [
            [
             0,
             "#0d0887"
            ],
            [
             0.1111111111111111,
             "#46039f"
            ],
            [
             0.2222222222222222,
             "#7201a8"
            ],
            [
             0.3333333333333333,
             "#9c179e"
            ],
            [
             0.4444444444444444,
             "#bd3786"
            ],
            [
             0.5555555555555556,
             "#d8576b"
            ],
            [
             0.6666666666666666,
             "#ed7953"
            ],
            [
             0.7777777777777778,
             "#fb9f3a"
            ],
            [
             0.8888888888888888,
             "#fdca26"
            ],
            [
             1,
             "#f0f921"
            ]
           ]
          },
          "colorway": [
           "#636efa",
           "#EF553B",
           "#00cc96",
           "#ab63fa",
           "#FFA15A",
           "#19d3f3",
           "#FF6692",
           "#B6E880",
           "#FF97FF",
           "#FECB52"
          ],
          "font": {
           "color": "#2a3f5f"
          },
          "geo": {
           "bgcolor": "white",
           "lakecolor": "white",
           "landcolor": "#E5ECF6",
           "showlakes": true,
           "showland": true,
           "subunitcolor": "white"
          },
          "hoverlabel": {
           "align": "left"
          },
          "hovermode": "closest",
          "mapbox": {
           "style": "light"
          },
          "paper_bgcolor": "white",
          "plot_bgcolor": "#E5ECF6",
          "polar": {
           "angularaxis": {
            "gridcolor": "white",
            "linecolor": "white",
            "ticks": ""
           },
           "bgcolor": "#E5ECF6",
           "radialaxis": {
            "gridcolor": "white",
            "linecolor": "white",
            "ticks": ""
           }
          },
          "scene": {
           "xaxis": {
            "backgroundcolor": "#E5ECF6",
            "gridcolor": "white",
            "gridwidth": 2,
            "linecolor": "white",
            "showbackground": true,
            "ticks": "",
            "zerolinecolor": "white"
           },
           "yaxis": {
            "backgroundcolor": "#E5ECF6",
            "gridcolor": "white",
            "gridwidth": 2,
            "linecolor": "white",
            "showbackground": true,
            "ticks": "",
            "zerolinecolor": "white"
           },
           "zaxis": {
            "backgroundcolor": "#E5ECF6",
            "gridcolor": "white",
            "gridwidth": 2,
            "linecolor": "white",
            "showbackground": true,
            "ticks": "",
            "zerolinecolor": "white"
           }
          },
          "shapedefaults": {
           "line": {
            "color": "#2a3f5f"
           }
          },
          "ternary": {
           "aaxis": {
            "gridcolor": "white",
            "linecolor": "white",
            "ticks": ""
           },
           "baxis": {
            "gridcolor": "white",
            "linecolor": "white",
            "ticks": ""
           },
           "bgcolor": "#E5ECF6",
           "caxis": {
            "gridcolor": "white",
            "linecolor": "white",
            "ticks": ""
           }
          },
          "title": {
           "x": 0.05
          },
          "xaxis": {
           "automargin": true,
           "gridcolor": "white",
           "linecolor": "white",
           "ticks": "",
           "title": {
            "standoff": 15
           },
           "zerolinecolor": "white",
           "zerolinewidth": 2
          },
          "yaxis": {
           "automargin": true,
           "gridcolor": "white",
           "linecolor": "white",
           "ticks": "",
           "title": {
            "standoff": 15
           },
           "zerolinecolor": "white",
           "zerolinewidth": 2
          }
         }
        },
        "xaxis": {
         "anchor": "y",
         "domain": [
          0,
          1
         ],
         "title": {
          "text": "Sales"
         }
        },
        "yaxis": {
         "anchor": "x",
         "autorange": "reversed",
         "categoryarray": [
          "Binders and Binder Accessories",
          "Tables",
          "Telephones and Communication",
          "Chairs & Chairmats",
          "Office Machines"
         ],
         "categoryorder": "array",
         "domain": [
          0,
          1
         ],
         "title": {
          "text": "Product Sub-Category"
         }
        }
       }
      }
     },
     "metadata": {}
    }
   ],
   "source": [
    "top_products = superstore2.groupby(\"Product Sub-Category\")['Sales'].agg(sum).reset_index().sort_values(\"Sales\", ascending=False).head(5)\n",
    "fig = px.bar(top_products, y=\"Product Sub-Category\", x=\"Sales\", orientation='h', color=\"Product Sub-Category\")\n",
    "fig.update_yaxes(autorange=\"reversed\")\n",
    "fig.update_layout(showlegend=False)\n",
    "fig.show()"
   ]
  },
  {
   "cell_type": "code",
   "execution_count": 13,
   "metadata": {},
   "outputs": [
    {
     "output_type": "execute_result",
     "data": {
      "text/plain": "3"
     },
     "metadata": {},
     "execution_count": 13
    }
   ],
   "source": [
    "len(superstore2['Product Category'].unique())"
   ]
  },
  {
   "cell_type": "code",
   "execution_count": 8,
   "metadata": {},
   "outputs": [],
   "source": [
    "Users = pd.read_excel(inputfile, sheet_name=\"Users\")"
   ]
  },
  {
   "cell_type": "code",
   "execution_count": 9,
   "metadata": {},
   "outputs": [
    {
     "output_type": "execute_result",
     "data": {
      "text/plain": "    Region  Manager\n0  Central    Chris\n1     East     Erin\n2    South      Sam\n3     West  William",
      "text/html": "<div>\n<style scoped>\n    .dataframe tbody tr th:only-of-type {\n        vertical-align: middle;\n    }\n\n    .dataframe tbody tr th {\n        vertical-align: top;\n    }\n\n    .dataframe thead th {\n        text-align: right;\n    }\n</style>\n<table border=\"1\" class=\"dataframe\">\n  <thead>\n    <tr style=\"text-align: right;\">\n      <th></th>\n      <th>Region</th>\n      <th>Manager</th>\n    </tr>\n  </thead>\n  <tbody>\n    <tr>\n      <th>0</th>\n      <td>Central</td>\n      <td>Chris</td>\n    </tr>\n    <tr>\n      <th>1</th>\n      <td>East</td>\n      <td>Erin</td>\n    </tr>\n    <tr>\n      <th>2</th>\n      <td>South</td>\n      <td>Sam</td>\n    </tr>\n    <tr>\n      <th>3</th>\n      <td>West</td>\n      <td>William</td>\n    </tr>\n  </tbody>\n</table>\n</div>"
     },
     "metadata": {},
     "execution_count": 9
    }
   ],
   "source": [
    "Users"
   ]
  },
  {
   "cell_type": "code",
   "execution_count": 6,
   "metadata": {},
   "outputs": [
    {
     "output_type": "execute_result",
     "data": {
      "text/plain": "[&#39;Orders&#39;, &#39;Returns&#39;, &#39;Users&#39;]"
     },
     "metadata": {},
     "execution_count": 6
    }
   ],
   "source": [
    "xl = pd.ExcelFile(inputfile)\n",
    "xl.sheet_names  # see all sheet names"
   ]
  },
  {
   "cell_type": "code",
   "execution_count": 29,
   "metadata": {},
   "outputs": [
    {
     "output_type": "display_data",
     "data": {
      "application/vnd.plotly.v1+json": {
       "config": {
        "plotlyServerURL": "https://plot.ly"
       },
       "data": [
        {
         "hovertemplate": "Region=Central<br>Order Date=%{x}<br>Sales=%{y}<extra></extra>",
         "legendgroup": "Central",
         "line": {
          "color": "red",
          "dash": "solid"
         },
         "mode": "lines",
         "name": "Central",
         "orientation": "v",
         "showlegend": true,
         "type": "scatter",
         "x": [
          "2015-01-01T00:00:00",
          "2015-01-02T00:00:00",
          "2015-01-03T00:00:00",
          "2015-01-04T00:00:00",
          "2015-01-05T00:00:00",
          "2015-01-06T00:00:00",
          "2015-01-07T00:00:00",
          "2015-01-09T00:00:00",
          "2015-01-10T00:00:00",
          "2015-01-12T00:00:00",
          "2015-01-14T00:00:00",
          "2015-01-15T00:00:00",
          "2015-01-16T00:00:00",
          "2015-01-17T00:00:00",
          "2015-01-21T00:00:00",
          "2015-01-22T00:00:00",
          "2015-01-23T00:00:00",
          "2015-01-24T00:00:00",
          "2015-01-26T00:00:00",
          "2015-01-27T00:00:00",
          "2015-01-29T00:00:00",
          "2015-01-30T00:00:00",
          "2015-01-31T00:00:00",
          "2015-02-01T00:00:00",
          "2015-02-02T00:00:00",
          "2015-02-04T00:00:00",
          "2015-02-05T00:00:00",
          "2015-02-06T00:00:00",
          "2015-02-07T00:00:00",
          "2015-02-09T00:00:00",
          "2015-02-10T00:00:00",
          "2015-02-11T00:00:00",
          "2015-02-12T00:00:00",
          "2015-02-13T00:00:00",
          "2015-02-14T00:00:00",
          "2015-02-15T00:00:00",
          "2015-02-16T00:00:00",
          "2015-02-17T00:00:00",
          "2015-02-18T00:00:00",
          "2015-02-19T00:00:00",
          "2015-02-20T00:00:00",
          "2015-02-21T00:00:00",
          "2015-02-22T00:00:00",
          "2015-02-23T00:00:00",
          "2015-02-24T00:00:00",
          "2015-02-25T00:00:00",
          "2015-02-26T00:00:00",
          "2015-02-27T00:00:00",
          "2015-02-28T00:00:00",
          "2015-03-01T00:00:00",
          "2015-03-03T00:00:00",
          "2015-03-04T00:00:00",
          "2015-03-05T00:00:00",
          "2015-03-06T00:00:00",
          "2015-03-07T00:00:00",
          "2015-03-08T00:00:00",
          "2015-03-09T00:00:00",
          "2015-03-11T00:00:00",
          "2015-03-12T00:00:00",
          "2015-03-13T00:00:00",
          "2015-03-14T00:00:00",
          "2015-03-15T00:00:00",
          "2015-03-16T00:00:00",
          "2015-03-17T00:00:00",
          "2015-03-18T00:00:00",
          "2015-03-19T00:00:00",
          "2015-03-20T00:00:00",
          "2015-03-22T00:00:00",
          "2015-03-23T00:00:00",
          "2015-03-24T00:00:00",
          "2015-03-25T00:00:00",
          "2015-03-27T00:00:00",
          "2015-03-28T00:00:00",
          "2015-03-29T00:00:00",
          "2015-03-31T00:00:00",
          "2015-04-02T00:00:00",
          "2015-04-04T00:00:00",
          "2015-04-05T00:00:00",
          "2015-04-06T00:00:00",
          "2015-04-07T00:00:00",
          "2015-04-08T00:00:00",
          "2015-04-09T00:00:00",
          "2015-04-10T00:00:00",
          "2015-04-11T00:00:00",
          "2015-04-13T00:00:00",
          "2015-04-15T00:00:00",
          "2015-04-16T00:00:00",
          "2015-04-17T00:00:00",
          "2015-04-18T00:00:00",
          "2015-04-19T00:00:00",
          "2015-04-20T00:00:00",
          "2015-04-21T00:00:00",
          "2015-04-22T00:00:00",
          "2015-04-23T00:00:00",
          "2015-04-26T00:00:00",
          "2015-04-27T00:00:00",
          "2015-04-28T00:00:00",
          "2015-05-01T00:00:00",
          "2015-05-02T00:00:00",
          "2015-05-03T00:00:00",
          "2015-05-04T00:00:00",
          "2015-05-05T00:00:00",
          "2015-05-06T00:00:00",
          "2015-05-08T00:00:00",
          "2015-05-09T00:00:00",
          "2015-05-10T00:00:00",
          "2015-05-12T00:00:00",
          "2015-05-14T00:00:00",
          "2015-05-15T00:00:00",
          "2015-05-16T00:00:00",
          "2015-05-17T00:00:00",
          "2015-05-18T00:00:00",
          "2015-05-19T00:00:00",
          "2015-05-20T00:00:00",
          "2015-05-21T00:00:00",
          "2015-05-22T00:00:00",
          "2015-05-23T00:00:00",
          "2015-05-24T00:00:00",
          "2015-05-25T00:00:00",
          "2015-05-26T00:00:00",
          "2015-05-27T00:00:00",
          "2015-05-28T00:00:00",
          "2015-05-29T00:00:00",
          "2015-05-30T00:00:00",
          "2015-06-01T00:00:00",
          "2015-06-02T00:00:00",
          "2015-06-03T00:00:00",
          "2015-06-04T00:00:00",
          "2015-06-05T00:00:00",
          "2015-06-06T00:00:00",
          "2015-06-07T00:00:00",
          "2015-06-09T00:00:00",
          "2015-06-10T00:00:00",
          "2015-06-11T00:00:00",
          "2015-06-12T00:00:00",
          "2015-06-13T00:00:00",
          "2015-06-14T00:00:00",
          "2015-06-16T00:00:00",
          "2015-06-17T00:00:00",
          "2015-06-18T00:00:00",
          "2015-06-19T00:00:00",
          "2015-06-20T00:00:00",
          "2015-06-21T00:00:00",
          "2015-06-22T00:00:00",
          "2015-06-23T00:00:00",
          "2015-06-24T00:00:00",
          "2015-06-25T00:00:00",
          "2015-06-26T00:00:00",
          "2015-06-27T00:00:00",
          "2015-06-28T00:00:00",
          "2015-06-29T00:00:00"
         ],
         "xaxis": "x",
         "y": [
          36.58,
          4381.89,
          661.11,
          4267.92,
          6145.339999999999,
          8461.529999999999,
          512.21,
          40.29,
          1095.1399999999999,
          31.96,
          281.75,
          4451.2699999999995,
          2434.89,
          754.71,
          3108.57,
          7228.280000000001,
          37.89,
          3187.88,
          3607.22,
          1719.47,
          386.52,
          5276.23,
          4514.179999999999,
          1704.2600000000002,
          2622.97,
          3137.2,
          4056.62,
          2111.54,
          292.18,
          126.58,
          7782.16,
          3613.29,
          2180.6200000000003,
          3159.59,
          6233.999999999999,
          8074.86,
          2953.98,
          885.65,
          5592.96,
          99.93,
          4993.15,
          51.13,
          426.77,
          2500.1899999999996,
          4012.79,
          975.16,
          774.62,
          1441.6399999999999,
          478.6,
          545.8199999999999,
          19.67,
          3036.7599999999998,
          2616.7000000000003,
          5062.85,
          2354.54,
          869.53,
          220.92,
          1929.73,
          737,
          3807.8500000000004,
          11359.650000000001,
          116.03,
          6498.8099999999995,
          4723.83,
          1874.7900000000002,
          161.26,
          9082.11,
          3680.56,
          1073.13,
          854.43,
          2465.19,
          2337.5,
          180.61,
          330.94,
          54.08,
          16097.9,
          123.74000000000001,
          2525.89,
          796.47,
          2321.6800000000003,
          452.90000000000003,
          7341.3099999999995,
          2708.8999999999996,
          223.63,
          3011.6699999999996,
          175.51,
          4845.27,
          460.87,
          1819.39,
          34.76,
          8412.62,
          24.18,
          259.47,
          10570.400000000001,
          958,
          34.65,
          859.17,
          394.51,
          771.47,
          18870.64,
          188.68,
          5154.01,
          891.2,
          627.8499999999999,
          22.85,
          448.53000000000003,
          1225.5800000000002,
          1548.52,
          2026.74,
          3933.51,
          2382.72,
          1300.81,
          5353.87,
          4432.48,
          920.09,
          1546.85,
          8632.23,
          3714.85,
          8323.09,
          283.56,
          267.2,
          1653.29,
          247.67000000000002,
          4090.34,
          2919.13,
          297.11,
          981.65,
          1116.26,
          199.76,
          21456.81,
          11983.16,
          221.44,
          164.2,
          742.88,
          22372.41,
          1852.79,
          2421.13,
          739.07,
          2015.49,
          142.72,
          785.41,
          682.89,
          2055.24,
          7434.240000000001,
          13003.25,
          110.03,
          8355,
          289.88,
          40.69,
          3485.03,
          205.95
         ],
         "yaxis": "y"
        },
        {
         "hovertemplate": "Region=East<br>Order Date=%{x}<br>Sales=%{y}<extra></extra>",
         "legendgroup": "East",
         "line": {
          "color": "green",
          "dash": "solid"
         },
         "mode": "lines",
         "name": "East",
         "orientation": "v",
         "showlegend": true,
         "type": "scatter",
         "x": [
          "2015-01-01T00:00:00",
          "2015-01-02T00:00:00",
          "2015-01-03T00:00:00",
          "2015-01-05T00:00:00",
          "2015-01-06T00:00:00",
          "2015-01-07T00:00:00",
          "2015-01-08T00:00:00",
          "2015-01-09T00:00:00",
          "2015-01-10T00:00:00",
          "2015-01-11T00:00:00",
          "2015-01-12T00:00:00",
          "2015-01-13T00:00:00",
          "2015-01-14T00:00:00",
          "2015-01-15T00:00:00",
          "2015-01-16T00:00:00",
          "2015-01-17T00:00:00",
          "2015-01-18T00:00:00",
          "2015-01-19T00:00:00",
          "2015-01-21T00:00:00",
          "2015-01-22T00:00:00",
          "2015-01-24T00:00:00",
          "2015-01-26T00:00:00",
          "2015-01-27T00:00:00",
          "2015-01-28T00:00:00",
          "2015-01-31T00:00:00",
          "2015-02-02T00:00:00",
          "2015-02-04T00:00:00",
          "2015-02-05T00:00:00",
          "2015-02-06T00:00:00",
          "2015-02-07T00:00:00",
          "2015-02-08T00:00:00",
          "2015-02-10T00:00:00",
          "2015-02-11T00:00:00",
          "2015-02-12T00:00:00",
          "2015-02-13T00:00:00",
          "2015-02-14T00:00:00",
          "2015-02-15T00:00:00",
          "2015-02-16T00:00:00",
          "2015-02-20T00:00:00",
          "2015-02-21T00:00:00",
          "2015-02-22T00:00:00",
          "2015-02-24T00:00:00",
          "2015-02-25T00:00:00",
          "2015-02-26T00:00:00",
          "2015-02-27T00:00:00",
          "2015-02-28T00:00:00",
          "2015-03-01T00:00:00",
          "2015-03-02T00:00:00",
          "2015-03-11T00:00:00",
          "2015-03-12T00:00:00",
          "2015-03-13T00:00:00",
          "2015-03-14T00:00:00",
          "2015-03-15T00:00:00",
          "2015-03-16T00:00:00",
          "2015-03-17T00:00:00",
          "2015-03-18T00:00:00",
          "2015-03-19T00:00:00",
          "2015-03-20T00:00:00",
          "2015-03-21T00:00:00",
          "2015-03-22T00:00:00",
          "2015-03-23T00:00:00",
          "2015-03-24T00:00:00",
          "2015-03-25T00:00:00",
          "2015-03-27T00:00:00",
          "2015-03-29T00:00:00",
          "2015-03-30T00:00:00",
          "2015-04-01T00:00:00",
          "2015-04-02T00:00:00",
          "2015-04-04T00:00:00",
          "2015-04-05T00:00:00",
          "2015-04-06T00:00:00",
          "2015-04-07T00:00:00",
          "2015-04-08T00:00:00",
          "2015-04-10T00:00:00",
          "2015-04-11T00:00:00",
          "2015-04-13T00:00:00",
          "2015-04-14T00:00:00",
          "2015-04-15T00:00:00",
          "2015-04-17T00:00:00",
          "2015-04-19T00:00:00",
          "2015-04-20T00:00:00",
          "2015-04-21T00:00:00",
          "2015-04-22T00:00:00",
          "2015-04-24T00:00:00",
          "2015-04-25T00:00:00",
          "2015-04-26T00:00:00",
          "2015-04-28T00:00:00",
          "2015-04-29T00:00:00",
          "2015-04-30T00:00:00",
          "2015-05-01T00:00:00",
          "2015-05-02T00:00:00",
          "2015-05-03T00:00:00",
          "2015-05-04T00:00:00",
          "2015-05-05T00:00:00",
          "2015-05-07T00:00:00",
          "2015-05-08T00:00:00",
          "2015-05-09T00:00:00",
          "2015-05-10T00:00:00",
          "2015-05-11T00:00:00",
          "2015-05-13T00:00:00",
          "2015-05-15T00:00:00",
          "2015-05-17T00:00:00",
          "2015-05-18T00:00:00",
          "2015-05-20T00:00:00",
          "2015-05-21T00:00:00",
          "2015-05-22T00:00:00",
          "2015-05-23T00:00:00",
          "2015-05-24T00:00:00",
          "2015-05-25T00:00:00",
          "2015-05-26T00:00:00",
          "2015-05-27T00:00:00",
          "2015-05-28T00:00:00",
          "2015-05-29T00:00:00",
          "2015-05-30T00:00:00",
          "2015-06-01T00:00:00",
          "2015-06-02T00:00:00",
          "2015-06-03T00:00:00",
          "2015-06-04T00:00:00",
          "2015-06-05T00:00:00",
          "2015-06-06T00:00:00",
          "2015-06-07T00:00:00",
          "2015-06-08T00:00:00",
          "2015-06-09T00:00:00",
          "2015-06-10T00:00:00",
          "2015-06-11T00:00:00",
          "2015-06-13T00:00:00",
          "2015-06-14T00:00:00",
          "2015-06-15T00:00:00",
          "2015-06-17T00:00:00",
          "2015-06-19T00:00:00",
          "2015-06-20T00:00:00",
          "2015-06-22T00:00:00",
          "2015-06-23T00:00:00",
          "2015-06-25T00:00:00",
          "2015-06-26T00:00:00",
          "2015-06-27T00:00:00",
          "2015-06-28T00:00:00",
          "2015-06-29T00:00:00",
          "2015-06-30T00:00:00"
         ],
         "xaxis": "x",
         "y": [
          193.88,
          11664.970000000001,
          1374.98,
          47.18,
          809.51,
          15611.67,
          83.77,
          123.98,
          306.2,
          1515.2099999999996,
          4848.96,
          9.23,
          113.16999999999999,
          14.65,
          1197.29,
          2788.95,
          2212.84,
          1626.51,
          698.6600000000001,
          267.83,
          12171.240000000002,
          1818.1999999999998,
          1526.1200000000001,
          2559.92,
          2448.5099999999998,
          8956.09,
          162.49,
          1436.95,
          1037.44,
          1137.6,
          179.51,
          3990.2200000000003,
          9757.48,
          994.78,
          9920.03,
          2324.57,
          242.59,
          12715.240000000002,
          174.45999999999998,
          250.5,
          4142.24,
          744.15,
          9467.85,
          1194.5700000000002,
          157.78,
          722.29,
          8822.89,
          5193.59,
          470.61,
          942.3800000000001,
          731.36,
          2864.76,
          2024.5600000000002,
          453.62,
          298.16,
          11715.300000000001,
          1080.91,
          319.71999999999997,
          4452.21,
          1828.22,
          1590.3,
          1054.5099999999998,
          63.73,
          3354.72,
          517.03,
          11358.460000000001,
          275.83000000000004,
          493.08000000000004,
          64376.479999999996,
          7578.419999999999,
          13799.02,
          7363.6900000000005,
          1053,
          9510.34,
          69.89,
          292.6,
          1809.72,
          3826.1800000000003,
          1286.2600000000002,
          990.25,
          103.12,
          12004.310000000001,
          2171.25,
          76.11,
          29916.01,
          1288.1799999999998,
          29763.329999999998,
          167.12,
          994.0999999999999,
          517.85,
          8817.62,
          2221.58,
          1479.79,
          11023.77,
          2881.45,
          2052.24,
          59.79,
          3324.59,
          7604.6900000000005,
          1897.9799999999998,
          3243.7000000000003,
          4044.4,
          276.14,
          13157.220000000001,
          2112.27,
          8987.670000000002,
          3153.12,
          3607.77,
          1003.45,
          21.41,
          318.21,
          2011.56,
          469.91999999999996,
          570.62,
          2407.3999999999996,
          3319.9700000000003,
          14.85,
          1212.8300000000002,
          19840.32,
          478.49,
          612.25,
          2353.55,
          64.37,
          111.62,
          14109.89,
          1332.09,
          1087.8799999999999,
          2880.5,
          1197.6000000000001,
          7056.24,
          36292.189999999995,
          2618.4499999999994,
          2193.59,
          364.26,
          922.37,
          26.18,
          3920.6000000000004,
          666.1,
          18141.5
         ],
         "yaxis": "y"
        },
        {
         "hovertemplate": "Region=South<br>Order Date=%{x}<br>Sales=%{y}<extra></extra>",
         "legendgroup": "South",
         "line": {
          "color": "blue",
          "dash": "solid"
         },
         "mode": "lines",
         "name": "South",
         "orientation": "v",
         "showlegend": true,
         "type": "scatter",
         "x": [
          "2015-01-01T00:00:00",
          "2015-01-02T00:00:00",
          "2015-01-03T00:00:00",
          "2015-01-04T00:00:00",
          "2015-01-05T00:00:00",
          "2015-01-06T00:00:00",
          "2015-01-07T00:00:00",
          "2015-01-08T00:00:00",
          "2015-01-09T00:00:00",
          "2015-01-10T00:00:00",
          "2015-01-11T00:00:00",
          "2015-01-12T00:00:00",
          "2015-01-13T00:00:00",
          "2015-01-14T00:00:00",
          "2015-01-15T00:00:00",
          "2015-01-16T00:00:00",
          "2015-01-17T00:00:00",
          "2015-01-18T00:00:00",
          "2015-01-20T00:00:00",
          "2015-01-21T00:00:00",
          "2015-01-22T00:00:00",
          "2015-01-23T00:00:00",
          "2015-01-25T00:00:00",
          "2015-01-26T00:00:00",
          "2015-01-27T00:00:00",
          "2015-01-29T00:00:00",
          "2015-01-31T00:00:00",
          "2015-02-01T00:00:00",
          "2015-02-03T00:00:00",
          "2015-02-04T00:00:00",
          "2015-02-05T00:00:00",
          "2015-02-06T00:00:00",
          "2015-02-07T00:00:00",
          "2015-02-08T00:00:00",
          "2015-02-09T00:00:00",
          "2015-02-10T00:00:00",
          "2015-02-11T00:00:00",
          "2015-02-13T00:00:00",
          "2015-02-14T00:00:00",
          "2015-02-15T00:00:00",
          "2015-02-18T00:00:00",
          "2015-02-19T00:00:00",
          "2015-02-20T00:00:00",
          "2015-02-22T00:00:00",
          "2015-02-23T00:00:00",
          "2015-02-24T00:00:00",
          "2015-02-25T00:00:00",
          "2015-02-26T00:00:00",
          "2015-02-27T00:00:00",
          "2015-02-28T00:00:00",
          "2015-03-01T00:00:00",
          "2015-03-02T00:00:00",
          "2015-03-04T00:00:00",
          "2015-03-05T00:00:00",
          "2015-03-08T00:00:00",
          "2015-03-09T00:00:00",
          "2015-03-10T00:00:00",
          "2015-03-12T00:00:00",
          "2015-03-13T00:00:00",
          "2015-03-14T00:00:00",
          "2015-03-16T00:00:00",
          "2015-03-18T00:00:00",
          "2015-03-19T00:00:00",
          "2015-03-20T00:00:00",
          "2015-03-21T00:00:00",
          "2015-03-22T00:00:00",
          "2015-03-23T00:00:00",
          "2015-03-24T00:00:00",
          "2015-03-25T00:00:00",
          "2015-03-26T00:00:00",
          "2015-03-27T00:00:00",
          "2015-03-28T00:00:00",
          "2015-03-29T00:00:00",
          "2015-03-30T00:00:00",
          "2015-03-31T00:00:00",
          "2015-04-01T00:00:00",
          "2015-04-02T00:00:00",
          "2015-04-04T00:00:00",
          "2015-04-05T00:00:00",
          "2015-04-06T00:00:00",
          "2015-04-07T00:00:00",
          "2015-04-08T00:00:00",
          "2015-04-09T00:00:00",
          "2015-04-10T00:00:00",
          "2015-04-11T00:00:00",
          "2015-04-12T00:00:00",
          "2015-04-13T00:00:00",
          "2015-04-15T00:00:00",
          "2015-04-16T00:00:00",
          "2015-04-17T00:00:00",
          "2015-04-18T00:00:00",
          "2015-04-19T00:00:00",
          "2015-04-20T00:00:00",
          "2015-04-21T00:00:00",
          "2015-04-22T00:00:00",
          "2015-04-23T00:00:00",
          "2015-04-24T00:00:00",
          "2015-04-25T00:00:00",
          "2015-04-27T00:00:00",
          "2015-04-28T00:00:00",
          "2015-04-29T00:00:00",
          "2015-04-30T00:00:00",
          "2015-05-01T00:00:00",
          "2015-05-02T00:00:00",
          "2015-05-03T00:00:00",
          "2015-05-04T00:00:00",
          "2015-05-06T00:00:00",
          "2015-05-07T00:00:00",
          "2015-05-08T00:00:00",
          "2015-05-09T00:00:00",
          "2015-05-10T00:00:00",
          "2015-05-11T00:00:00",
          "2015-05-12T00:00:00",
          "2015-05-14T00:00:00",
          "2015-05-16T00:00:00",
          "2015-05-17T00:00:00",
          "2015-05-18T00:00:00",
          "2015-05-20T00:00:00",
          "2015-05-21T00:00:00",
          "2015-05-23T00:00:00",
          "2015-05-26T00:00:00",
          "2015-05-28T00:00:00",
          "2015-05-29T00:00:00",
          "2015-05-30T00:00:00",
          "2015-06-01T00:00:00",
          "2015-06-02T00:00:00",
          "2015-06-03T00:00:00",
          "2015-06-05T00:00:00",
          "2015-06-06T00:00:00",
          "2015-06-07T00:00:00",
          "2015-06-09T00:00:00",
          "2015-06-11T00:00:00",
          "2015-06-12T00:00:00",
          "2015-06-13T00:00:00",
          "2015-06-14T00:00:00",
          "2015-06-15T00:00:00",
          "2015-06-16T00:00:00",
          "2015-06-17T00:00:00",
          "2015-06-18T00:00:00",
          "2015-06-19T00:00:00",
          "2015-06-20T00:00:00",
          "2015-06-21T00:00:00",
          "2015-06-24T00:00:00",
          "2015-06-25T00:00:00",
          "2015-06-26T00:00:00",
          "2015-06-28T00:00:00",
          "2015-06-29T00:00:00",
          "2015-06-30T00:00:00"
         ],
         "xaxis": "x",
         "y": [
          1395.95,
          5969.790000000001,
          7656.79,
          1202.66,
          65.85,
          1776.7700000000002,
          200.64,
          84.59,
          13512.69,
          10090.83,
          1839.91,
          2502.9900000000002,
          77.42,
          982.9899999999999,
          53.75,
          331.95,
          1112.69,
          774.54,
          5105.27,
          4518.58,
          6017.530000000001,
          343.79,
          408.66,
          1610.31,
          790.8,
          4570.12,
          64.48,
          799.76,
          3257.92,
          1847.2,
          53.42,
          5443.68,
          364.92,
          718.03,
          443.55999999999995,
          421.75,
          6659.349999999999,
          1010.78,
          1711.83,
          290.30999999999995,
          97.96,
          469.59,
          810.63,
          770.78,
          4312.450000000001,
          882.93,
          8.49,
          828.61,
          495.36,
          55.08,
          4442.650000000001,
          793.28,
          1453.3600000000001,
          732.91,
          1791.28,
          3034.61,
          388.56,
          540.15,
          2109.28,
          5879.089999999999,
          9303.199999999999,
          650.7,
          1983.83,
          1421.69,
          20581.28,
          87.53,
          1187.54,
          5470.45,
          3277.5099999999998,
          5226.64,
          1181.6599999999999,
          1908.4099999999999,
          292.23,
          2659.5,
          47.629999999999995,
          4927.69,
          450.49,
          905.16,
          671.36,
          1916.4900000000002,
          1208.6000000000001,
          785.79,
          8445.36,
          1381.41,
          267.32,
          48.32,
          14.66,
          2137.49,
          1011.44,
          4410.79,
          9051.739999999998,
          4313.51,
          10555,
          2333.23,
          135.18,
          3.07,
          1943.87,
          59.22,
          3899.7799999999997,
          696.5,
          1984.6100000000001,
          126.53999999999999,
          540.92,
          2834.91,
          5835.41,
          289.22,
          100.87,
          344.48,
          5879.29,
          826.45,
          537.8,
          3048.14,
          5318.03,
          5147.75,
          734.27,
          1332.98,
          339.85,
          2805.18,
          1826.8400000000001,
          8892.269999999999,
          2181.7,
          911.93,
          7239.08,
          121.87,
          283.59,
          1173.6100000000001,
          4558.57,
          8523.35,
          832.97,
          3618.46,
          212.89,
          4375.96,
          2278.15,
          736.9,
          3261.6299999999997,
          19.32,
          759.5799999999999,
          31.73,
          1299.09,
          4057.38,
          89.83,
          312.75,
          100.11,
          2049.51,
          6676.61,
          255.88,
          2496.91,
          5231.72
         ],
         "yaxis": "y"
        },
        {
         "hovertemplate": "Region=West<br>Order Date=%{x}<br>Sales=%{y}<extra></extra>",
         "legendgroup": "West",
         "line": {
          "color": "goldenrod",
          "dash": "solid"
         },
         "mode": "lines",
         "name": "West",
         "orientation": "v",
         "showlegend": true,
         "type": "scatter",
         "x": [
          "2015-01-01T00:00:00",
          "2015-01-02T00:00:00",
          "2015-01-03T00:00:00",
          "2015-01-05T00:00:00",
          "2015-01-06T00:00:00",
          "2015-01-07T00:00:00",
          "2015-01-08T00:00:00",
          "2015-01-09T00:00:00",
          "2015-01-10T00:00:00",
          "2015-01-12T00:00:00",
          "2015-01-13T00:00:00",
          "2015-01-14T00:00:00",
          "2015-01-15T00:00:00",
          "2015-01-17T00:00:00",
          "2015-01-19T00:00:00",
          "2015-01-20T00:00:00",
          "2015-01-21T00:00:00",
          "2015-01-23T00:00:00",
          "2015-01-24T00:00:00",
          "2015-01-25T00:00:00",
          "2015-01-28T00:00:00",
          "2015-01-29T00:00:00",
          "2015-01-31T00:00:00",
          "2015-02-01T00:00:00",
          "2015-02-02T00:00:00",
          "2015-02-03T00:00:00",
          "2015-02-04T00:00:00",
          "2015-02-05T00:00:00",
          "2015-02-06T00:00:00",
          "2015-02-07T00:00:00",
          "2015-02-08T00:00:00",
          "2015-02-10T00:00:00",
          "2015-02-11T00:00:00",
          "2015-02-12T00:00:00",
          "2015-02-14T00:00:00",
          "2015-02-15T00:00:00",
          "2015-02-16T00:00:00",
          "2015-02-17T00:00:00",
          "2015-02-18T00:00:00",
          "2015-02-19T00:00:00",
          "2015-02-21T00:00:00",
          "2015-02-22T00:00:00",
          "2015-02-24T00:00:00",
          "2015-02-25T00:00:00",
          "2015-02-26T00:00:00",
          "2015-02-27T00:00:00",
          "2015-02-28T00:00:00",
          "2015-03-01T00:00:00",
          "2015-03-02T00:00:00",
          "2015-03-03T00:00:00",
          "2015-03-04T00:00:00",
          "2015-03-05T00:00:00",
          "2015-03-06T00:00:00",
          "2015-03-07T00:00:00",
          "2015-03-08T00:00:00",
          "2015-03-10T00:00:00",
          "2015-03-11T00:00:00",
          "2015-03-12T00:00:00",
          "2015-03-14T00:00:00",
          "2015-03-15T00:00:00",
          "2015-03-16T00:00:00",
          "2015-03-17T00:00:00",
          "2015-03-18T00:00:00",
          "2015-03-19T00:00:00",
          "2015-03-20T00:00:00",
          "2015-03-21T00:00:00",
          "2015-03-22T00:00:00",
          "2015-03-24T00:00:00",
          "2015-03-25T00:00:00",
          "2015-03-26T00:00:00",
          "2015-03-27T00:00:00",
          "2015-03-28T00:00:00",
          "2015-03-29T00:00:00",
          "2015-03-30T00:00:00",
          "2015-04-02T00:00:00",
          "2015-04-04T00:00:00",
          "2015-04-06T00:00:00",
          "2015-04-07T00:00:00",
          "2015-04-08T00:00:00",
          "2015-04-09T00:00:00",
          "2015-04-10T00:00:00",
          "2015-04-11T00:00:00",
          "2015-04-12T00:00:00",
          "2015-04-15T00:00:00",
          "2015-04-16T00:00:00",
          "2015-04-17T00:00:00",
          "2015-04-19T00:00:00",
          "2015-04-20T00:00:00",
          "2015-04-21T00:00:00",
          "2015-04-23T00:00:00",
          "2015-04-24T00:00:00",
          "2015-04-25T00:00:00",
          "2015-04-26T00:00:00",
          "2015-04-27T00:00:00",
          "2015-04-29T00:00:00",
          "2015-04-30T00:00:00",
          "2015-05-01T00:00:00",
          "2015-05-02T00:00:00",
          "2015-05-03T00:00:00",
          "2015-05-04T00:00:00",
          "2015-05-05T00:00:00",
          "2015-05-07T00:00:00",
          "2015-05-08T00:00:00",
          "2015-05-10T00:00:00",
          "2015-05-11T00:00:00",
          "2015-05-13T00:00:00",
          "2015-05-14T00:00:00",
          "2015-05-15T00:00:00",
          "2015-05-16T00:00:00",
          "2015-05-17T00:00:00",
          "2015-05-19T00:00:00",
          "2015-05-20T00:00:00",
          "2015-05-21T00:00:00",
          "2015-05-22T00:00:00",
          "2015-05-23T00:00:00",
          "2015-05-24T00:00:00",
          "2015-05-25T00:00:00",
          "2015-05-26T00:00:00",
          "2015-05-27T00:00:00",
          "2015-05-28T00:00:00",
          "2015-05-29T00:00:00",
          "2015-06-01T00:00:00",
          "2015-06-03T00:00:00",
          "2015-06-04T00:00:00",
          "2015-06-05T00:00:00",
          "2015-06-06T00:00:00",
          "2015-06-07T00:00:00",
          "2015-06-08T00:00:00",
          "2015-06-09T00:00:00",
          "2015-06-10T00:00:00",
          "2015-06-12T00:00:00",
          "2015-06-13T00:00:00",
          "2015-06-14T00:00:00",
          "2015-06-15T00:00:00",
          "2015-06-16T00:00:00",
          "2015-06-17T00:00:00",
          "2015-06-18T00:00:00",
          "2015-06-19T00:00:00",
          "2015-06-20T00:00:00",
          "2015-06-22T00:00:00",
          "2015-06-24T00:00:00",
          "2015-06-27T00:00:00",
          "2015-06-28T00:00:00",
          "2015-06-29T00:00:00",
          "2015-06-30T00:00:00"
         ],
         "xaxis": "x",
         "y": [
          7233.650000000001,
          2303.27,
          441.54,
          13902.14,
          75.6,
          227.3,
          5220.48,
          249.87,
          28.2,
          7498.759999999999,
          1685.3899999999999,
          3822.2799999999997,
          310.28,
          2011.3400000000001,
          26.38,
          1003.74,
          3955.7,
          384.22,
          1446.35,
          36.59,
          4057.7299999999996,
          6709.97,
          10417.539999999999,
          5025.01,
          9111.96,
          227.79,
          3747.02,
          12359.16,
          556.61,
          2925.5899999999997,
          506.5,
          966.4499999999999,
          3826.81,
          58.5,
          12131.08,
          7925.42,
          451.35,
          190.74,
          22573.409999999996,
          2106.71,
          56462.90999999999,
          6124.98,
          120.12,
          300.63,
          2627.7,
          1442.72,
          2586.64,
          327.61,
          421.08,
          243.11,
          10248.590000000002,
          4372.27,
          1074.3799999999999,
          356.5,
          2712.71,
          7033.23,
          219.03,
          4460.129999999999,
          5679.59,
          803.23,
          472.9,
          222.53,
          2599.86,
          2176.48,
          5852.06,
          823.8100000000001,
          3807.25,
          70.06,
          3879.64,
          10.96,
          8594.609999999999,
          694.91,
          376.28999999999996,
          1157.74,
          8226.03,
          1862.3899999999999,
          378.24,
          2461.88,
          1345.33,
          6230.099999999999,
          35.48,
          394.1,
          441.68,
          414.07,
          29.92,
          7115.369999999999,
          2479.7799999999997,
          3666.1699999999996,
          8648.210000000001,
          47.74,
          132.54999999999998,
          7792.97,
          10108.18,
          1362.2,
          1409.8600000000001,
          7895.16,
          248.32,
          106.77000000000001,
          469.93999999999994,
          9242.849999999999,
          8958.35,
          426.56,
          32.4,
          647.07,
          935.51,
          731.9599999999999,
          1239.6799999999998,
          1418.55,
          6167.53,
          170.8,
          2091.16,
          3666.45,
          1726.2,
          3129.9199999999996,
          39.15,
          4240.31,
          3241.68,
          6372.5199999999995,
          486.14,
          801.93,
          28779.129999999997,
          1319.7,
          4541.0599999999995,
          1849.4799999999998,
          1542.46,
          352.75,
          46.94,
          2784.38,
          730.37,
          1531.8999999999999,
          2038.5299999999997,
          6362.85,
          19948.59,
          111.78,
          1721.24,
          723.7099999999999,
          8743.55,
          785.65,
          11963.310000000001,
          3598.26,
          362.14,
          271.54,
          328.58,
          266.95,
          907.8699999999998
         ],
         "yaxis": "y"
        }
       ],
       "layout": {
        "legend": {
         "title": {
          "text": "Region"
         },
         "tracegroupgap": 0
        },
        "margin": {
         "t": 60
        },
        "template": {
         "data": {
          "bar": [
           {
            "error_x": {
             "color": "#2a3f5f"
            },
            "error_y": {
             "color": "#2a3f5f"
            },
            "marker": {
             "line": {
              "color": "#E5ECF6",
              "width": 0.5
             }
            },
            "type": "bar"
           }
          ],
          "barpolar": [
           {
            "marker": {
             "line": {
              "color": "#E5ECF6",
              "width": 0.5
             }
            },
            "type": "barpolar"
           }
          ],
          "carpet": [
           {
            "aaxis": {
             "endlinecolor": "#2a3f5f",
             "gridcolor": "white",
             "linecolor": "white",
             "minorgridcolor": "white",
             "startlinecolor": "#2a3f5f"
            },
            "baxis": {
             "endlinecolor": "#2a3f5f",
             "gridcolor": "white",
             "linecolor": "white",
             "minorgridcolor": "white",
             "startlinecolor": "#2a3f5f"
            },
            "type": "carpet"
           }
          ],
          "choropleth": [
           {
            "colorbar": {
             "outlinewidth": 0,
             "ticks": ""
            },
            "type": "choropleth"
           }
          ],
          "contour": [
           {
            "colorbar": {
             "outlinewidth": 0,
             "ticks": ""
            },
            "colorscale": [
             [
              0,
              "#0d0887"
             ],
             [
              0.1111111111111111,
              "#46039f"
             ],
             [
              0.2222222222222222,
              "#7201a8"
             ],
             [
              0.3333333333333333,
              "#9c179e"
             ],
             [
              0.4444444444444444,
              "#bd3786"
             ],
             [
              0.5555555555555556,
              "#d8576b"
             ],
             [
              0.6666666666666666,
              "#ed7953"
             ],
             [
              0.7777777777777778,
              "#fb9f3a"
             ],
             [
              0.8888888888888888,
              "#fdca26"
             ],
             [
              1,
              "#f0f921"
             ]
            ],
            "type": "contour"
           }
          ],
          "contourcarpet": [
           {
            "colorbar": {
             "outlinewidth": 0,
             "ticks": ""
            },
            "type": "contourcarpet"
           }
          ],
          "heatmap": [
           {
            "colorbar": {
             "outlinewidth": 0,
             "ticks": ""
            },
            "colorscale": [
             [
              0,
              "#0d0887"
             ],
             [
              0.1111111111111111,
              "#46039f"
             ],
             [
              0.2222222222222222,
              "#7201a8"
             ],
             [
              0.3333333333333333,
              "#9c179e"
             ],
             [
              0.4444444444444444,
              "#bd3786"
             ],
             [
              0.5555555555555556,
              "#d8576b"
             ],
             [
              0.6666666666666666,
              "#ed7953"
             ],
             [
              0.7777777777777778,
              "#fb9f3a"
             ],
             [
              0.8888888888888888,
              "#fdca26"
             ],
             [
              1,
              "#f0f921"
             ]
            ],
            "type": "heatmap"
           }
          ],
          "heatmapgl": [
           {
            "colorbar": {
             "outlinewidth": 0,
             "ticks": ""
            },
            "colorscale": [
             [
              0,
              "#0d0887"
             ],
             [
              0.1111111111111111,
              "#46039f"
             ],
             [
              0.2222222222222222,
              "#7201a8"
             ],
             [
              0.3333333333333333,
              "#9c179e"
             ],
             [
              0.4444444444444444,
              "#bd3786"
             ],
             [
              0.5555555555555556,
              "#d8576b"
             ],
             [
              0.6666666666666666,
              "#ed7953"
             ],
             [
              0.7777777777777778,
              "#fb9f3a"
             ],
             [
              0.8888888888888888,
              "#fdca26"
             ],
             [
              1,
              "#f0f921"
             ]
            ],
            "type": "heatmapgl"
           }
          ],
          "histogram": [
           {
            "marker": {
             "colorbar": {
              "outlinewidth": 0,
              "ticks": ""
             }
            },
            "type": "histogram"
           }
          ],
          "histogram2d": [
           {
            "colorbar": {
             "outlinewidth": 0,
             "ticks": ""
            },
            "colorscale": [
             [
              0,
              "#0d0887"
             ],
             [
              0.1111111111111111,
              "#46039f"
             ],
             [
              0.2222222222222222,
              "#7201a8"
             ],
             [
              0.3333333333333333,
              "#9c179e"
             ],
             [
              0.4444444444444444,
              "#bd3786"
             ],
             [
              0.5555555555555556,
              "#d8576b"
             ],
             [
              0.6666666666666666,
              "#ed7953"
             ],
             [
              0.7777777777777778,
              "#fb9f3a"
             ],
             [
              0.8888888888888888,
              "#fdca26"
             ],
             [
              1,
              "#f0f921"
             ]
            ],
            "type": "histogram2d"
           }
          ],
          "histogram2dcontour": [
           {
            "colorbar": {
             "outlinewidth": 0,
             "ticks": ""
            },
            "colorscale": [
             [
              0,
              "#0d0887"
             ],
             [
              0.1111111111111111,
              "#46039f"
             ],
             [
              0.2222222222222222,
              "#7201a8"
             ],
             [
              0.3333333333333333,
              "#9c179e"
             ],
             [
              0.4444444444444444,
              "#bd3786"
             ],
             [
              0.5555555555555556,
              "#d8576b"
             ],
             [
              0.6666666666666666,
              "#ed7953"
             ],
             [
              0.7777777777777778,
              "#fb9f3a"
             ],
             [
              0.8888888888888888,
              "#fdca26"
             ],
             [
              1,
              "#f0f921"
             ]
            ],
            "type": "histogram2dcontour"
           }
          ],
          "mesh3d": [
           {
            "colorbar": {
             "outlinewidth": 0,
             "ticks": ""
            },
            "type": "mesh3d"
           }
          ],
          "parcoords": [
           {
            "line": {
             "colorbar": {
              "outlinewidth": 0,
              "ticks": ""
             }
            },
            "type": "parcoords"
           }
          ],
          "pie": [
           {
            "automargin": true,
            "type": "pie"
           }
          ],
          "scatter": [
           {
            "marker": {
             "colorbar": {
              "outlinewidth": 0,
              "ticks": ""
             }
            },
            "type": "scatter"
           }
          ],
          "scatter3d": [
           {
            "line": {
             "colorbar": {
              "outlinewidth": 0,
              "ticks": ""
             }
            },
            "marker": {
             "colorbar": {
              "outlinewidth": 0,
              "ticks": ""
             }
            },
            "type": "scatter3d"
           }
          ],
          "scattercarpet": [
           {
            "marker": {
             "colorbar": {
              "outlinewidth": 0,
              "ticks": ""
             }
            },
            "type": "scattercarpet"
           }
          ],
          "scattergeo": [
           {
            "marker": {
             "colorbar": {
              "outlinewidth": 0,
              "ticks": ""
             }
            },
            "type": "scattergeo"
           }
          ],
          "scattergl": [
           {
            "marker": {
             "colorbar": {
              "outlinewidth": 0,
              "ticks": ""
             }
            },
            "type": "scattergl"
           }
          ],
          "scattermapbox": [
           {
            "marker": {
             "colorbar": {
              "outlinewidth": 0,
              "ticks": ""
             }
            },
            "type": "scattermapbox"
           }
          ],
          "scatterpolar": [
           {
            "marker": {
             "colorbar": {
              "outlinewidth": 0,
              "ticks": ""
             }
            },
            "type": "scatterpolar"
           }
          ],
          "scatterpolargl": [
           {
            "marker": {
             "colorbar": {
              "outlinewidth": 0,
              "ticks": ""
             }
            },
            "type": "scatterpolargl"
           }
          ],
          "scatterternary": [
           {
            "marker": {
             "colorbar": {
              "outlinewidth": 0,
              "ticks": ""
             }
            },
            "type": "scatterternary"
           }
          ],
          "surface": [
           {
            "colorbar": {
             "outlinewidth": 0,
             "ticks": ""
            },
            "colorscale": [
             [
              0,
              "#0d0887"
             ],
             [
              0.1111111111111111,
              "#46039f"
             ],
             [
              0.2222222222222222,
              "#7201a8"
             ],
             [
              0.3333333333333333,
              "#9c179e"
             ],
             [
              0.4444444444444444,
              "#bd3786"
             ],
             [
              0.5555555555555556,
              "#d8576b"
             ],
             [
              0.6666666666666666,
              "#ed7953"
             ],
             [
              0.7777777777777778,
              "#fb9f3a"
             ],
             [
              0.8888888888888888,
              "#fdca26"
             ],
             [
              1,
              "#f0f921"
             ]
            ],
            "type": "surface"
           }
          ],
          "table": [
           {
            "cells": {
             "fill": {
              "color": "#EBF0F8"
             },
             "line": {
              "color": "white"
             }
            },
            "header": {
             "fill": {
              "color": "#C8D4E3"
             },
             "line": {
              "color": "white"
             }
            },
            "type": "table"
           }
          ]
         },
         "layout": {
          "annotationdefaults": {
           "arrowcolor": "#2a3f5f",
           "arrowhead": 0,
           "arrowwidth": 1
          },
          "coloraxis": {
           "colorbar": {
            "outlinewidth": 0,
            "ticks": ""
           }
          },
          "colorscale": {
           "diverging": [
            [
             0,
             "#8e0152"
            ],
            [
             0.1,
             "#c51b7d"
            ],
            [
             0.2,
             "#de77ae"
            ],
            [
             0.3,
             "#f1b6da"
            ],
            [
             0.4,
             "#fde0ef"
            ],
            [
             0.5,
             "#f7f7f7"
            ],
            [
             0.6,
             "#e6f5d0"
            ],
            [
             0.7,
             "#b8e186"
            ],
            [
             0.8,
             "#7fbc41"
            ],
            [
             0.9,
             "#4d9221"
            ],
            [
             1,
             "#276419"
            ]
           ],
           "sequential": [
            [
             0,
             "#0d0887"
            ],
            [
             0.1111111111111111,
             "#46039f"
            ],
            [
             0.2222222222222222,
             "#7201a8"
            ],
            [
             0.3333333333333333,
             "#9c179e"
            ],
            [
             0.4444444444444444,
             "#bd3786"
            ],
            [
             0.5555555555555556,
             "#d8576b"
            ],
            [
             0.6666666666666666,
             "#ed7953"
            ],
            [
             0.7777777777777778,
             "#fb9f3a"
            ],
            [
             0.8888888888888888,
             "#fdca26"
            ],
            [
             1,
             "#f0f921"
            ]
           ],
           "sequentialminus": [
            [
             0,
             "#0d0887"
            ],
            [
             0.1111111111111111,
             "#46039f"
            ],
            [
             0.2222222222222222,
             "#7201a8"
            ],
            [
             0.3333333333333333,
             "#9c179e"
            ],
            [
             0.4444444444444444,
             "#bd3786"
            ],
            [
             0.5555555555555556,
             "#d8576b"
            ],
            [
             0.6666666666666666,
             "#ed7953"
            ],
            [
             0.7777777777777778,
             "#fb9f3a"
            ],
            [
             0.8888888888888888,
             "#fdca26"
            ],
            [
             1,
             "#f0f921"
            ]
           ]
          },
          "colorway": [
           "#636efa",
           "#EF553B",
           "#00cc96",
           "#ab63fa",
           "#FFA15A",
           "#19d3f3",
           "#FF6692",
           "#B6E880",
           "#FF97FF",
           "#FECB52"
          ],
          "font": {
           "color": "#2a3f5f"
          },
          "geo": {
           "bgcolor": "white",
           "lakecolor": "white",
           "landcolor": "#E5ECF6",
           "showlakes": true,
           "showland": true,
           "subunitcolor": "white"
          },
          "hoverlabel": {
           "align": "left"
          },
          "hovermode": "closest",
          "mapbox": {
           "style": "light"
          },
          "paper_bgcolor": "white",
          "plot_bgcolor": "#E5ECF6",
          "polar": {
           "angularaxis": {
            "gridcolor": "white",
            "linecolor": "white",
            "ticks": ""
           },
           "bgcolor": "#E5ECF6",
           "radialaxis": {
            "gridcolor": "white",
            "linecolor": "white",
            "ticks": ""
           }
          },
          "scene": {
           "xaxis": {
            "backgroundcolor": "#E5ECF6",
            "gridcolor": "white",
            "gridwidth": 2,
            "linecolor": "white",
            "showbackground": true,
            "ticks": "",
            "zerolinecolor": "white"
           },
           "yaxis": {
            "backgroundcolor": "#E5ECF6",
            "gridcolor": "white",
            "gridwidth": 2,
            "linecolor": "white",
            "showbackground": true,
            "ticks": "",
            "zerolinecolor": "white"
           },
           "zaxis": {
            "backgroundcolor": "#E5ECF6",
            "gridcolor": "white",
            "gridwidth": 2,
            "linecolor": "white",
            "showbackground": true,
            "ticks": "",
            "zerolinecolor": "white"
           }
          },
          "shapedefaults": {
           "line": {
            "color": "#2a3f5f"
           }
          },
          "ternary": {
           "aaxis": {
            "gridcolor": "white",
            "linecolor": "white",
            "ticks": ""
           },
           "baxis": {
            "gridcolor": "white",
            "linecolor": "white",
            "ticks": ""
           },
           "bgcolor": "#E5ECF6",
           "caxis": {
            "gridcolor": "white",
            "linecolor": "white",
            "ticks": ""
           }
          },
          "title": {
           "x": 0.05
          },
          "xaxis": {
           "automargin": true,
           "gridcolor": "white",
           "linecolor": "white",
           "ticks": "",
           "title": {
            "standoff": 15
           },
           "zerolinecolor": "white",
           "zerolinewidth": 2
          },
          "yaxis": {
           "automargin": true,
           "gridcolor": "white",
           "linecolor": "white",
           "ticks": "",
           "title": {
            "standoff": 15
           },
           "zerolinecolor": "white",
           "zerolinewidth": 2
          }
         }
        },
        "xaxis": {
         "anchor": "y",
         "domain": [
          0,
          1
         ],
         "title": {
          "text": "Order Date"
         }
        },
        "yaxis": {
         "anchor": "x",
         "domain": [
          0,
          1
         ],
         "title": {
          "text": "Sales"
         }
        }
       }
      }
     },
     "metadata": {}
    }
   ],
   "source": [
    "filtered2 = superstore2.groupby(['Order Date', 'Region'])[\n",
    "    'Sales'].agg(sum).reset_index()\n",
    "fig = px.line(filtered2, x=\"Order Date\", y=\"Sales\", color=\"Region\",\n",
    "color_discrete_sequence=[\"red\", \"green\", \"blue\", \"goldenrod\", \"magenta\"]\n",
    ")\n",
    "fig.show()"
   ]
  },
  {
   "cell_type": "code",
   "execution_count": 36,
   "metadata": {},
   "outputs": [
    {
     "output_type": "execute_result",
     "data": {
      "text/plain": "0        2\n1       24\n2       16\n3        7\n4       20\n        ..\n1945    23\n1946    11\n1947    11\n1948    14\n1949     6\nName: Order Date, Length: 1950, dtype: int64"
     },
     "metadata": {},
     "execution_count": 36
    }
   ],
   "source": []
  },
  {
   "cell_type": "code",
   "execution_count": 47,
   "metadata": {},
   "outputs": [
    {
     "output_type": "display_data",
     "data": {
      "application/vnd.plotly.v1+json": {
       "config": {
        "displayModeBar": false,
        "plotlyServerURL": "https://plot.ly"
       },
       "data": [
        {
         "hovertemplate": "variable=Sales<br>Order Date=%{x}<br>value=%{y}<extra></extra>",
         "legendgroup": "Sales",
         "line": {
          "color": "#636efa",
          "dash": "solid"
         },
         "mode": "lines",
         "name": "Sales",
         "orientation": "v",
         "showlegend": true,
         "type": "scatter",
         "x": [
          "2015-01-01T00:00:00",
          "2015-01-02T00:00:00",
          "2015-01-03T00:00:00",
          "2015-01-04T00:00:00",
          "2015-01-05T00:00:00",
          "2015-01-06T00:00:00",
          "2015-01-07T00:00:00",
          "2015-01-08T00:00:00",
          "2015-01-09T00:00:00",
          "2015-01-10T00:00:00",
          "2015-01-11T00:00:00",
          "2015-01-12T00:00:00",
          "2015-01-13T00:00:00",
          "2015-01-14T00:00:00",
          "2015-01-15T00:00:00",
          "2015-01-16T00:00:00",
          "2015-01-17T00:00:00",
          "2015-01-18T00:00:00",
          "2015-01-19T00:00:00",
          "2015-01-20T00:00:00",
          "2015-01-21T00:00:00",
          "2015-01-22T00:00:00",
          "2015-01-23T00:00:00",
          "2015-01-24T00:00:00",
          "2015-01-25T00:00:00",
          "2015-01-26T00:00:00",
          "2015-01-27T00:00:00",
          "2015-01-28T00:00:00",
          "2015-01-29T00:00:00",
          "2015-01-30T00:00:00",
          "2015-01-31T00:00:00",
          "2015-02-01T00:00:00",
          "2015-02-02T00:00:00",
          "2015-02-03T00:00:00",
          "2015-02-04T00:00:00",
          "2015-02-05T00:00:00",
          "2015-02-06T00:00:00",
          "2015-02-07T00:00:00",
          "2015-02-08T00:00:00",
          "2015-02-09T00:00:00",
          "2015-02-10T00:00:00",
          "2015-02-11T00:00:00",
          "2015-02-12T00:00:00",
          "2015-02-13T00:00:00",
          "2015-02-14T00:00:00",
          "2015-02-15T00:00:00",
          "2015-02-16T00:00:00",
          "2015-02-17T00:00:00",
          "2015-02-18T00:00:00",
          "2015-02-19T00:00:00",
          "2015-02-20T00:00:00",
          "2015-02-21T00:00:00",
          "2015-02-22T00:00:00",
          "2015-02-23T00:00:00",
          "2015-02-24T00:00:00",
          "2015-02-25T00:00:00",
          "2015-02-26T00:00:00",
          "2015-02-27T00:00:00",
          "2015-02-28T00:00:00",
          "2015-03-01T00:00:00",
          "2015-03-02T00:00:00",
          "2015-03-03T00:00:00",
          "2015-03-04T00:00:00",
          "2015-03-05T00:00:00",
          "2015-03-06T00:00:00",
          "2015-03-07T00:00:00",
          "2015-03-08T00:00:00",
          "2015-03-09T00:00:00",
          "2015-03-10T00:00:00",
          "2015-03-11T00:00:00",
          "2015-03-12T00:00:00",
          "2015-03-13T00:00:00",
          "2015-03-14T00:00:00",
          "2015-03-15T00:00:00",
          "2015-03-16T00:00:00",
          "2015-03-17T00:00:00",
          "2015-03-18T00:00:00",
          "2015-03-19T00:00:00",
          "2015-03-20T00:00:00",
          "2015-03-21T00:00:00",
          "2015-03-22T00:00:00",
          "2015-03-23T00:00:00",
          "2015-03-24T00:00:00",
          "2015-03-25T00:00:00",
          "2015-03-26T00:00:00",
          "2015-03-27T00:00:00",
          "2015-03-28T00:00:00",
          "2015-03-29T00:00:00",
          "2015-03-30T00:00:00",
          "2015-03-31T00:00:00",
          "2015-04-01T00:00:00",
          "2015-04-02T00:00:00",
          "2015-04-04T00:00:00",
          "2015-04-05T00:00:00",
          "2015-04-06T00:00:00",
          "2015-04-07T00:00:00",
          "2015-04-08T00:00:00",
          "2015-04-09T00:00:00",
          "2015-04-10T00:00:00",
          "2015-04-11T00:00:00",
          "2015-04-12T00:00:00",
          "2015-04-13T00:00:00",
          "2015-04-14T00:00:00",
          "2015-04-15T00:00:00",
          "2015-04-16T00:00:00",
          "2015-04-17T00:00:00",
          "2015-04-18T00:00:00",
          "2015-04-19T00:00:00",
          "2015-04-20T00:00:00",
          "2015-04-21T00:00:00",
          "2015-04-22T00:00:00",
          "2015-04-23T00:00:00",
          "2015-04-24T00:00:00",
          "2015-04-25T00:00:00",
          "2015-04-26T00:00:00",
          "2015-04-27T00:00:00",
          "2015-04-28T00:00:00",
          "2015-04-29T00:00:00",
          "2015-04-30T00:00:00",
          "2015-05-01T00:00:00",
          "2015-05-02T00:00:00",
          "2015-05-03T00:00:00",
          "2015-05-04T00:00:00",
          "2015-05-05T00:00:00",
          "2015-05-06T00:00:00",
          "2015-05-07T00:00:00",
          "2015-05-08T00:00:00",
          "2015-05-09T00:00:00",
          "2015-05-10T00:00:00",
          "2015-05-11T00:00:00",
          "2015-05-12T00:00:00",
          "2015-05-13T00:00:00",
          "2015-05-14T00:00:00",
          "2015-05-15T00:00:00",
          "2015-05-16T00:00:00",
          "2015-05-17T00:00:00",
          "2015-05-18T00:00:00",
          "2015-05-19T00:00:00",
          "2015-05-20T00:00:00",
          "2015-05-21T00:00:00",
          "2015-05-22T00:00:00",
          "2015-05-23T00:00:00",
          "2015-05-24T00:00:00",
          "2015-05-25T00:00:00",
          "2015-05-26T00:00:00",
          "2015-05-27T00:00:00",
          "2015-05-28T00:00:00",
          "2015-05-29T00:00:00",
          "2015-05-30T00:00:00",
          "2015-06-01T00:00:00",
          "2015-06-02T00:00:00",
          "2015-06-03T00:00:00",
          "2015-06-04T00:00:00",
          "2015-06-05T00:00:00",
          "2015-06-06T00:00:00",
          "2015-06-07T00:00:00",
          "2015-06-08T00:00:00",
          "2015-06-09T00:00:00",
          "2015-06-10T00:00:00",
          "2015-06-11T00:00:00",
          "2015-06-12T00:00:00",
          "2015-06-13T00:00:00",
          "2015-06-14T00:00:00",
          "2015-06-15T00:00:00",
          "2015-06-16T00:00:00",
          "2015-06-17T00:00:00",
          "2015-06-18T00:00:00",
          "2015-06-19T00:00:00",
          "2015-06-20T00:00:00",
          "2015-06-21T00:00:00",
          "2015-06-22T00:00:00",
          "2015-06-23T00:00:00",
          "2015-06-24T00:00:00",
          "2015-06-25T00:00:00",
          "2015-06-26T00:00:00",
          "2015-06-27T00:00:00",
          "2015-06-28T00:00:00",
          "2015-06-29T00:00:00",
          "2015-06-30T00:00:00"
         ],
         "xaxis": "x",
         "y": [
          8860.060000000001,
          24319.92,
          10134.42,
          5470.58,
          20160.51,
          11123.409999999998,
          16551.82,
          5388.839999999999,
          13926.830000000002,
          11520.369999999999,
          3355.12,
          14882.670000000002,
          1772.04,
          5200.1900000000005,
          4829.95,
          3964.13,
          6667.69,
          2987.38,
          1652.8899999999999,
          6109.01,
          12281.51,
          13513.640000000001,
          765.9000000000001,
          16805.47,
          445.25,
          7035.73,
          4036.3900000000003,
          6617.65,
          11666.609999999999,
          5276.23,
          17444.71,
          7529.030000000001,
          20691.02,
          3485.71,
          8893.91,
          17906.15,
          9149.27,
          4720.29,
          1404.04,
          570.1399999999999,
          13160.580000000002,
          23856.93,
          3233.9,
          14090.400000000001,
          22401.479999999996,
          16533.18,
          16120.570000000002,
          1076.3899999999999,
          28264.329999999998,
          2676.2300000000005,
          5978.24,
          56764.539999999986,
          11464.769999999999,
          6812.640000000001,
          5759.990000000001,
          10752.130000000001,
          5425.5,
          3537.4999999999995,
          3842.6099999999997,
          14138.970000000001,
          6407.949999999999,
          262.78000000000003,
          14738.710000000003,
          7721.880000000001,
          6137.2300000000005,
          2711.04,
          5373.5199999999995,
          3255.53,
          7421.79,
          2619.37,
          6679.659999999999,
          6648.490000000001,
          25783.090000000004,
          2943.8199999999997,
          16728.53,
          5244.5199999999995,
          16840.65,
          5402.4800000000005,
          16675.579999999998,
          25857.3,
          9403.56,
          3850.97,
          7449.450000000001,
          9686.069999999998,
          5237.6,
          15468.49,
          2783.9299999999994,
          1516.49,
          15175.699999999997,
          101.71000000000001,
          5203.519999999999,
          25267.499999999996,
          67267.76999999999,
          10775.67,
          16890.22,
          13355.85,
          3637.02,
          22016.769999999993,
          13636.13,
          954.9399999999999,
          490,
          3318.9299999999994,
          1809.72,
          6553.250000000001,
          5886.630000000001,
          13273.289999999999,
          10871.129999999997,
          7818.299999999999,
          22736.909999999996,
          23009.930000000004,
          2565.9,
          10621.210000000001,
          2152.5299999999997,
          37768.200000000004,
          12354.36,
          5296.63,
          31319.000000000004,
          3561.5899999999997,
          9015.8,
          1701.6000000000001,
          12530.769999999999,
          27397.569999999996,
          11200.539999999999,
          25136.129999999997,
          992.07,
          3652.49,
          8591.779999999999,
          909.0899999999999,
          4957.990000000001,
          11588.34,
          6543.61,
          2629.9399999999996,
          7935.95,
          6688.990000000001,
          10835.31,
          7930.9,
          1916.8,
          7445.03,
          24061.33,
          6585.400000000001,
          13664.440000000002,
          20716.769999999997,
          11562.929999999998,
          12568.219999999998,
          8859.189999999999,
          1071.55,
          5378.710000000001,
          36735.799999999996,
          4782.83,
          6929.82,
          4790.6900000000005,
          10096.130000000001,
          4178.57,
          30105.889999999996,
          23121.020000000004,
          16260.81,
          5137.93,
          1229.07,
          1807.72,
          19228.73,
          26689.09,
          10284.630000000001,
          26719.23,
          3011.6000000000004,
          3219.89,
          3968.53,
          10185.36,
          12684.679999999998,
          49028.219999999994,
          2367.99,
          13650.95,
          15196.84,
          572.28,
          10768.77,
          7888.86,
          338.41,
          7990.09,
          3635.91,
          24281.09
         ],
         "yaxis": "y"
        }
       ],
       "layout": {
        "height": 80,
        "legend": {
         "title": {
          "text": "variable"
         },
         "tracegroupgap": 0
        },
        "margin": {
         "b": 5,
         "l": 5,
         "r": 5,
         "t": 5
        },
        "plot_bgcolor": "white",
        "showlegend": false,
        "template": {
         "data": {
          "bar": [
           {
            "error_x": {
             "color": "#2a3f5f"
            },
            "error_y": {
             "color": "#2a3f5f"
            },
            "marker": {
             "line": {
              "color": "#E5ECF6",
              "width": 0.5
             }
            },
            "type": "bar"
           }
          ],
          "barpolar": [
           {
            "marker": {
             "line": {
              "color": "#E5ECF6",
              "width": 0.5
             }
            },
            "type": "barpolar"
           }
          ],
          "carpet": [
           {
            "aaxis": {
             "endlinecolor": "#2a3f5f",
             "gridcolor": "white",
             "linecolor": "white",
             "minorgridcolor": "white",
             "startlinecolor": "#2a3f5f"
            },
            "baxis": {
             "endlinecolor": "#2a3f5f",
             "gridcolor": "white",
             "linecolor": "white",
             "minorgridcolor": "white",
             "startlinecolor": "#2a3f5f"
            },
            "type": "carpet"
           }
          ],
          "choropleth": [
           {
            "colorbar": {
             "outlinewidth": 0,
             "ticks": ""
            },
            "type": "choropleth"
           }
          ],
          "contour": [
           {
            "colorbar": {
             "outlinewidth": 0,
             "ticks": ""
            },
            "colorscale": [
             [
              0,
              "#0d0887"
             ],
             [
              0.1111111111111111,
              "#46039f"
             ],
             [
              0.2222222222222222,
              "#7201a8"
             ],
             [
              0.3333333333333333,
              "#9c179e"
             ],
             [
              0.4444444444444444,
              "#bd3786"
             ],
             [
              0.5555555555555556,
              "#d8576b"
             ],
             [
              0.6666666666666666,
              "#ed7953"
             ],
             [
              0.7777777777777778,
              "#fb9f3a"
             ],
             [
              0.8888888888888888,
              "#fdca26"
             ],
             [
              1,
              "#f0f921"
             ]
            ],
            "type": "contour"
           }
          ],
          "contourcarpet": [
           {
            "colorbar": {
             "outlinewidth": 0,
             "ticks": ""
            },
            "type": "contourcarpet"
           }
          ],
          "heatmap": [
           {
            "colorbar": {
             "outlinewidth": 0,
             "ticks": ""
            },
            "colorscale": [
             [
              0,
              "#0d0887"
             ],
             [
              0.1111111111111111,
              "#46039f"
             ],
             [
              0.2222222222222222,
              "#7201a8"
             ],
             [
              0.3333333333333333,
              "#9c179e"
             ],
             [
              0.4444444444444444,
              "#bd3786"
             ],
             [
              0.5555555555555556,
              "#d8576b"
             ],
             [
              0.6666666666666666,
              "#ed7953"
             ],
             [
              0.7777777777777778,
              "#fb9f3a"
             ],
             [
              0.8888888888888888,
              "#fdca26"
             ],
             [
              1,
              "#f0f921"
             ]
            ],
            "type": "heatmap"
           }
          ],
          "heatmapgl": [
           {
            "colorbar": {
             "outlinewidth": 0,
             "ticks": ""
            },
            "colorscale": [
             [
              0,
              "#0d0887"
             ],
             [
              0.1111111111111111,
              "#46039f"
             ],
             [
              0.2222222222222222,
              "#7201a8"
             ],
             [
              0.3333333333333333,
              "#9c179e"
             ],
             [
              0.4444444444444444,
              "#bd3786"
             ],
             [
              0.5555555555555556,
              "#d8576b"
             ],
             [
              0.6666666666666666,
              "#ed7953"
             ],
             [
              0.7777777777777778,
              "#fb9f3a"
             ],
             [
              0.8888888888888888,
              "#fdca26"
             ],
             [
              1,
              "#f0f921"
             ]
            ],
            "type": "heatmapgl"
           }
          ],
          "histogram": [
           {
            "marker": {
             "colorbar": {
              "outlinewidth": 0,
              "ticks": ""
             }
            },
            "type": "histogram"
           }
          ],
          "histogram2d": [
           {
            "colorbar": {
             "outlinewidth": 0,
             "ticks": ""
            },
            "colorscale": [
             [
              0,
              "#0d0887"
             ],
             [
              0.1111111111111111,
              "#46039f"
             ],
             [
              0.2222222222222222,
              "#7201a8"
             ],
             [
              0.3333333333333333,
              "#9c179e"
             ],
             [
              0.4444444444444444,
              "#bd3786"
             ],
             [
              0.5555555555555556,
              "#d8576b"
             ],
             [
              0.6666666666666666,
              "#ed7953"
             ],
             [
              0.7777777777777778,
              "#fb9f3a"
             ],
             [
              0.8888888888888888,
              "#fdca26"
             ],
             [
              1,
              "#f0f921"
             ]
            ],
            "type": "histogram2d"
           }
          ],
          "histogram2dcontour": [
           {
            "colorbar": {
             "outlinewidth": 0,
             "ticks": ""
            },
            "colorscale": [
             [
              0,
              "#0d0887"
             ],
             [
              0.1111111111111111,
              "#46039f"
             ],
             [
              0.2222222222222222,
              "#7201a8"
             ],
             [
              0.3333333333333333,
              "#9c179e"
             ],
             [
              0.4444444444444444,
              "#bd3786"
             ],
             [
              0.5555555555555556,
              "#d8576b"
             ],
             [
              0.6666666666666666,
              "#ed7953"
             ],
             [
              0.7777777777777778,
              "#fb9f3a"
             ],
             [
              0.8888888888888888,
              "#fdca26"
             ],
             [
              1,
              "#f0f921"
             ]
            ],
            "type": "histogram2dcontour"
           }
          ],
          "mesh3d": [
           {
            "colorbar": {
             "outlinewidth": 0,
             "ticks": ""
            },
            "type": "mesh3d"
           }
          ],
          "parcoords": [
           {
            "line": {
             "colorbar": {
              "outlinewidth": 0,
              "ticks": ""
             }
            },
            "type": "parcoords"
           }
          ],
          "pie": [
           {
            "automargin": true,
            "type": "pie"
           }
          ],
          "scatter": [
           {
            "marker": {
             "colorbar": {
              "outlinewidth": 0,
              "ticks": ""
             }
            },
            "type": "scatter"
           }
          ],
          "scatter3d": [
           {
            "line": {
             "colorbar": {
              "outlinewidth": 0,
              "ticks": ""
             }
            },
            "marker": {
             "colorbar": {
              "outlinewidth": 0,
              "ticks": ""
             }
            },
            "type": "scatter3d"
           }
          ],
          "scattercarpet": [
           {
            "marker": {
             "colorbar": {
              "outlinewidth": 0,
              "ticks": ""
             }
            },
            "type": "scattercarpet"
           }
          ],
          "scattergeo": [
           {
            "marker": {
             "colorbar": {
              "outlinewidth": 0,
              "ticks": ""
             }
            },
            "type": "scattergeo"
           }
          ],
          "scattergl": [
           {
            "marker": {
             "colorbar": {
              "outlinewidth": 0,
              "ticks": ""
             }
            },
            "type": "scattergl"
           }
          ],
          "scattermapbox": [
           {
            "marker": {
             "colorbar": {
              "outlinewidth": 0,
              "ticks": ""
             }
            },
            "type": "scattermapbox"
           }
          ],
          "scatterpolar": [
           {
            "marker": {
             "colorbar": {
              "outlinewidth": 0,
              "ticks": ""
             }
            },
            "type": "scatterpolar"
           }
          ],
          "scatterpolargl": [
           {
            "marker": {
             "colorbar": {
              "outlinewidth": 0,
              "ticks": ""
             }
            },
            "type": "scatterpolargl"
           }
          ],
          "scatterternary": [
           {
            "marker": {
             "colorbar": {
              "outlinewidth": 0,
              "ticks": ""
             }
            },
            "type": "scatterternary"
           }
          ],
          "surface": [
           {
            "colorbar": {
             "outlinewidth": 0,
             "ticks": ""
            },
            "colorscale": [
             [
              0,
              "#0d0887"
             ],
             [
              0.1111111111111111,
              "#46039f"
             ],
             [
              0.2222222222222222,
              "#7201a8"
             ],
             [
              0.3333333333333333,
              "#9c179e"
             ],
             [
              0.4444444444444444,
              "#bd3786"
             ],
             [
              0.5555555555555556,
              "#d8576b"
             ],
             [
              0.6666666666666666,
              "#ed7953"
             ],
             [
              0.7777777777777778,
              "#fb9f3a"
             ],
             [
              0.8888888888888888,
              "#fdca26"
             ],
             [
              1,
              "#f0f921"
             ]
            ],
            "type": "surface"
           }
          ],
          "table": [
           {
            "cells": {
             "fill": {
              "color": "#EBF0F8"
             },
             "line": {
              "color": "white"
             }
            },
            "header": {
             "fill": {
              "color": "#C8D4E3"
             },
             "line": {
              "color": "white"
             }
            },
            "type": "table"
           }
          ]
         },
         "layout": {
          "annotationdefaults": {
           "arrowcolor": "#2a3f5f",
           "arrowhead": 0,
           "arrowwidth": 1
          },
          "coloraxis": {
           "colorbar": {
            "outlinewidth": 0,
            "ticks": ""
           }
          },
          "colorscale": {
           "diverging": [
            [
             0,
             "#8e0152"
            ],
            [
             0.1,
             "#c51b7d"
            ],
            [
             0.2,
             "#de77ae"
            ],
            [
             0.3,
             "#f1b6da"
            ],
            [
             0.4,
             "#fde0ef"
            ],
            [
             0.5,
             "#f7f7f7"
            ],
            [
             0.6,
             "#e6f5d0"
            ],
            [
             0.7,
             "#b8e186"
            ],
            [
             0.8,
             "#7fbc41"
            ],
            [
             0.9,
             "#4d9221"
            ],
            [
             1,
             "#276419"
            ]
           ],
           "sequential": [
            [
             0,
             "#0d0887"
            ],
            [
             0.1111111111111111,
             "#46039f"
            ],
            [
             0.2222222222222222,
             "#7201a8"
            ],
            [
             0.3333333333333333,
             "#9c179e"
            ],
            [
             0.4444444444444444,
             "#bd3786"
            ],
            [
             0.5555555555555556,
             "#d8576b"
            ],
            [
             0.6666666666666666,
             "#ed7953"
            ],
            [
             0.7777777777777778,
             "#fb9f3a"
            ],
            [
             0.8888888888888888,
             "#fdca26"
            ],
            [
             1,
             "#f0f921"
            ]
           ],
           "sequentialminus": [
            [
             0,
             "#0d0887"
            ],
            [
             0.1111111111111111,
             "#46039f"
            ],
            [
             0.2222222222222222,
             "#7201a8"
            ],
            [
             0.3333333333333333,
             "#9c179e"
            ],
            [
             0.4444444444444444,
             "#bd3786"
            ],
            [
             0.5555555555555556,
             "#d8576b"
            ],
            [
             0.6666666666666666,
             "#ed7953"
            ],
            [
             0.7777777777777778,
             "#fb9f3a"
            ],
            [
             0.8888888888888888,
             "#fdca26"
            ],
            [
             1,
             "#f0f921"
            ]
           ]
          },
          "colorway": [
           "#636efa",
           "#EF553B",
           "#00cc96",
           "#ab63fa",
           "#FFA15A",
           "#19d3f3",
           "#FF6692",
           "#B6E880",
           "#FF97FF",
           "#FECB52"
          ],
          "font": {
           "color": "#2a3f5f"
          },
          "geo": {
           "bgcolor": "white",
           "lakecolor": "white",
           "landcolor": "#E5ECF6",
           "showlakes": true,
           "showland": true,
           "subunitcolor": "white"
          },
          "hoverlabel": {
           "align": "left"
          },
          "hovermode": "closest",
          "mapbox": {
           "style": "light"
          },
          "paper_bgcolor": "white",
          "plot_bgcolor": "#E5ECF6",
          "polar": {
           "angularaxis": {
            "gridcolor": "white",
            "linecolor": "white",
            "ticks": ""
           },
           "bgcolor": "#E5ECF6",
           "radialaxis": {
            "gridcolor": "white",
            "linecolor": "white",
            "ticks": ""
           }
          },
          "scene": {
           "xaxis": {
            "backgroundcolor": "#E5ECF6",
            "gridcolor": "white",
            "gridwidth": 2,
            "linecolor": "white",
            "showbackground": true,
            "ticks": "",
            "zerolinecolor": "white"
           },
           "yaxis": {
            "backgroundcolor": "#E5ECF6",
            "gridcolor": "white",
            "gridwidth": 2,
            "linecolor": "white",
            "showbackground": true,
            "ticks": "",
            "zerolinecolor": "white"
           },
           "zaxis": {
            "backgroundcolor": "#E5ECF6",
            "gridcolor": "white",
            "gridwidth": 2,
            "linecolor": "white",
            "showbackground": true,
            "ticks": "",
            "zerolinecolor": "white"
           }
          },
          "shapedefaults": {
           "line": {
            "color": "#2a3f5f"
           }
          },
          "ternary": {
           "aaxis": {
            "gridcolor": "white",
            "linecolor": "white",
            "ticks": ""
           },
           "baxis": {
            "gridcolor": "white",
            "linecolor": "white",
            "ticks": ""
           },
           "bgcolor": "#E5ECF6",
           "caxis": {
            "gridcolor": "white",
            "linecolor": "white",
            "ticks": ""
           }
          },
          "title": {
           "x": 0.05
          },
          "xaxis": {
           "automargin": true,
           "gridcolor": "white",
           "linecolor": "white",
           "ticks": "",
           "title": {
            "standoff": 15
           },
           "zerolinecolor": "white",
           "zerolinewidth": 2
          },
          "yaxis": {
           "automargin": true,
           "gridcolor": "white",
           "linecolor": "white",
           "ticks": "",
           "title": {
            "standoff": 15
           },
           "zerolinecolor": "white",
           "zerolinewidth": 2
          }
         }
        },
        "width": 200,
        "xaxis": {
         "anchor": "y",
         "domain": [
          0,
          1
         ],
         "fixedrange": true,
         "title": {
          "text": "Order Date"
         },
         "visible": false
        },
        "yaxis": {
         "anchor": "x",
         "domain": [
          0,
          1
         ],
         "fixedrange": true,
         "title": {
          "text": "value"
         },
         "visible": false
        }
       }
      }
     },
     "metadata": {}
    }
   ],
   "source": []
  },
  {
   "cell_type": "code",
   "execution_count": 38,
   "metadata": {},
   "outputs": [
    {
     "output_type": "display_data",
     "data": {
      "application/vnd.plotly.v1+json": {
       "config": {
        "displayModeBar": false,
        "plotlyServerURL": "https://plot.ly"
       },
       "data": [
        {
         "hovertemplate": "variable=Sales<br>month=%{x}<br>value=%{y}<extra></extra>",
         "legendgroup": "Sales",
         "line": {
          "color": "#636efa",
          "dash": "solid"
         },
         "mode": "lines",
         "name": "Sales",
         "orientation": "v",
         "showlegend": true,
         "type": "scatter",
         "x": [
          1,
          2,
          3,
          4,
          5,
          6,
          7,
          8,
          9,
          10,
          11,
          12,
          13,
          14,
          15,
          16,
          17,
          18,
          19,
          20,
          21,
          22,
          23,
          24,
          25,
          26,
          27
         ],
         "xaxis": "x",
         "y": [
          48784.97999999999,
          82026.90000000001,
          40304.05,
          51573.670000000006,
          59606.35000000001,
          66250.39,
          93846.61,
          122345.07000000004,
          50269.33999999999,
          43353.11000000001,
          55351.75000000002,
          96152.62000000002,
          45992.99999999998,
          123791.87,
          70980.93000000002,
          49531.250000000015,
          111209.03999999995,
          90822.96000000005,
          55440.090000000004,
          54153.04000000001,
          85952.70000000001,
          69396.29999999999,
          95482.93,
          91096.39999999998,
          84466.27000000003,
          56406.2,
          27917
         ],
         "yaxis": "y"
        }
       ],
       "layout": {
        "height": 80,
        "legend": {
         "title": {
          "text": "variable"
         },
         "tracegroupgap": 0
        },
        "margin": {
         "b": 10,
         "l": 10,
         "r": 10,
         "t": 10
        },
        "plot_bgcolor": "white",
        "showlegend": false,
        "template": {
         "data": {
          "bar": [
           {
            "error_x": {
             "color": "#2a3f5f"
            },
            "error_y": {
             "color": "#2a3f5f"
            },
            "marker": {
             "line": {
              "color": "#E5ECF6",
              "width": 0.5
             }
            },
            "type": "bar"
           }
          ],
          "barpolar": [
           {
            "marker": {
             "line": {
              "color": "#E5ECF6",
              "width": 0.5
             }
            },
            "type": "barpolar"
           }
          ],
          "carpet": [
           {
            "aaxis": {
             "endlinecolor": "#2a3f5f",
             "gridcolor": "white",
             "linecolor": "white",
             "minorgridcolor": "white",
             "startlinecolor": "#2a3f5f"
            },
            "baxis": {
             "endlinecolor": "#2a3f5f",
             "gridcolor": "white",
             "linecolor": "white",
             "minorgridcolor": "white",
             "startlinecolor": "#2a3f5f"
            },
            "type": "carpet"
           }
          ],
          "choropleth": [
           {
            "colorbar": {
             "outlinewidth": 0,
             "ticks": ""
            },
            "type": "choropleth"
           }
          ],
          "contour": [
           {
            "colorbar": {
             "outlinewidth": 0,
             "ticks": ""
            },
            "colorscale": [
             [
              0,
              "#0d0887"
             ],
             [
              0.1111111111111111,
              "#46039f"
             ],
             [
              0.2222222222222222,
              "#7201a8"
             ],
             [
              0.3333333333333333,
              "#9c179e"
             ],
             [
              0.4444444444444444,
              "#bd3786"
             ],
             [
              0.5555555555555556,
              "#d8576b"
             ],
             [
              0.6666666666666666,
              "#ed7953"
             ],
             [
              0.7777777777777778,
              "#fb9f3a"
             ],
             [
              0.8888888888888888,
              "#fdca26"
             ],
             [
              1,
              "#f0f921"
             ]
            ],
            "type": "contour"
           }
          ],
          "contourcarpet": [
           {
            "colorbar": {
             "outlinewidth": 0,
             "ticks": ""
            },
            "type": "contourcarpet"
           }
          ],
          "heatmap": [
           {
            "colorbar": {
             "outlinewidth": 0,
             "ticks": ""
            },
            "colorscale": [
             [
              0,
              "#0d0887"
             ],
             [
              0.1111111111111111,
              "#46039f"
             ],
             [
              0.2222222222222222,
              "#7201a8"
             ],
             [
              0.3333333333333333,
              "#9c179e"
             ],
             [
              0.4444444444444444,
              "#bd3786"
             ],
             [
              0.5555555555555556,
              "#d8576b"
             ],
             [
              0.6666666666666666,
              "#ed7953"
             ],
             [
              0.7777777777777778,
              "#fb9f3a"
             ],
             [
              0.8888888888888888,
              "#fdca26"
             ],
             [
              1,
              "#f0f921"
             ]
            ],
            "type": "heatmap"
           }
          ],
          "heatmapgl": [
           {
            "colorbar": {
             "outlinewidth": 0,
             "ticks": ""
            },
            "colorscale": [
             [
              0,
              "#0d0887"
             ],
             [
              0.1111111111111111,
              "#46039f"
             ],
             [
              0.2222222222222222,
              "#7201a8"
             ],
             [
              0.3333333333333333,
              "#9c179e"
             ],
             [
              0.4444444444444444,
              "#bd3786"
             ],
             [
              0.5555555555555556,
              "#d8576b"
             ],
             [
              0.6666666666666666,
              "#ed7953"
             ],
             [
              0.7777777777777778,
              "#fb9f3a"
             ],
             [
              0.8888888888888888,
              "#fdca26"
             ],
             [
              1,
              "#f0f921"
             ]
            ],
            "type": "heatmapgl"
           }
          ],
          "histogram": [
           {
            "marker": {
             "colorbar": {
              "outlinewidth": 0,
              "ticks": ""
             }
            },
            "type": "histogram"
           }
          ],
          "histogram2d": [
           {
            "colorbar": {
             "outlinewidth": 0,
             "ticks": ""
            },
            "colorscale": [
             [
              0,
              "#0d0887"
             ],
             [
              0.1111111111111111,
              "#46039f"
             ],
             [
              0.2222222222222222,
              "#7201a8"
             ],
             [
              0.3333333333333333,
              "#9c179e"
             ],
             [
              0.4444444444444444,
              "#bd3786"
             ],
             [
              0.5555555555555556,
              "#d8576b"
             ],
             [
              0.6666666666666666,
              "#ed7953"
             ],
             [
              0.7777777777777778,
              "#fb9f3a"
             ],
             [
              0.8888888888888888,
              "#fdca26"
             ],
             [
              1,
              "#f0f921"
             ]
            ],
            "type": "histogram2d"
           }
          ],
          "histogram2dcontour": [
           {
            "colorbar": {
             "outlinewidth": 0,
             "ticks": ""
            },
            "colorscale": [
             [
              0,
              "#0d0887"
             ],
             [
              0.1111111111111111,
              "#46039f"
             ],
             [
              0.2222222222222222,
              "#7201a8"
             ],
             [
              0.3333333333333333,
              "#9c179e"
             ],
             [
              0.4444444444444444,
              "#bd3786"
             ],
             [
              0.5555555555555556,
              "#d8576b"
             ],
             [
              0.6666666666666666,
              "#ed7953"
             ],
             [
              0.7777777777777778,
              "#fb9f3a"
             ],
             [
              0.8888888888888888,
              "#fdca26"
             ],
             [
              1,
              "#f0f921"
             ]
            ],
            "type": "histogram2dcontour"
           }
          ],
          "mesh3d": [
           {
            "colorbar": {
             "outlinewidth": 0,
             "ticks": ""
            },
            "type": "mesh3d"
           }
          ],
          "parcoords": [
           {
            "line": {
             "colorbar": {
              "outlinewidth": 0,
              "ticks": ""
             }
            },
            "type": "parcoords"
           }
          ],
          "pie": [
           {
            "automargin": true,
            "type": "pie"
           }
          ],
          "scatter": [
           {
            "marker": {
             "colorbar": {
              "outlinewidth": 0,
              "ticks": ""
             }
            },
            "type": "scatter"
           }
          ],
          "scatter3d": [
           {
            "line": {
             "colorbar": {
              "outlinewidth": 0,
              "ticks": ""
             }
            },
            "marker": {
             "colorbar": {
              "outlinewidth": 0,
              "ticks": ""
             }
            },
            "type": "scatter3d"
           }
          ],
          "scattercarpet": [
           {
            "marker": {
             "colorbar": {
              "outlinewidth": 0,
              "ticks": ""
             }
            },
            "type": "scattercarpet"
           }
          ],
          "scattergeo": [
           {
            "marker": {
             "colorbar": {
              "outlinewidth": 0,
              "ticks": ""
             }
            },
            "type": "scattergeo"
           }
          ],
          "scattergl": [
           {
            "marker": {
             "colorbar": {
              "outlinewidth": 0,
              "ticks": ""
             }
            },
            "type": "scattergl"
           }
          ],
          "scattermapbox": [
           {
            "marker": {
             "colorbar": {
              "outlinewidth": 0,
              "ticks": ""
             }
            },
            "type": "scattermapbox"
           }
          ],
          "scatterpolar": [
           {
            "marker": {
             "colorbar": {
              "outlinewidth": 0,
              "ticks": ""
             }
            },
            "type": "scatterpolar"
           }
          ],
          "scatterpolargl": [
           {
            "marker": {
             "colorbar": {
              "outlinewidth": 0,
              "ticks": ""
             }
            },
            "type": "scatterpolargl"
           }
          ],
          "scatterternary": [
           {
            "marker": {
             "colorbar": {
              "outlinewidth": 0,
              "ticks": ""
             }
            },
            "type": "scatterternary"
           }
          ],
          "surface": [
           {
            "colorbar": {
             "outlinewidth": 0,
             "ticks": ""
            },
            "colorscale": [
             [
              0,
              "#0d0887"
             ],
             [
              0.1111111111111111,
              "#46039f"
             ],
             [
              0.2222222222222222,
              "#7201a8"
             ],
             [
              0.3333333333333333,
              "#9c179e"
             ],
             [
              0.4444444444444444,
              "#bd3786"
             ],
             [
              0.5555555555555556,
              "#d8576b"
             ],
             [
              0.6666666666666666,
              "#ed7953"
             ],
             [
              0.7777777777777778,
              "#fb9f3a"
             ],
             [
              0.8888888888888888,
              "#fdca26"
             ],
             [
              1,
              "#f0f921"
             ]
            ],
            "type": "surface"
           }
          ],
          "table": [
           {
            "cells": {
             "fill": {
              "color": "#EBF0F8"
             },
             "line": {
              "color": "white"
             }
            },
            "header": {
             "fill": {
              "color": "#C8D4E3"
             },
             "line": {
              "color": "white"
             }
            },
            "type": "table"
           }
          ]
         },
         "layout": {
          "annotationdefaults": {
           "arrowcolor": "#2a3f5f",
           "arrowhead": 0,
           "arrowwidth": 1
          },
          "coloraxis": {
           "colorbar": {
            "outlinewidth": 0,
            "ticks": ""
           }
          },
          "colorscale": {
           "diverging": [
            [
             0,
             "#8e0152"
            ],
            [
             0.1,
             "#c51b7d"
            ],
            [
             0.2,
             "#de77ae"
            ],
            [
             0.3,
             "#f1b6da"
            ],
            [
             0.4,
             "#fde0ef"
            ],
            [
             0.5,
             "#f7f7f7"
            ],
            [
             0.6,
             "#e6f5d0"
            ],
            [
             0.7,
             "#b8e186"
            ],
            [
             0.8,
             "#7fbc41"
            ],
            [
             0.9,
             "#4d9221"
            ],
            [
             1,
             "#276419"
            ]
           ],
           "sequential": [
            [
             0,
             "#0d0887"
            ],
            [
             0.1111111111111111,
             "#46039f"
            ],
            [
             0.2222222222222222,
             "#7201a8"
            ],
            [
             0.3333333333333333,
             "#9c179e"
            ],
            [
             0.4444444444444444,
             "#bd3786"
            ],
            [
             0.5555555555555556,
             "#d8576b"
            ],
            [
             0.6666666666666666,
             "#ed7953"
            ],
            [
             0.7777777777777778,
             "#fb9f3a"
            ],
            [
             0.8888888888888888,
             "#fdca26"
            ],
            [
             1,
             "#f0f921"
            ]
           ],
           "sequentialminus": [
            [
             0,
             "#0d0887"
            ],
            [
             0.1111111111111111,
             "#46039f"
            ],
            [
             0.2222222222222222,
             "#7201a8"
            ],
            [
             0.3333333333333333,
             "#9c179e"
            ],
            [
             0.4444444444444444,
             "#bd3786"
            ],
            [
             0.5555555555555556,
             "#d8576b"
            ],
            [
             0.6666666666666666,
             "#ed7953"
            ],
            [
             0.7777777777777778,
             "#fb9f3a"
            ],
            [
             0.8888888888888888,
             "#fdca26"
            ],
            [
             1,
             "#f0f921"
            ]
           ]
          },
          "colorway": [
           "#636efa",
           "#EF553B",
           "#00cc96",
           "#ab63fa",
           "#FFA15A",
           "#19d3f3",
           "#FF6692",
           "#B6E880",
           "#FF97FF",
           "#FECB52"
          ],
          "font": {
           "color": "#2a3f5f"
          },
          "geo": {
           "bgcolor": "white",
           "lakecolor": "white",
           "landcolor": "#E5ECF6",
           "showlakes": true,
           "showland": true,
           "subunitcolor": "white"
          },
          "hoverlabel": {
           "align": "left"
          },
          "hovermode": "closest",
          "mapbox": {
           "style": "light"
          },
          "paper_bgcolor": "white",
          "plot_bgcolor": "#E5ECF6",
          "polar": {
           "angularaxis": {
            "gridcolor": "white",
            "linecolor": "white",
            "ticks": ""
           },
           "bgcolor": "#E5ECF6",
           "radialaxis": {
            "gridcolor": "white",
            "linecolor": "white",
            "ticks": ""
           }
          },
          "scene": {
           "xaxis": {
            "backgroundcolor": "#E5ECF6",
            "gridcolor": "white",
            "gridwidth": 2,
            "linecolor": "white",
            "showbackground": true,
            "ticks": "",
            "zerolinecolor": "white"
           },
           "yaxis": {
            "backgroundcolor": "#E5ECF6",
            "gridcolor": "white",
            "gridwidth": 2,
            "linecolor": "white",
            "showbackground": true,
            "ticks": "",
            "zerolinecolor": "white"
           },
           "zaxis": {
            "backgroundcolor": "#E5ECF6",
            "gridcolor": "white",
            "gridwidth": 2,
            "linecolor": "white",
            "showbackground": true,
            "ticks": "",
            "zerolinecolor": "white"
           }
          },
          "shapedefaults": {
           "line": {
            "color": "#2a3f5f"
           }
          },
          "ternary": {
           "aaxis": {
            "gridcolor": "white",
            "linecolor": "white",
            "ticks": ""
           },
           "baxis": {
            "gridcolor": "white",
            "linecolor": "white",
            "ticks": ""
           },
           "bgcolor": "#E5ECF6",
           "caxis": {
            "gridcolor": "white",
            "linecolor": "white",
            "ticks": ""
           }
          },
          "title": {
           "x": 0.05
          },
          "xaxis": {
           "automargin": true,
           "gridcolor": "white",
           "linecolor": "white",
           "ticks": "",
           "title": {
            "standoff": 15
           },
           "zerolinecolor": "white",
           "zerolinewidth": 2
          },
          "yaxis": {
           "automargin": true,
           "gridcolor": "white",
           "linecolor": "white",
           "ticks": "",
           "title": {
            "standoff": 15
           },
           "zerolinecolor": "white",
           "zerolinewidth": 2
          }
         }
        },
        "width": 200,
        "xaxis": {
         "anchor": "y",
         "domain": [
          0,
          1
         ],
         "fixedrange": true,
         "title": {
          "text": "month"
         },
         "visible": false
        },
        "yaxis": {
         "anchor": "x",
         "domain": [
          0,
          1
         ],
         "fixedrange": true,
         "title": {
          "text": "value"
         },
         "visible": false
        }
       }
      }
     },
     "metadata": {}
    }
   ],
   "source": []
  },
  {
   "cell_type": "code",
   "execution_count": 21,
   "metadata": {},
   "outputs": [
    {
     "output_type": "display_data",
     "data": {
      "application/vnd.plotly.v1+json": {
       "config": {
        "plotlyServerURL": "https://plot.ly"
       },
       "data": [
        {
         "hovertemplate": "Order Date=%{x}<br>Sales=%{y}<extra></extra>",
         "legendgroup": "",
         "line": {
          "color": "#636efa",
          "dash": "solid"
         },
         "mode": "lines",
         "name": "",
         "orientation": "v",
         "showlegend": false,
         "type": "scatter",
         "x": [
          "2015-01-01T00:00:00",
          "2015-01-02T00:00:00",
          "2015-01-03T00:00:00",
          "2015-01-04T00:00:00",
          "2015-01-05T00:00:00",
          "2015-01-06T00:00:00",
          "2015-01-07T00:00:00",
          "2015-01-08T00:00:00",
          "2015-01-09T00:00:00",
          "2015-01-10T00:00:00",
          "2015-01-11T00:00:00",
          "2015-01-12T00:00:00",
          "2015-01-13T00:00:00",
          "2015-01-14T00:00:00",
          "2015-01-15T00:00:00",
          "2015-01-16T00:00:00",
          "2015-01-17T00:00:00",
          "2015-01-18T00:00:00",
          "2015-01-19T00:00:00",
          "2015-01-20T00:00:00",
          "2015-01-21T00:00:00",
          "2015-01-22T00:00:00",
          "2015-01-23T00:00:00",
          "2015-01-24T00:00:00",
          "2015-01-25T00:00:00",
          "2015-01-26T00:00:00",
          "2015-01-27T00:00:00",
          "2015-01-28T00:00:00",
          "2015-01-29T00:00:00",
          "2015-01-30T00:00:00",
          "2015-01-31T00:00:00",
          "2015-02-01T00:00:00",
          "2015-02-02T00:00:00",
          "2015-02-03T00:00:00",
          "2015-02-04T00:00:00",
          "2015-02-05T00:00:00",
          "2015-02-06T00:00:00",
          "2015-02-07T00:00:00",
          "2015-02-08T00:00:00",
          "2015-02-09T00:00:00",
          "2015-02-10T00:00:00",
          "2015-02-11T00:00:00",
          "2015-02-12T00:00:00",
          "2015-02-13T00:00:00",
          "2015-02-14T00:00:00",
          "2015-02-15T00:00:00",
          "2015-02-16T00:00:00",
          "2015-02-17T00:00:00",
          "2015-02-18T00:00:00",
          "2015-02-19T00:00:00",
          "2015-02-20T00:00:00",
          "2015-02-21T00:00:00",
          "2015-02-22T00:00:00",
          "2015-02-23T00:00:00",
          "2015-02-24T00:00:00",
          "2015-02-25T00:00:00",
          "2015-02-26T00:00:00",
          "2015-02-27T00:00:00",
          "2015-02-28T00:00:00",
          "2015-03-01T00:00:00",
          "2015-03-02T00:00:00",
          "2015-03-03T00:00:00",
          "2015-03-04T00:00:00",
          "2015-03-05T00:00:00",
          "2015-03-06T00:00:00",
          "2015-03-07T00:00:00",
          "2015-03-08T00:00:00",
          "2015-03-09T00:00:00",
          "2015-03-10T00:00:00",
          "2015-03-11T00:00:00",
          "2015-03-12T00:00:00",
          "2015-03-13T00:00:00",
          "2015-03-14T00:00:00",
          "2015-03-15T00:00:00",
          "2015-03-16T00:00:00",
          "2015-03-17T00:00:00",
          "2015-03-18T00:00:00",
          "2015-03-19T00:00:00",
          "2015-03-20T00:00:00",
          "2015-03-21T00:00:00",
          "2015-03-22T00:00:00",
          "2015-03-23T00:00:00",
          "2015-03-24T00:00:00",
          "2015-03-25T00:00:00",
          "2015-03-26T00:00:00",
          "2015-03-27T00:00:00",
          "2015-03-28T00:00:00",
          "2015-03-29T00:00:00",
          "2015-03-30T00:00:00",
          "2015-03-31T00:00:00",
          "2015-04-01T00:00:00",
          "2015-04-02T00:00:00",
          "2015-04-04T00:00:00",
          "2015-04-05T00:00:00",
          "2015-04-06T00:00:00",
          "2015-04-07T00:00:00",
          "2015-04-08T00:00:00",
          "2015-04-09T00:00:00",
          "2015-04-10T00:00:00",
          "2015-04-11T00:00:00",
          "2015-04-12T00:00:00",
          "2015-04-13T00:00:00",
          "2015-04-14T00:00:00",
          "2015-04-15T00:00:00",
          "2015-04-16T00:00:00",
          "2015-04-17T00:00:00",
          "2015-04-18T00:00:00",
          "2015-04-19T00:00:00",
          "2015-04-20T00:00:00",
          "2015-04-21T00:00:00",
          "2015-04-22T00:00:00",
          "2015-04-23T00:00:00",
          "2015-04-24T00:00:00",
          "2015-04-25T00:00:00",
          "2015-04-26T00:00:00",
          "2015-04-27T00:00:00",
          "2015-04-28T00:00:00",
          "2015-04-29T00:00:00",
          "2015-04-30T00:00:00",
          "2015-05-01T00:00:00",
          "2015-05-02T00:00:00",
          "2015-05-03T00:00:00",
          "2015-05-04T00:00:00",
          "2015-05-05T00:00:00",
          "2015-05-06T00:00:00",
          "2015-05-07T00:00:00",
          "2015-05-08T00:00:00",
          "2015-05-09T00:00:00",
          "2015-05-10T00:00:00",
          "2015-05-11T00:00:00",
          "2015-05-12T00:00:00",
          "2015-05-13T00:00:00",
          "2015-05-14T00:00:00",
          "2015-05-15T00:00:00",
          "2015-05-16T00:00:00",
          "2015-05-17T00:00:00",
          "2015-05-18T00:00:00",
          "2015-05-19T00:00:00",
          "2015-05-20T00:00:00",
          "2015-05-21T00:00:00",
          "2015-05-22T00:00:00",
          "2015-05-23T00:00:00",
          "2015-05-24T00:00:00",
          "2015-05-25T00:00:00",
          "2015-05-26T00:00:00",
          "2015-05-27T00:00:00",
          "2015-05-28T00:00:00",
          "2015-05-29T00:00:00",
          "2015-05-30T00:00:00",
          "2015-06-01T00:00:00",
          "2015-06-02T00:00:00",
          "2015-06-03T00:00:00",
          "2015-06-04T00:00:00",
          "2015-06-05T00:00:00",
          "2015-06-06T00:00:00",
          "2015-06-07T00:00:00",
          "2015-06-08T00:00:00",
          "2015-06-09T00:00:00",
          "2015-06-10T00:00:00",
          "2015-06-11T00:00:00",
          "2015-06-12T00:00:00",
          "2015-06-13T00:00:00",
          "2015-06-14T00:00:00",
          "2015-06-15T00:00:00",
          "2015-06-16T00:00:00",
          "2015-06-17T00:00:00",
          "2015-06-18T00:00:00",
          "2015-06-19T00:00:00",
          "2015-06-20T00:00:00",
          "2015-06-21T00:00:00",
          "2015-06-22T00:00:00",
          "2015-06-23T00:00:00",
          "2015-06-24T00:00:00",
          "2015-06-25T00:00:00",
          "2015-06-26T00:00:00",
          "2015-06-27T00:00:00",
          "2015-06-28T00:00:00",
          "2015-06-29T00:00:00",
          "2015-06-30T00:00:00"
         ],
         "xaxis": "x",
         "y": [
          8860.060000000001,
          24319.92,
          10134.42,
          5470.58,
          20160.51,
          11123.409999999998,
          16551.82,
          5388.839999999999,
          13926.830000000002,
          11520.369999999999,
          3355.12,
          14882.670000000002,
          1772.04,
          5200.1900000000005,
          4829.95,
          3964.13,
          6667.69,
          2987.38,
          1652.8899999999999,
          6109.01,
          12281.51,
          13513.640000000001,
          765.9000000000001,
          16805.47,
          445.25,
          7035.73,
          4036.3900000000003,
          6617.65,
          11666.609999999999,
          5276.23,
          17444.71,
          7529.030000000001,
          20691.02,
          3485.71,
          8893.91,
          17906.15,
          9149.27,
          4720.29,
          1404.04,
          570.1399999999999,
          13160.580000000002,
          23856.93,
          3233.9,
          14090.400000000001,
          22401.479999999996,
          16533.18,
          16120.570000000002,
          1076.3899999999999,
          28264.329999999998,
          2676.2300000000005,
          5978.24,
          56764.539999999986,
          11464.769999999999,
          6812.640000000001,
          5759.990000000001,
          10752.130000000001,
          5425.5,
          3537.4999999999995,
          3842.6099999999997,
          14138.970000000001,
          6407.949999999999,
          262.78000000000003,
          14738.710000000003,
          7721.880000000001,
          6137.2300000000005,
          2711.04,
          5373.5199999999995,
          3255.53,
          7421.79,
          2619.37,
          6679.659999999999,
          6648.490000000001,
          25783.090000000004,
          2943.8199999999997,
          16728.53,
          5244.5199999999995,
          16840.65,
          5402.4800000000005,
          16675.579999999998,
          25857.3,
          9403.56,
          3850.97,
          7449.450000000001,
          9686.069999999998,
          5237.6,
          15468.49,
          2783.9299999999994,
          1516.49,
          15175.699999999997,
          101.71000000000001,
          5203.519999999999,
          25267.499999999996,
          67267.76999999999,
          10775.67,
          16890.22,
          13355.85,
          3637.02,
          22016.769999999993,
          13636.13,
          954.9399999999999,
          490,
          3318.9299999999994,
          1809.72,
          6553.250000000001,
          5886.630000000001,
          13273.289999999999,
          10871.129999999997,
          7818.299999999999,
          22736.909999999996,
          23009.930000000004,
          2565.9,
          10621.210000000001,
          2152.5299999999997,
          37768.200000000004,
          12354.36,
          5296.63,
          31319.000000000004,
          3561.5899999999997,
          9015.8,
          1701.6000000000001,
          12530.769999999999,
          27397.569999999996,
          11200.539999999999,
          25136.129999999997,
          992.07,
          3652.49,
          8591.779999999999,
          909.0899999999999,
          4957.990000000001,
          11588.34,
          6543.61,
          2629.9399999999996,
          7935.95,
          6688.990000000001,
          10835.31,
          7930.9,
          1916.8,
          7445.03,
          24061.33,
          6585.400000000001,
          13664.440000000002,
          20716.769999999997,
          11562.929999999998,
          12568.219999999998,
          8859.189999999999,
          1071.55,
          5378.710000000001,
          36735.799999999996,
          4782.83,
          6929.82,
          4790.6900000000005,
          10096.130000000001,
          4178.57,
          30105.889999999996,
          23121.020000000004,
          16260.81,
          5137.93,
          1229.07,
          1807.72,
          19228.73,
          26689.09,
          10284.630000000001,
          26719.23,
          3011.6000000000004,
          3219.89,
          3968.53,
          10185.36,
          12684.679999999998,
          49028.219999999994,
          2367.99,
          13650.95,
          15196.84,
          572.28,
          10768.77,
          7888.86,
          338.41,
          7990.09,
          3635.91,
          24281.09
         ],
         "yaxis": "y"
        }
       ],
       "layout": {
        "legend": {
         "tracegroupgap": 0
        },
        "margin": {
         "t": 60
        },
        "template": {
         "data": {
          "bar": [
           {
            "error_x": {
             "color": "#2a3f5f"
            },
            "error_y": {
             "color": "#2a3f5f"
            },
            "marker": {
             "line": {
              "color": "#E5ECF6",
              "width": 0.5
             }
            },
            "type": "bar"
           }
          ],
          "barpolar": [
           {
            "marker": {
             "line": {
              "color": "#E5ECF6",
              "width": 0.5
             }
            },
            "type": "barpolar"
           }
          ],
          "carpet": [
           {
            "aaxis": {
             "endlinecolor": "#2a3f5f",
             "gridcolor": "white",
             "linecolor": "white",
             "minorgridcolor": "white",
             "startlinecolor": "#2a3f5f"
            },
            "baxis": {
             "endlinecolor": "#2a3f5f",
             "gridcolor": "white",
             "linecolor": "white",
             "minorgridcolor": "white",
             "startlinecolor": "#2a3f5f"
            },
            "type": "carpet"
           }
          ],
          "choropleth": [
           {
            "colorbar": {
             "outlinewidth": 0,
             "ticks": ""
            },
            "type": "choropleth"
           }
          ],
          "contour": [
           {
            "colorbar": {
             "outlinewidth": 0,
             "ticks": ""
            },
            "colorscale": [
             [
              0,
              "#0d0887"
             ],
             [
              0.1111111111111111,
              "#46039f"
             ],
             [
              0.2222222222222222,
              "#7201a8"
             ],
             [
              0.3333333333333333,
              "#9c179e"
             ],
             [
              0.4444444444444444,
              "#bd3786"
             ],
             [
              0.5555555555555556,
              "#d8576b"
             ],
             [
              0.6666666666666666,
              "#ed7953"
             ],
             [
              0.7777777777777778,
              "#fb9f3a"
             ],
             [
              0.8888888888888888,
              "#fdca26"
             ],
             [
              1,
              "#f0f921"
             ]
            ],
            "type": "contour"
           }
          ],
          "contourcarpet": [
           {
            "colorbar": {
             "outlinewidth": 0,
             "ticks": ""
            },
            "type": "contourcarpet"
           }
          ],
          "heatmap": [
           {
            "colorbar": {
             "outlinewidth": 0,
             "ticks": ""
            },
            "colorscale": [
             [
              0,
              "#0d0887"
             ],
             [
              0.1111111111111111,
              "#46039f"
             ],
             [
              0.2222222222222222,
              "#7201a8"
             ],
             [
              0.3333333333333333,
              "#9c179e"
             ],
             [
              0.4444444444444444,
              "#bd3786"
             ],
             [
              0.5555555555555556,
              "#d8576b"
             ],
             [
              0.6666666666666666,
              "#ed7953"
             ],
             [
              0.7777777777777778,
              "#fb9f3a"
             ],
             [
              0.8888888888888888,
              "#fdca26"
             ],
             [
              1,
              "#f0f921"
             ]
            ],
            "type": "heatmap"
           }
          ],
          "heatmapgl": [
           {
            "colorbar": {
             "outlinewidth": 0,
             "ticks": ""
            },
            "colorscale": [
             [
              0,
              "#0d0887"
             ],
             [
              0.1111111111111111,
              "#46039f"
             ],
             [
              0.2222222222222222,
              "#7201a8"
             ],
             [
              0.3333333333333333,
              "#9c179e"
             ],
             [
              0.4444444444444444,
              "#bd3786"
             ],
             [
              0.5555555555555556,
              "#d8576b"
             ],
             [
              0.6666666666666666,
              "#ed7953"
             ],
             [
              0.7777777777777778,
              "#fb9f3a"
             ],
             [
              0.8888888888888888,
              "#fdca26"
             ],
             [
              1,
              "#f0f921"
             ]
            ],
            "type": "heatmapgl"
           }
          ],
          "histogram": [
           {
            "marker": {
             "colorbar": {
              "outlinewidth": 0,
              "ticks": ""
             }
            },
            "type": "histogram"
           }
          ],
          "histogram2d": [
           {
            "colorbar": {
             "outlinewidth": 0,
             "ticks": ""
            },
            "colorscale": [
             [
              0,
              "#0d0887"
             ],
             [
              0.1111111111111111,
              "#46039f"
             ],
             [
              0.2222222222222222,
              "#7201a8"
             ],
             [
              0.3333333333333333,
              "#9c179e"
             ],
             [
              0.4444444444444444,
              "#bd3786"
             ],
             [
              0.5555555555555556,
              "#d8576b"
             ],
             [
              0.6666666666666666,
              "#ed7953"
             ],
             [
              0.7777777777777778,
              "#fb9f3a"
             ],
             [
              0.8888888888888888,
              "#fdca26"
             ],
             [
              1,
              "#f0f921"
             ]
            ],
            "type": "histogram2d"
           }
          ],
          "histogram2dcontour": [
           {
            "colorbar": {
             "outlinewidth": 0,
             "ticks": ""
            },
            "colorscale": [
             [
              0,
              "#0d0887"
             ],
             [
              0.1111111111111111,
              "#46039f"
             ],
             [
              0.2222222222222222,
              "#7201a8"
             ],
             [
              0.3333333333333333,
              "#9c179e"
             ],
             [
              0.4444444444444444,
              "#bd3786"
             ],
             [
              0.5555555555555556,
              "#d8576b"
             ],
             [
              0.6666666666666666,
              "#ed7953"
             ],
             [
              0.7777777777777778,
              "#fb9f3a"
             ],
             [
              0.8888888888888888,
              "#fdca26"
             ],
             [
              1,
              "#f0f921"
             ]
            ],
            "type": "histogram2dcontour"
           }
          ],
          "mesh3d": [
           {
            "colorbar": {
             "outlinewidth": 0,
             "ticks": ""
            },
            "type": "mesh3d"
           }
          ],
          "parcoords": [
           {
            "line": {
             "colorbar": {
              "outlinewidth": 0,
              "ticks": ""
             }
            },
            "type": "parcoords"
           }
          ],
          "pie": [
           {
            "automargin": true,
            "type": "pie"
           }
          ],
          "scatter": [
           {
            "marker": {
             "colorbar": {
              "outlinewidth": 0,
              "ticks": ""
             }
            },
            "type": "scatter"
           }
          ],
          "scatter3d": [
           {
            "line": {
             "colorbar": {
              "outlinewidth": 0,
              "ticks": ""
             }
            },
            "marker": {
             "colorbar": {
              "outlinewidth": 0,
              "ticks": ""
             }
            },
            "type": "scatter3d"
           }
          ],
          "scattercarpet": [
           {
            "marker": {
             "colorbar": {
              "outlinewidth": 0,
              "ticks": ""
             }
            },
            "type": "scattercarpet"
           }
          ],
          "scattergeo": [
           {
            "marker": {
             "colorbar": {
              "outlinewidth": 0,
              "ticks": ""
             }
            },
            "type": "scattergeo"
           }
          ],
          "scattergl": [
           {
            "marker": {
             "colorbar": {
              "outlinewidth": 0,
              "ticks": ""
             }
            },
            "type": "scattergl"
           }
          ],
          "scattermapbox": [
           {
            "marker": {
             "colorbar": {
              "outlinewidth": 0,
              "ticks": ""
             }
            },
            "type": "scattermapbox"
           }
          ],
          "scatterpolar": [
           {
            "marker": {
             "colorbar": {
              "outlinewidth": 0,
              "ticks": ""
             }
            },
            "type": "scatterpolar"
           }
          ],
          "scatterpolargl": [
           {
            "marker": {
             "colorbar": {
              "outlinewidth": 0,
              "ticks": ""
             }
            },
            "type": "scatterpolargl"
           }
          ],
          "scatterternary": [
           {
            "marker": {
             "colorbar": {
              "outlinewidth": 0,
              "ticks": ""
             }
            },
            "type": "scatterternary"
           }
          ],
          "surface": [
           {
            "colorbar": {
             "outlinewidth": 0,
             "ticks": ""
            },
            "colorscale": [
             [
              0,
              "#0d0887"
             ],
             [
              0.1111111111111111,
              "#46039f"
             ],
             [
              0.2222222222222222,
              "#7201a8"
             ],
             [
              0.3333333333333333,
              "#9c179e"
             ],
             [
              0.4444444444444444,
              "#bd3786"
             ],
             [
              0.5555555555555556,
              "#d8576b"
             ],
             [
              0.6666666666666666,
              "#ed7953"
             ],
             [
              0.7777777777777778,
              "#fb9f3a"
             ],
             [
              0.8888888888888888,
              "#fdca26"
             ],
             [
              1,
              "#f0f921"
             ]
            ],
            "type": "surface"
           }
          ],
          "table": [
           {
            "cells": {
             "fill": {
              "color": "#EBF0F8"
             },
             "line": {
              "color": "white"
             }
            },
            "header": {
             "fill": {
              "color": "#C8D4E3"
             },
             "line": {
              "color": "white"
             }
            },
            "type": "table"
           }
          ]
         },
         "layout": {
          "annotationdefaults": {
           "arrowcolor": "#2a3f5f",
           "arrowhead": 0,
           "arrowwidth": 1
          },
          "coloraxis": {
           "colorbar": {
            "outlinewidth": 0,
            "ticks": ""
           }
          },
          "colorscale": {
           "diverging": [
            [
             0,
             "#8e0152"
            ],
            [
             0.1,
             "#c51b7d"
            ],
            [
             0.2,
             "#de77ae"
            ],
            [
             0.3,
             "#f1b6da"
            ],
            [
             0.4,
             "#fde0ef"
            ],
            [
             0.5,
             "#f7f7f7"
            ],
            [
             0.6,
             "#e6f5d0"
            ],
            [
             0.7,
             "#b8e186"
            ],
            [
             0.8,
             "#7fbc41"
            ],
            [
             0.9,
             "#4d9221"
            ],
            [
             1,
             "#276419"
            ]
           ],
           "sequential": [
            [
             0,
             "#0d0887"
            ],
            [
             0.1111111111111111,
             "#46039f"
            ],
            [
             0.2222222222222222,
             "#7201a8"
            ],
            [
             0.3333333333333333,
             "#9c179e"
            ],
            [
             0.4444444444444444,
             "#bd3786"
            ],
            [
             0.5555555555555556,
             "#d8576b"
            ],
            [
             0.6666666666666666,
             "#ed7953"
            ],
            [
             0.7777777777777778,
             "#fb9f3a"
            ],
            [
             0.8888888888888888,
             "#fdca26"
            ],
            [
             1,
             "#f0f921"
            ]
           ],
           "sequentialminus": [
            [
             0,
             "#0d0887"
            ],
            [
             0.1111111111111111,
             "#46039f"
            ],
            [
             0.2222222222222222,
             "#7201a8"
            ],
            [
             0.3333333333333333,
             "#9c179e"
            ],
            [
             0.4444444444444444,
             "#bd3786"
            ],
            [
             0.5555555555555556,
             "#d8576b"
            ],
            [
             0.6666666666666666,
             "#ed7953"
            ],
            [
             0.7777777777777778,
             "#fb9f3a"
            ],
            [
             0.8888888888888888,
             "#fdca26"
            ],
            [
             1,
             "#f0f921"
            ]
           ]
          },
          "colorway": [
           "#636efa",
           "#EF553B",
           "#00cc96",
           "#ab63fa",
           "#FFA15A",
           "#19d3f3",
           "#FF6692",
           "#B6E880",
           "#FF97FF",
           "#FECB52"
          ],
          "font": {
           "color": "#2a3f5f"
          },
          "geo": {
           "bgcolor": "white",
           "lakecolor": "white",
           "landcolor": "#E5ECF6",
           "showlakes": true,
           "showland": true,
           "subunitcolor": "white"
          },
          "hoverlabel": {
           "align": "left"
          },
          "hovermode": "closest",
          "mapbox": {
           "style": "light"
          },
          "paper_bgcolor": "white",
          "plot_bgcolor": "#E5ECF6",
          "polar": {
           "angularaxis": {
            "gridcolor": "white",
            "linecolor": "white",
            "ticks": ""
           },
           "bgcolor": "#E5ECF6",
           "radialaxis": {
            "gridcolor": "white",
            "linecolor": "white",
            "ticks": ""
           }
          },
          "scene": {
           "xaxis": {
            "backgroundcolor": "#E5ECF6",
            "gridcolor": "white",
            "gridwidth": 2,
            "linecolor": "white",
            "showbackground": true,
            "ticks": "",
            "zerolinecolor": "white"
           },
           "yaxis": {
            "backgroundcolor": "#E5ECF6",
            "gridcolor": "white",
            "gridwidth": 2,
            "linecolor": "white",
            "showbackground": true,
            "ticks": "",
            "zerolinecolor": "white"
           },
           "zaxis": {
            "backgroundcolor": "#E5ECF6",
            "gridcolor": "white",
            "gridwidth": 2,
            "linecolor": "white",
            "showbackground": true,
            "ticks": "",
            "zerolinecolor": "white"
           }
          },
          "shapedefaults": {
           "line": {
            "color": "#2a3f5f"
           }
          },
          "ternary": {
           "aaxis": {
            "gridcolor": "white",
            "linecolor": "white",
            "ticks": ""
           },
           "baxis": {
            "gridcolor": "white",
            "linecolor": "white",
            "ticks": ""
           },
           "bgcolor": "#E5ECF6",
           "caxis": {
            "gridcolor": "white",
            "linecolor": "white",
            "ticks": ""
           }
          },
          "title": {
           "x": 0.05
          },
          "xaxis": {
           "automargin": true,
           "gridcolor": "white",
           "linecolor": "white",
           "ticks": "",
           "title": {
            "standoff": 15
           },
           "zerolinecolor": "white",
           "zerolinewidth": 2
          },
          "yaxis": {
           "automargin": true,
           "gridcolor": "white",
           "linecolor": "white",
           "ticks": "",
           "title": {
            "standoff": 15
           },
           "zerolinecolor": "white",
           "zerolinewidth": 2
          }
         }
        },
        "xaxis": {
         "anchor": "y",
         "domain": [
          0,
          1
         ],
         "title": {
          "text": "Order Date"
         }
        },
        "yaxis": {
         "anchor": "x",
         "domain": [
          0,
          1
         ],
         "title": {
          "text": "Sales"
         }
        }
       }
      }
     },
     "metadata": {}
    }
   ],
   "source": [
    "filtered = superstore2.groupby('Order Date')['Sales'].agg(sum).reset_index()\n",
    "fig_1 = px.line(filtered, x=\"Order Date\", y=\"Sales\")\n",
    "fig_1.show()"
   ]
  },
  {
   "cell_type": "code",
   "execution_count": 7,
   "metadata": {},
   "outputs": [
    {
     "output_type": "execute_result",
     "data": {
      "text/plain": "[True, False]"
     },
     "metadata": {},
     "execution_count": 7
    }
   ],
   "source": [
    "\n",
    "pages = {\n",
    "    \"/apps/currency_app\": {\n",
    "        \"title\": \"💸  Currencies\",\n",
    "        \"id\": \"currency_app-link\",\n",
    "    },\n",
    "    \"/apps/app1\": {\n",
    "        \"title\": \"🏪 Superstore\",\n",
    "        \"id\": \"page-1-link\",\n",
    "    }\n",
    "}\n",
    "import dash_bootstrap_components as dbc\n",
    "\n"
   ]
  },
  {
   "cell_type": "code",
   "execution_count": 19,
   "metadata": {},
   "outputs": [
    {
     "output_type": "display_data",
     "data": {
      "application/vnd.plotly.v1+json": {
       "config": {
        "plotlyServerURL": "https://plot.ly"
       },
       "data": [
        {
         "hovertemplate": "Order Date=%{x}<br>Sales=%{y}<extra></extra>",
         "legendgroup": "",
         "line": {
          "color": "#636efa",
          "dash": "solid"
         },
         "mode": "lines",
         "name": "",
         "orientation": "v",
         "showlegend": false,
         "type": "scatter",
         "x": [
          "2015-01-01T00:00:00",
          "2015-01-02T00:00:00",
          "2015-01-03T00:00:00",
          "2015-01-04T00:00:00",
          "2015-01-05T00:00:00",
          "2015-01-06T00:00:00",
          "2015-01-07T00:00:00",
          "2015-01-08T00:00:00",
          "2015-01-09T00:00:00",
          "2015-01-10T00:00:00",
          "2015-01-11T00:00:00",
          "2015-01-12T00:00:00",
          "2015-01-13T00:00:00",
          "2015-01-14T00:00:00",
          "2015-01-15T00:00:00",
          "2015-01-16T00:00:00",
          "2015-01-17T00:00:00",
          "2015-01-18T00:00:00",
          "2015-01-19T00:00:00",
          "2015-01-20T00:00:00",
          "2015-01-21T00:00:00",
          "2015-01-22T00:00:00",
          "2015-01-23T00:00:00",
          "2015-01-24T00:00:00",
          "2015-01-25T00:00:00",
          "2015-01-26T00:00:00",
          "2015-01-27T00:00:00",
          "2015-01-28T00:00:00",
          "2015-01-29T00:00:00",
          "2015-01-30T00:00:00",
          "2015-01-31T00:00:00",
          "2015-02-01T00:00:00",
          "2015-02-02T00:00:00",
          "2015-02-03T00:00:00",
          "2015-02-04T00:00:00",
          "2015-02-05T00:00:00",
          "2015-02-06T00:00:00",
          "2015-02-07T00:00:00",
          "2015-02-08T00:00:00",
          "2015-02-09T00:00:00",
          "2015-02-10T00:00:00",
          "2015-02-11T00:00:00",
          "2015-02-12T00:00:00",
          "2015-02-13T00:00:00",
          "2015-02-14T00:00:00",
          "2015-02-15T00:00:00",
          "2015-02-16T00:00:00",
          "2015-02-17T00:00:00",
          "2015-02-18T00:00:00",
          "2015-02-19T00:00:00",
          "2015-02-20T00:00:00",
          "2015-02-21T00:00:00",
          "2015-02-22T00:00:00",
          "2015-02-23T00:00:00",
          "2015-02-24T00:00:00",
          "2015-02-25T00:00:00",
          "2015-02-26T00:00:00",
          "2015-02-27T00:00:00",
          "2015-02-28T00:00:00",
          "2015-03-01T00:00:00",
          "2015-03-02T00:00:00",
          "2015-03-03T00:00:00",
          "2015-03-04T00:00:00",
          "2015-03-05T00:00:00",
          "2015-03-06T00:00:00",
          "2015-03-07T00:00:00",
          "2015-03-08T00:00:00",
          "2015-03-09T00:00:00",
          "2015-03-10T00:00:00",
          "2015-03-11T00:00:00",
          "2015-03-12T00:00:00",
          "2015-03-13T00:00:00",
          "2015-03-14T00:00:00",
          "2015-03-15T00:00:00",
          "2015-03-16T00:00:00",
          "2015-03-17T00:00:00",
          "2015-03-18T00:00:00",
          "2015-03-19T00:00:00",
          "2015-03-20T00:00:00",
          "2015-03-21T00:00:00",
          "2015-03-22T00:00:00",
          "2015-03-23T00:00:00",
          "2015-03-24T00:00:00",
          "2015-03-25T00:00:00",
          "2015-03-26T00:00:00",
          "2015-03-27T00:00:00",
          "2015-03-28T00:00:00",
          "2015-03-29T00:00:00",
          "2015-03-30T00:00:00",
          "2015-03-31T00:00:00",
          "2015-04-01T00:00:00",
          "2015-04-02T00:00:00",
          "2015-04-04T00:00:00",
          "2015-04-05T00:00:00",
          "2015-04-06T00:00:00",
          "2015-04-07T00:00:00",
          "2015-04-08T00:00:00",
          "2015-04-09T00:00:00",
          "2015-04-10T00:00:00",
          "2015-04-11T00:00:00",
          "2015-04-12T00:00:00",
          "2015-04-13T00:00:00",
          "2015-04-14T00:00:00",
          "2015-04-15T00:00:00",
          "2015-04-16T00:00:00",
          "2015-04-17T00:00:00",
          "2015-04-18T00:00:00",
          "2015-04-19T00:00:00",
          "2015-04-20T00:00:00",
          "2015-04-21T00:00:00",
          "2015-04-22T00:00:00",
          "2015-04-23T00:00:00",
          "2015-04-24T00:00:00",
          "2015-04-25T00:00:00",
          "2015-04-26T00:00:00",
          "2015-04-27T00:00:00",
          "2015-04-28T00:00:00",
          "2015-04-29T00:00:00",
          "2015-04-30T00:00:00",
          "2015-05-01T00:00:00",
          "2015-05-02T00:00:00",
          "2015-05-03T00:00:00",
          "2015-05-04T00:00:00",
          "2015-05-05T00:00:00",
          "2015-05-06T00:00:00",
          "2015-05-07T00:00:00",
          "2015-05-08T00:00:00",
          "2015-05-09T00:00:00",
          "2015-05-10T00:00:00",
          "2015-05-11T00:00:00",
          "2015-05-12T00:00:00",
          "2015-05-13T00:00:00",
          "2015-05-14T00:00:00",
          "2015-05-15T00:00:00",
          "2015-05-16T00:00:00",
          "2015-05-17T00:00:00",
          "2015-05-18T00:00:00",
          "2015-05-19T00:00:00",
          "2015-05-20T00:00:00",
          "2015-05-21T00:00:00",
          "2015-05-22T00:00:00",
          "2015-05-23T00:00:00",
          "2015-05-24T00:00:00",
          "2015-05-25T00:00:00",
          "2015-05-26T00:00:00",
          "2015-05-27T00:00:00",
          "2015-05-28T00:00:00",
          "2015-05-29T00:00:00",
          "2015-05-30T00:00:00",
          "2015-06-01T00:00:00",
          "2015-06-02T00:00:00",
          "2015-06-03T00:00:00",
          "2015-06-04T00:00:00",
          "2015-06-05T00:00:00",
          "2015-06-06T00:00:00",
          "2015-06-07T00:00:00",
          "2015-06-08T00:00:00",
          "2015-06-09T00:00:00",
          "2015-06-10T00:00:00",
          "2015-06-11T00:00:00",
          "2015-06-12T00:00:00",
          "2015-06-13T00:00:00",
          "2015-06-14T00:00:00",
          "2015-06-15T00:00:00",
          "2015-06-16T00:00:00",
          "2015-06-17T00:00:00",
          "2015-06-18T00:00:00",
          "2015-06-19T00:00:00",
          "2015-06-20T00:00:00",
          "2015-06-21T00:00:00",
          "2015-06-22T00:00:00",
          "2015-06-23T00:00:00",
          "2015-06-24T00:00:00",
          "2015-06-25T00:00:00",
          "2015-06-26T00:00:00",
          "2015-06-27T00:00:00",
          "2015-06-28T00:00:00",
          "2015-06-29T00:00:00",
          "2015-06-30T00:00:00"
         ],
         "xaxis": "x",
         "y": [
          8860.060000000001,
          24319.92,
          10134.42,
          5470.58,
          20160.51,
          11123.409999999998,
          16551.82,
          5388.839999999999,
          13926.830000000002,
          11520.369999999999,
          3355.12,
          14882.670000000002,
          1772.04,
          5200.1900000000005,
          4829.95,
          3964.13,
          6667.69,
          2987.38,
          1652.8899999999999,
          6109.01,
          12281.51,
          13513.640000000001,
          765.9000000000001,
          16805.47,
          445.25,
          7035.73,
          4036.3900000000003,
          6617.65,
          11666.609999999999,
          5276.23,
          17444.71,
          7529.030000000001,
          20691.02,
          3485.71,
          8893.91,
          17906.15,
          9149.27,
          4720.29,
          1404.04,
          570.1399999999999,
          13160.580000000002,
          23856.93,
          3233.9,
          14090.400000000001,
          22401.479999999996,
          16533.18,
          16120.570000000002,
          1076.3899999999999,
          28264.329999999998,
          2676.2300000000005,
          5978.24,
          56764.539999999986,
          11464.769999999999,
          6812.640000000001,
          5759.990000000001,
          10752.130000000001,
          5425.5,
          3537.4999999999995,
          3842.6099999999997,
          14138.970000000001,
          6407.949999999999,
          262.78000000000003,
          14738.710000000003,
          7721.880000000001,
          6137.2300000000005,
          2711.04,
          5373.5199999999995,
          3255.53,
          7421.79,
          2619.37,
          6679.659999999999,
          6648.490000000001,
          25783.090000000004,
          2943.8199999999997,
          16728.53,
          5244.5199999999995,
          16840.65,
          5402.4800000000005,
          16675.579999999998,
          25857.3,
          9403.56,
          3850.97,
          7449.450000000001,
          9686.069999999998,
          5237.6,
          15468.49,
          2783.9299999999994,
          1516.49,
          15175.699999999997,
          101.71000000000001,
          5203.519999999999,
          25267.499999999996,
          67267.76999999999,
          10775.67,
          16890.22,
          13355.85,
          3637.02,
          22016.769999999993,
          13636.13,
          954.9399999999999,
          490,
          3318.9299999999994,
          1809.72,
          6553.250000000001,
          5886.630000000001,
          13273.289999999999,
          10871.129999999997,
          7818.299999999999,
          22736.909999999996,
          23009.930000000004,
          2565.9,
          10621.210000000001,
          2152.5299999999997,
          37768.200000000004,
          12354.36,
          5296.63,
          31319.000000000004,
          3561.5899999999997,
          9015.8,
          1701.6000000000001,
          12530.769999999999,
          27397.569999999996,
          11200.539999999999,
          25136.129999999997,
          992.07,
          3652.49,
          8591.779999999999,
          909.0899999999999,
          4957.990000000001,
          11588.34,
          6543.61,
          2629.9399999999996,
          7935.95,
          6688.990000000001,
          10835.31,
          7930.9,
          1916.8,
          7445.03,
          24061.33,
          6585.400000000001,
          13664.440000000002,
          20716.769999999997,
          11562.929999999998,
          12568.219999999998,
          8859.189999999999,
          1071.55,
          5378.710000000001,
          36735.799999999996,
          4782.83,
          6929.82,
          4790.6900000000005,
          10096.130000000001,
          4178.57,
          30105.889999999996,
          23121.020000000004,
          16260.81,
          5137.93,
          1229.07,
          1807.72,
          19228.73,
          26689.09,
          10284.630000000001,
          26719.23,
          3011.6000000000004,
          3219.89,
          3968.53,
          10185.36,
          12684.679999999998,
          49028.219999999994,
          2367.99,
          13650.95,
          15196.84,
          572.28,
          10768.77,
          7888.86,
          338.41,
          7990.09,
          3635.91,
          24281.09
         ],
         "yaxis": "y"
        }
       ],
       "layout": {
        "legend": {
         "tracegroupgap": 0
        },
        "margin": {
         "t": 60
        },
        "template": {
         "data": {
          "bar": [
           {
            "error_x": {
             "color": "#2a3f5f"
            },
            "error_y": {
             "color": "#2a3f5f"
            },
            "marker": {
             "line": {
              "color": "#E5ECF6",
              "width": 0.5
             }
            },
            "type": "bar"
           }
          ],
          "barpolar": [
           {
            "marker": {
             "line": {
              "color": "#E5ECF6",
              "width": 0.5
             }
            },
            "type": "barpolar"
           }
          ],
          "carpet": [
           {
            "aaxis": {
             "endlinecolor": "#2a3f5f",
             "gridcolor": "white",
             "linecolor": "white",
             "minorgridcolor": "white",
             "startlinecolor": "#2a3f5f"
            },
            "baxis": {
             "endlinecolor": "#2a3f5f",
             "gridcolor": "white",
             "linecolor": "white",
             "minorgridcolor": "white",
             "startlinecolor": "#2a3f5f"
            },
            "type": "carpet"
           }
          ],
          "choropleth": [
           {
            "colorbar": {
             "outlinewidth": 0,
             "ticks": ""
            },
            "type": "choropleth"
           }
          ],
          "contour": [
           {
            "colorbar": {
             "outlinewidth": 0,
             "ticks": ""
            },
            "colorscale": [
             [
              0,
              "#0d0887"
             ],
             [
              0.1111111111111111,
              "#46039f"
             ],
             [
              0.2222222222222222,
              "#7201a8"
             ],
             [
              0.3333333333333333,
              "#9c179e"
             ],
             [
              0.4444444444444444,
              "#bd3786"
             ],
             [
              0.5555555555555556,
              "#d8576b"
             ],
             [
              0.6666666666666666,
              "#ed7953"
             ],
             [
              0.7777777777777778,
              "#fb9f3a"
             ],
             [
              0.8888888888888888,
              "#fdca26"
             ],
             [
              1,
              "#f0f921"
             ]
            ],
            "type": "contour"
           }
          ],
          "contourcarpet": [
           {
            "colorbar": {
             "outlinewidth": 0,
             "ticks": ""
            },
            "type": "contourcarpet"
           }
          ],
          "heatmap": [
           {
            "colorbar": {
             "outlinewidth": 0,
             "ticks": ""
            },
            "colorscale": [
             [
              0,
              "#0d0887"
             ],
             [
              0.1111111111111111,
              "#46039f"
             ],
             [
              0.2222222222222222,
              "#7201a8"
             ],
             [
              0.3333333333333333,
              "#9c179e"
             ],
             [
              0.4444444444444444,
              "#bd3786"
             ],
             [
              0.5555555555555556,
              "#d8576b"
             ],
             [
              0.6666666666666666,
              "#ed7953"
             ],
             [
              0.7777777777777778,
              "#fb9f3a"
             ],
             [
              0.8888888888888888,
              "#fdca26"
             ],
             [
              1,
              "#f0f921"
             ]
            ],
            "type": "heatmap"
           }
          ],
          "heatmapgl": [
           {
            "colorbar": {
             "outlinewidth": 0,
             "ticks": ""
            },
            "colorscale": [
             [
              0,
              "#0d0887"
             ],
             [
              0.1111111111111111,
              "#46039f"
             ],
             [
              0.2222222222222222,
              "#7201a8"
             ],
             [
              0.3333333333333333,
              "#9c179e"
             ],
             [
              0.4444444444444444,
              "#bd3786"
             ],
             [
              0.5555555555555556,
              "#d8576b"
             ],
             [
              0.6666666666666666,
              "#ed7953"
             ],
             [
              0.7777777777777778,
              "#fb9f3a"
             ],
             [
              0.8888888888888888,
              "#fdca26"
             ],
             [
              1,
              "#f0f921"
             ]
            ],
            "type": "heatmapgl"
           }
          ],
          "histogram": [
           {
            "marker": {
             "colorbar": {
              "outlinewidth": 0,
              "ticks": ""
             }
            },
            "type": "histogram"
           }
          ],
          "histogram2d": [
           {
            "colorbar": {
             "outlinewidth": 0,
             "ticks": ""
            },
            "colorscale": [
             [
              0,
              "#0d0887"
             ],
             [
              0.1111111111111111,
              "#46039f"
             ],
             [
              0.2222222222222222,
              "#7201a8"
             ],
             [
              0.3333333333333333,
              "#9c179e"
             ],
             [
              0.4444444444444444,
              "#bd3786"
             ],
             [
              0.5555555555555556,
              "#d8576b"
             ],
             [
              0.6666666666666666,
              "#ed7953"
             ],
             [
              0.7777777777777778,
              "#fb9f3a"
             ],
             [
              0.8888888888888888,
              "#fdca26"
             ],
             [
              1,
              "#f0f921"
             ]
            ],
            "type": "histogram2d"
           }
          ],
          "histogram2dcontour": [
           {
            "colorbar": {
             "outlinewidth": 0,
             "ticks": ""
            },
            "colorscale": [
             [
              0,
              "#0d0887"
             ],
             [
              0.1111111111111111,
              "#46039f"
             ],
             [
              0.2222222222222222,
              "#7201a8"
             ],
             [
              0.3333333333333333,
              "#9c179e"
             ],
             [
              0.4444444444444444,
              "#bd3786"
             ],
             [
              0.5555555555555556,
              "#d8576b"
             ],
             [
              0.6666666666666666,
              "#ed7953"
             ],
             [
              0.7777777777777778,
              "#fb9f3a"
             ],
             [
              0.8888888888888888,
              "#fdca26"
             ],
             [
              1,
              "#f0f921"
             ]
            ],
            "type": "histogram2dcontour"
           }
          ],
          "mesh3d": [
           {
            "colorbar": {
             "outlinewidth": 0,
             "ticks": ""
            },
            "type": "mesh3d"
           }
          ],
          "parcoords": [
           {
            "line": {
             "colorbar": {
              "outlinewidth": 0,
              "ticks": ""
             }
            },
            "type": "parcoords"
           }
          ],
          "pie": [
           {
            "automargin": true,
            "type": "pie"
           }
          ],
          "scatter": [
           {
            "marker": {
             "colorbar": {
              "outlinewidth": 0,
              "ticks": ""
             }
            },
            "type": "scatter"
           }
          ],
          "scatter3d": [
           {
            "line": {
             "colorbar": {
              "outlinewidth": 0,
              "ticks": ""
             }
            },
            "marker": {
             "colorbar": {
              "outlinewidth": 0,
              "ticks": ""
             }
            },
            "type": "scatter3d"
           }
          ],
          "scattercarpet": [
           {
            "marker": {
             "colorbar": {
              "outlinewidth": 0,
              "ticks": ""
             }
            },
            "type": "scattercarpet"
           }
          ],
          "scattergeo": [
           {
            "marker": {
             "colorbar": {
              "outlinewidth": 0,
              "ticks": ""
             }
            },
            "type": "scattergeo"
           }
          ],
          "scattergl": [
           {
            "marker": {
             "colorbar": {
              "outlinewidth": 0,
              "ticks": ""
             }
            },
            "type": "scattergl"
           }
          ],
          "scattermapbox": [
           {
            "marker": {
             "colorbar": {
              "outlinewidth": 0,
              "ticks": ""
             }
            },
            "type": "scattermapbox"
           }
          ],
          "scatterpolar": [
           {
            "marker": {
             "colorbar": {
              "outlinewidth": 0,
              "ticks": ""
             }
            },
            "type": "scatterpolar"
           }
          ],
          "scatterpolargl": [
           {
            "marker": {
             "colorbar": {
              "outlinewidth": 0,
              "ticks": ""
             }
            },
            "type": "scatterpolargl"
           }
          ],
          "scatterternary": [
           {
            "marker": {
             "colorbar": {
              "outlinewidth": 0,
              "ticks": ""
             }
            },
            "type": "scatterternary"
           }
          ],
          "surface": [
           {
            "colorbar": {
             "outlinewidth": 0,
             "ticks": ""
            },
            "colorscale": [
             [
              0,
              "#0d0887"
             ],
             [
              0.1111111111111111,
              "#46039f"
             ],
             [
              0.2222222222222222,
              "#7201a8"
             ],
             [
              0.3333333333333333,
              "#9c179e"
             ],
             [
              0.4444444444444444,
              "#bd3786"
             ],
             [
              0.5555555555555556,
              "#d8576b"
             ],
             [
              0.6666666666666666,
              "#ed7953"
             ],
             [
              0.7777777777777778,
              "#fb9f3a"
             ],
             [
              0.8888888888888888,
              "#fdca26"
             ],
             [
              1,
              "#f0f921"
             ]
            ],
            "type": "surface"
           }
          ],
          "table": [
           {
            "cells": {
             "fill": {
              "color": "#EBF0F8"
             },
             "line": {
              "color": "white"
             }
            },
            "header": {
             "fill": {
              "color": "#C8D4E3"
             },
             "line": {
              "color": "white"
             }
            },
            "type": "table"
           }
          ]
         },
         "layout": {
          "annotationdefaults": {
           "arrowcolor": "#2a3f5f",
           "arrowhead": 0,
           "arrowwidth": 1
          },
          "coloraxis": {
           "colorbar": {
            "outlinewidth": 0,
            "ticks": ""
           }
          },
          "colorscale": {
           "diverging": [
            [
             0,
             "#8e0152"
            ],
            [
             0.1,
             "#c51b7d"
            ],
            [
             0.2,
             "#de77ae"
            ],
            [
             0.3,
             "#f1b6da"
            ],
            [
             0.4,
             "#fde0ef"
            ],
            [
             0.5,
             "#f7f7f7"
            ],
            [
             0.6,
             "#e6f5d0"
            ],
            [
             0.7,
             "#b8e186"
            ],
            [
             0.8,
             "#7fbc41"
            ],
            [
             0.9,
             "#4d9221"
            ],
            [
             1,
             "#276419"
            ]
           ],
           "sequential": [
            [
             0,
             "#0d0887"
            ],
            [
             0.1111111111111111,
             "#46039f"
            ],
            [
             0.2222222222222222,
             "#7201a8"
            ],
            [
             0.3333333333333333,
             "#9c179e"
            ],
            [
             0.4444444444444444,
             "#bd3786"
            ],
            [
             0.5555555555555556,
             "#d8576b"
            ],
            [
             0.6666666666666666,
             "#ed7953"
            ],
            [
             0.7777777777777778,
             "#fb9f3a"
            ],
            [
             0.8888888888888888,
             "#fdca26"
            ],
            [
             1,
             "#f0f921"
            ]
           ],
           "sequentialminus": [
            [
             0,
             "#0d0887"
            ],
            [
             0.1111111111111111,
             "#46039f"
            ],
            [
             0.2222222222222222,
             "#7201a8"
            ],
            [
             0.3333333333333333,
             "#9c179e"
            ],
            [
             0.4444444444444444,
             "#bd3786"
            ],
            [
             0.5555555555555556,
             "#d8576b"
            ],
            [
             0.6666666666666666,
             "#ed7953"
            ],
            [
             0.7777777777777778,
             "#fb9f3a"
            ],
            [
             0.8888888888888888,
             "#fdca26"
            ],
            [
             1,
             "#f0f921"
            ]
           ]
          },
          "colorway": [
           "#636efa",
           "#EF553B",
           "#00cc96",
           "#ab63fa",
           "#FFA15A",
           "#19d3f3",
           "#FF6692",
           "#B6E880",
           "#FF97FF",
           "#FECB52"
          ],
          "font": {
           "color": "#2a3f5f"
          },
          "geo": {
           "bgcolor": "white",
           "lakecolor": "white",
           "landcolor": "#E5ECF6",
           "showlakes": true,
           "showland": true,
           "subunitcolor": "white"
          },
          "hoverlabel": {
           "align": "left"
          },
          "hovermode": "closest",
          "mapbox": {
           "style": "light"
          },
          "paper_bgcolor": "white",
          "plot_bgcolor": "#E5ECF6",
          "polar": {
           "angularaxis": {
            "gridcolor": "white",
            "linecolor": "white",
            "ticks": ""
           },
           "bgcolor": "#E5ECF6",
           "radialaxis": {
            "gridcolor": "white",
            "linecolor": "white",
            "ticks": ""
           }
          },
          "scene": {
           "xaxis": {
            "backgroundcolor": "#E5ECF6",
            "gridcolor": "white",
            "gridwidth": 2,
            "linecolor": "white",
            "showbackground": true,
            "ticks": "",
            "zerolinecolor": "white"
           },
           "yaxis": {
            "backgroundcolor": "#E5ECF6",
            "gridcolor": "white",
            "gridwidth": 2,
            "linecolor": "white",
            "showbackground": true,
            "ticks": "",
            "zerolinecolor": "white"
           },
           "zaxis": {
            "backgroundcolor": "#E5ECF6",
            "gridcolor": "white",
            "gridwidth": 2,
            "linecolor": "white",
            "showbackground": true,
            "ticks": "",
            "zerolinecolor": "white"
           }
          },
          "shapedefaults": {
           "line": {
            "color": "#2a3f5f"
           }
          },
          "ternary": {
           "aaxis": {
            "gridcolor": "white",
            "linecolor": "white",
            "ticks": ""
           },
           "baxis": {
            "gridcolor": "white",
            "linecolor": "white",
            "ticks": ""
           },
           "bgcolor": "#E5ECF6",
           "caxis": {
            "gridcolor": "white",
            "linecolor": "white",
            "ticks": ""
           }
          },
          "title": {
           "x": 0.05
          },
          "xaxis": {
           "automargin": true,
           "gridcolor": "white",
           "linecolor": "white",
           "ticks": "",
           "title": {
            "standoff": 15
           },
           "zerolinecolor": "white",
           "zerolinewidth": 2
          },
          "yaxis": {
           "automargin": true,
           "gridcolor": "white",
           "linecolor": "white",
           "ticks": "",
           "title": {
            "standoff": 15
           },
           "zerolinecolor": "white",
           "zerolinewidth": 2
          }
         }
        },
        "xaxis": {
         "anchor": "y",
         "domain": [
          0,
          1
         ],
         "title": {
          "text": "Order Date"
         }
        },
        "yaxis": {
         "anchor": "x",
         "domain": [
          0,
          1
         ],
         "title": {
          "text": "Sales"
         }
        }
       }
      }
     },
     "metadata": {}
    }
   ],
   "source": []
  },
  {
   "cell_type": "code",
   "execution_count": 19,
   "metadata": {},
   "outputs": [
    {
     "output_type": "execute_result",
     "data": {
      "text/plain": "City\nLos Angeles      154806.11\nNew York City    145010.54\nWashington        68946.66\nBoston            49654.82\nSeattle           38437.77\n                   ...    \nDuluth                7.20\nAltus                 7.15\nLaguna Hills          6.97\nWalla Walla           5.90\nJanesville            4.21\nName: Sales, Length: 868, dtype: float64"
     },
     "metadata": {},
     "execution_count": 19
    }
   ],
   "source": [
    "superstore2.groupby(['City'])['Sales'].agg('sum').sort_values(ascending=False)"
   ]
  },
  {
   "cell_type": "code",
   "execution_count": 36,
   "metadata": {},
   "outputs": [
    {
     "output_type": "execute_result",
     "data": {
      "text/plain": [
       "              City      Sales\n",
       "436    Los Angeles  154806.11\n",
       "526  New York City  145010.54\n",
       "811     Washington   68946.66\n",
       "70          Boston   49654.82\n",
       "708        Seattle   38437.77\n",
       "..             ...        ...\n",
       "193         Duluth       7.20\n",
       "14           Altus       7.15\n",
       "393   Laguna Hills       6.97\n",
       "809    Walla Walla       5.90\n",
       "361     Janesville       4.21\n",
       "\n",
       "[868 rows x 2 columns]"
      ],
      "text/html": "<div>\n<style scoped>\n    .dataframe tbody tr th:only-of-type {\n        vertical-align: middle;\n    }\n\n    .dataframe tbody tr th {\n        vertical-align: top;\n    }\n\n    .dataframe thead th {\n        text-align: right;\n    }\n</style>\n<table border=\"1\" class=\"dataframe\">\n  <thead>\n    <tr style=\"text-align: right;\">\n      <th></th>\n      <th>City</th>\n      <th>Sales</th>\n    </tr>\n  </thead>\n  <tbody>\n    <tr>\n      <th>436</th>\n      <td>Los Angeles</td>\n      <td>154806.11</td>\n    </tr>\n    <tr>\n      <th>526</th>\n      <td>New York City</td>\n      <td>145010.54</td>\n    </tr>\n    <tr>\n      <th>811</th>\n      <td>Washington</td>\n      <td>68946.66</td>\n    </tr>\n    <tr>\n      <th>70</th>\n      <td>Boston</td>\n      <td>49654.82</td>\n    </tr>\n    <tr>\n      <th>708</th>\n      <td>Seattle</td>\n      <td>38437.77</td>\n    </tr>\n    <tr>\n      <th>...</th>\n      <td>...</td>\n      <td>...</td>\n    </tr>\n    <tr>\n      <th>193</th>\n      <td>Duluth</td>\n      <td>7.20</td>\n    </tr>\n    <tr>\n      <th>14</th>\n      <td>Altus</td>\n      <td>7.15</td>\n    </tr>\n    <tr>\n      <th>393</th>\n      <td>Laguna Hills</td>\n      <td>6.97</td>\n    </tr>\n    <tr>\n      <th>809</th>\n      <td>Walla Walla</td>\n      <td>5.90</td>\n    </tr>\n    <tr>\n      <th>361</th>\n      <td>Janesville</td>\n      <td>4.21</td>\n    </tr>\n  </tbody>\n</table>\n<p>868 rows × 2 columns</p>\n</div>"
     },
     "metadata": {},
     "execution_count": 36
    }
   ],
   "source": [
    "top_locations = superstore2.groupby(\"City\")['Sales'].agg('sum').reset_index().sort_values(\"Sales\",ascending=False)\n",
    "\n",
    "top_locations"
   ]
  },
  {
   "cell_type": "code",
   "execution_count": 9,
   "metadata": {},
   "outputs": [
    {
     "output_type": "display_data",
     "data": {
      "application/vnd.plotly.v1+json": {
       "config": {
        "plotlyServerURL": "https://plot.ly"
       },
       "data": [
        {
         "hovertemplate": "<b>%{hovertext}</b><br><br>Latitude=%{lat}<br>Longitude=%{lon}<extra></extra>",
         "hovertext": [
          "Anacortes",
          "San Gabriel",
          "San Gabriel",
          "Roselle",
          "Prior Lake",
          "Prior Lake",
          "Prior Lake",
          "Prior Lake",
          "Prior Lake",
          "Prior Lake",
          "Prior Lake",
          "Prior Lake",
          "Smithtown",
          "Smithtown",
          "Syracuse",
          "Syracuse",
          "Helena",
          "Missoula",
          "New York City",
          "New York City",
          "New York City",
          "Laguna Niguel",
          "Laguna Niguel",
          "Lakewood",
          "Grants Pass",
          "Grants Pass",
          "Grants Pass",
          "Grants Pass",
          "Gresham",
          "Gresham",
          "Redmond",
          "Redmond",
          "Redmond",
          "Puyallup",
          "Tonawanda",
          "Tonawanda",
          "Round Rock",
          "Round Rock",
          "Salem",
          "Salem",
          "Napa",
          "New York City",
          "New York City",
          "New York City",
          "New York City",
          "New York City",
          "New York City",
          "New York City",
          "New York City",
          "New York City",
          "New York City",
          "Burlington",
          "Burlington",
          "Canton",
          "Cincinnati",
          "Cincinnati",
          "Vacaville",
          "Vacaville",
          "Vacaville",
          "Vallejo",
          "Vallejo",
          "Vallejo",
          "Terrytown",
          "Terrytown",
          "Terrytown",
          "Chicago",
          "Chicago",
          "Chicago",
          "Chicago",
          "Manhattan",
          "Manhattan",
          "Biddeford",
          "Boston",
          "Boston",
          "Boston",
          "Dover",
          "Lodi",
          "Lake Oswego",
          "Lake Oswego",
          "Lake Oswego",
          "Mcminnville",
          "Seattle",
          "Seattle",
          "Seattle",
          "Seattle",
          "Layton",
          "Layton",
          "Layton",
          "Layton",
          "Tysons Corner",
          "Alton",
          "Alton",
          "Petaluma",
          "Petaluma",
          "Ansonia",
          "Yarmouth",
          "West Mifflin",
          "West Mifflin",
          "Pittsburgh",
          "Pittsburgh",
          "Watauga",
          "Watauga",
          "Kingsport",
          "Kingsport",
          "Knoxville",
          "Knoxville",
          "Knoxville",
          "Knoxville",
          "Fort Collins",
          "Fort Collins",
          "Fort Collins",
          "Richland",
          "Richland",
          "Lebanon",
          "Baton Rouge",
          "Baton Rouge",
          "Baton Rouge",
          "Fort Lee",
          "Fort Lee",
          "San Francisco",
          "San Francisco",
          "Arlington",
          "Gainesville",
          "Gainesville",
          "Arlington Heights",
          "Aurora",
          "Aurora",
          "Aurora",
          "Aurora",
          "Lehi",
          "Lehi",
          "Overland Park",
          "Detroit",
          "Bartlesville",
          "Bartlesville",
          "Bartlesville",
          "Troy",
          "Troy",
          "Troy",
          "Troy",
          "Utica",
          "Utica",
          "Utica",
          "Murray",
          "Mint Hill",
          "Orland Park",
          "Orland Park",
          "Newton",
          "Newton",
          "Newton",
          "Newton",
          "Newton",
          "Newton",
          "Louisville",
          "Louisville",
          "Louisville",
          "Fountain",
          "Grand Junction",
          "Grand Junction",
          "Grand Junction",
          "Maryville",
          "Maryville",
          "Maryville",
          "Richfield",
          "Richfield",
          "Highlands Ranch",
          "Hanover",
          "Seminole",
          "Santa Fe",
          "Cleveland Heights",
          "San Antonio",
          "San Antonio",
          "San Antonio",
          "Flagstaff",
          "Flagstaff",
          "Gilbert",
          "Gilbert",
          "Gilbert",
          "Forest Park",
          "Charlotte",
          "Charlotte",
          "Charlotte",
          "Charlotte",
          "Fairfield",
          "Newington",
          "Newington",
          "Belleville",
          "Newark",
          "Shawnee",
          "Shawnee",
          "Wichita",
          "Wichita",
          "Loveland",
          "Pikesville",
          "Pikesville",
          "Seattle",
          "Seattle",
          "Seattle",
          "Seattle",
          "Seattle",
          "Seattle",
          "Forest Park",
          "Belchertown",
          "Lemon Grove",
          "Lemon Grove",
          "Lemon Grove",
          "Potomac",
          "Batavia",
          "Batavia",
          "Sanford",
          "Sanford",
          "Sanford",
          "Sanford",
          "Sanford",
          "Sanford",
          "Goffstown",
          "Medford",
          "Medford",
          "Columbus",
          "Columbus",
          "Miami",
          "Bangor",
          "Bangor",
          "Bangor",
          "Portland",
          "Miami",
          "Miami",
          "Miami",
          "Watertown",
          "Watertown",
          "Glendale",
          "Glendale",
          "Kingman",
          "King of Prussia",
          "Cranston",
          "Oakland",
          "Oakland",
          "Lewiston",
          "Lewiston",
          "Lewiston",
          "Everett",
          "Detroit",
          "Detroit",
          "Detroit",
          "Morristown",
          "Morristown",
          "Bloomington",
          "Drexel Hill",
          "Drexel Hill",
          "Grand Island",
          "Kearney",
          "Kearney",
          "Lincoln",
          "Clayton",
          "Clayton",
          "Clayton",
          "Auburn",
          "Albemarle",
          "Albemarle",
          "Cuyahoga Falls",
          "Dayton",
          "South Vineland",
          "San Juan",
          "Elizabeth",
          "Carson City",
          "Carson City",
          "Carson City",
          "Lunenburg",
          "Urbana",
          "Urbana",
          "Norfolk",
          "Norfolk",
          "Norfolk",
          "Roseville",
          "Roseville",
          "Los Altos",
          "Los Altos",
          "Los Altos",
          "Los Altos",
          "Los Banos",
          "Los Gatos",
          "Millville",
          "West Hollywood",
          "Bellingham",
          "Beverly",
          "Hanson",
          "Hawthorne",
          "Trenton",
          "Atlanta",
          "Atlanta",
          "Atlanta",
          "Atlanta",
          "Atlanta",
          "Randallstown",
          "Oswego",
          "Oswego",
          "Oswego",
          "Fresno",
          "South Portland",
          "South Portland",
          "Norwood",
          "New York City",
          "New York City",
          "New York City",
          "New York City",
          "Seatac",
          "Seatac",
          "Murfreesboro",
          "Murfreesboro",
          "Murfreesboro",
          "Bowling Green",
          "Bowling Green",
          "Covington",
          "Covington",
          "Manteca",
          "Manteca",
          "Redmond",
          "Redmond",
          "Redmond",
          "Farragut",
          "Farragut",
          "Mesa",
          "Mesa",
          "Mesa",
          "Vernon Hills",
          "Vernon Hills",
          "Morgantown",
          "Roswell",
          "Roswell",
          "Seguin",
          "Seguin",
          "Seguin",
          "Seguin",
          "Sherman",
          "Los Angeles",
          "Los Angeles",
          "Los Angeles",
          "Los Angeles",
          "Pleasant Grove",
          "Pleasant Grove",
          "Pleasant Grove",
          "Provo",
          "Provo",
          "Columbus",
          "Columbus",
          "Columbus",
          "Henderson",
          "Pekin",
          "Pekin",
          "Pomona",
          "Naugatuck",
          "Seymour",
          "Seymour",
          "Auburn",
          "Auburn",
          "Auburn",
          "Auburn",
          "Woburn",
          "Concord",
          "Wilmette",
          "Woodridge",
          "Anderson",
          "Anderson",
          "Anderson",
          "Carmel",
          "Carmel",
          "Carmel",
          "Columbus",
          "Reisterstown",
          "Pueblo",
          "Pueblo",
          "Pueblo",
          "Los Angeles",
          "Los Angeles",
          "Los Angeles",
          "Los Angeles",
          "Los Angeles",
          "Los Angeles",
          "Los Angeles",
          "Los Angeles",
          "Los Angeles",
          "West Islip",
          "Pueblo West",
          "Pueblo West",
          "Pueblo West",
          "Southgate",
          "Southgate",
          "Manchester",
          "Rutland",
          "Rutland",
          "Rutland",
          "Steubenville",
          "Steubenville",
          "Saint Paul",
          "Saint Paul",
          "Santa Clara",
          "Santa Cruz",
          "Santa Cruz",
          "Santa Maria",
          "Santa Maria",
          "Seattle",
          "Seattle",
          "Seattle",
          "Seattle",
          "Seattle",
          "Shakopee",
          "Bolingbrook",
          "Buffalo Grove",
          "Buffalo Grove",
          "Buffalo Grove",
          "Las Vegas",
          "Las Vegas",
          "Las Vegas",
          "Las Vegas",
          "Rancho Cucamonga",
          "Rancho Cucamonga",
          "Rancho Cucamonga",
          "Rancho Cucamonga",
          "Oxford",
          "South Burlington",
          "South Burlington",
          "South Burlington",
          "South Burlington",
          "Nashville",
          "Dallas",
          "Dallas",
          "Ottumwa",
          "Ottumwa",
          "Raytown",
          "Rose Hill",
          "Rose Hill",
          "Spanaway",
          "Spanaway",
          "Spokane",
          "Papillion",
          "Papillion",
          "Papillion",
          "Omaha",
          "Saint Louis",
          "Saint Louis",
          "Saint Peters",
          "Tacoma",
          "Thornton",
          "Thornton",
          "Thornton",
          "Thornton",
          "Thornton",
          "Crown Point",
          "Crown Point",
          "Crown Point",
          "East Chicago",
          "East Chicago",
          "East Chicago",
          "East Chicago",
          "Seattle",
          "Seattle",
          "Seattle",
          "Seattle",
          "Seattle",
          "Los Angeles",
          "Los Angeles",
          "Los Angeles",
          "Los Angeles",
          "Los Angeles",
          "Los Angeles",
          "Los Angeles",
          "Los Angeles",
          "Los Angeles",
          "Santa Rosa",
          "Santa Rosa",
          "Santa Rosa",
          "Santa Rosa",
          "Winthrop",
          "Pahrump",
          "Pahrump",
          "Frankfort",
          "Frankfort",
          "Frankfort",
          "Stratford",
          "Stratford",
          "Burlington",
          "Salem",
          "Bloomfield",
          "Cranford",
          "Cranford",
          "Summit",
          "Oro Valley",
          "Oro Valley",
          "Oro Valley",
          "Oro Valley",
          "Peoria",
          "Florence",
          "Georgetown",
          "Prescott",
          "Prescott",
          "Prescott Valley",
          "Prescott Valley",
          "Tualatin",
          "Tualatin",
          "Quincy",
          "Vancouver",
          "Rock Island",
          "West Linn",
          "West Linn",
          "West Linn",
          "Allentown",
          "Allentown",
          "Allentown",
          "Allentown",
          "Whittier",
          "Bristol",
          "Bristol",
          "Mission Viejo",
          "Mustang",
          "Roy",
          "Roy",
          "Roy",
          "Roy",
          "Roy",
          "Hilton Head Island",
          "Hilton Head Island",
          "Hilton Head Island",
          "Hilton Head Island",
          "Hilton Head Island",
          "Hilton Head Island",
          "Hilton Head Island",
          "Hilton Head Island",
          "New Smyrna Beach",
          "Walla Walla",
          "Smyrna",
          "Spring Hill",
          "Abilene",
          "Amarillo",
          "Amarillo",
          "Texarkana",
          "Texarkana",
          "Wheat Ridge",
          "Gilroy",
          "Goleta",
          "Hacienda Heights",
          "Hacienda Heights",
          "Hacienda Heights",
          "Hacienda Heights",
          "Hesperia",
          "Branford",
          "Danbury",
          "Shoreview",
          "Shoreview",
          "Shoreview",
          "Shoreview",
          "Reno",
          "Reno",
          "Reno",
          "Salt Lake City",
          "Salt Lake City",
          "Scottsdale",
          "Scottsdale",
          "Bedford",
          "Bedford",
          "Washington",
          "Washington",
          "Washington",
          "Denton",
          "Denton",
          "Denton",
          "New York City",
          "New York City",
          "New York City",
          "New York City",
          "Altoona",
          "Altoona",
          "Altoona",
          "Altoona",
          "Wilmington",
          "Henderson",
          "Henderson",
          "Wheeling",
          "Wheeling",
          "Wheeling",
          "Bryan",
          "Burleson",
          "Burleson",
          "Redding",
          "Redlands",
          "Redlands",
          "Redlands",
          "Redlands",
          "Augusta",
          "Augusta",
          "Old Bridge",
          "Redondo Beach",
          "Redondo Beach",
          "New Milford",
          "Saratoga",
          "Bayonne",
          "Bayonne",
          "Los Angeles",
          "Los Angeles",
          "Los Angeles",
          "Los Angeles",
          "Los Angeles",
          "Los Angeles",
          "Los Angeles",
          "Highland Village",
          "Highland Village",
          "Redwood City",
          "Chicago",
          "Riverside",
          "Riverside",
          "Boston",
          "Searcy",
          "Oxnard",
          "Oxnard",
          "West Scarborough",
          "Ridgewood",
          "Bennington",
          "Bennington",
          "Gorham",
          "Gorham",
          "Saco",
          "Bryant",
          "Bryant",
          "Bryant",
          "Bryant",
          "Apex",
          "Asheville",
          "Cary",
          "Cary",
          "Pittsburg",
          "Pittsburg",
          "Pittsburg",
          "Wilkinsburg",
          "Wilkinsburg",
          "Central Islip",
          "Central Islip",
          "Central Islip",
          "Cheektowaga",
          "Cheektowaga",
          "Commack",
          "Commack",
          "Delaware",
          "Dublin",
          "Belle Glade",
          "Woodland",
          "Woodland",
          "Yuba City",
          "Los Angeles",
          "Los Angeles",
          "Los Angeles",
          "Los Angeles",
          "Los Angeles",
          "Boston",
          "Surprise",
          "Surprise",
          "Surprise",
          "Coram",
          "Coram",
          "Coram",
          "Burbank",
          "Calumet City",
          "Carbondale",
          "Bethlehem",
          "Romeoville",
          "Saint Charles",
          "Springfield",
          "Deer Park",
          "Deer Park",
          "Deer Park",
          "Deer Park",
          "Dix Hills",
          "New York City",
          "Dallas",
          "Dallas",
          "Dallas",
          "Lake Jackson",
          "Lancaster",
          "Lancaster",
          "Lancaster",
          "Laredo",
          "Yucaipa",
          "Yucaipa",
          "Arvada",
          "Arvada",
          "Tucson",
          "Temecula",
          "Temecula",
          "Roseville",
          "Roseville",
          "Norwich",
          "Eagle Pass",
          "Eagle Pass",
          "Edinburg",
          "Boston",
          "Boston",
          "Boston",
          "Boston",
          "Boston",
          "Boston",
          "El Paso",
          "Euless",
          "Euless",
          "Euless",
          "Euless",
          "Farmers Branch",
          "Carol Stream",
          "The Colony",
          "Waco",
          "Waco",
          "South Hadley",
          "Montebello",
          "Montebello",
          "Tewksbury",
          "Union City",
          "Newark",
          "Newark",
          "Altamonte Springs",
          "Altamonte Springs",
          "Altamonte Springs",
          "Altamonte Springs",
          "Spanish Fork",
          "Springville",
          "Madison",
          "Madison",
          "Huntington Beach",
          "Huntington Beach",
          "Huntington Beach",
          "Huntington Beach",
          "New Britain",
          "Washington",
          "Washington",
          "Washington",
          "Washington",
          "Washington",
          "Washington",
          "Washington",
          "Washington",
          "Immokalee",
          "Sudbury",
          "Nashua",
          "Elmwood Park",
          "South Orange",
          "Cranston",
          "Fort Wayne",
          "Gary",
          "Gary",
          "Granger",
          "Granger",
          "Granger",
          "Boston",
          "Pawtucket",
          "Philadelphia",
          "Philadelphia",
          "Philadelphia",
          "Sulphur Springs",
          "Sulphur Springs",
          "Sulphur Springs",
          "Flower Mound",
          "Flower Mound",
          "Flower Mound",
          "Flower Mound",
          "Carrollton",
          "Carrollton",
          "Carrollton",
          "Carrollton",
          "Cedar Hill",
          "Auburn",
          "Auburn",
          "New York City",
          "New York City",
          "New York City",
          "Leander",
          "Leander",
          "Carpentersville",
          "Carpentersville",
          "Carpentersville",
          "Cedar Park",
          "Cedar Park",
          "Cedar Park",
          "Channelview",
          "Channelview",
          "Channelview",
          "Aurora",
          "Aurora",
          "Danville",
          "Broomfield",
          "Altus",
          "Boca Raton",
          "Boca Raton",
          "Boca Raton",
          "La Mesa",
          "La Mesa",
          "Hammond",
          "Hammond",
          "Vincennes",
          "Vincennes",
          "Philadelphia",
          "Philadelphia",
          "Tooele",
          "Tooele",
          "West Jordan",
          "West Valley City",
          "West Valley City",
          "Coos Bay",
          "Coos Bay",
          "Coos Bay",
          "Los Angeles",
          "Los Angeles",
          "Los Angeles",
          "Los Angeles",
          "Colorado Springs",
          "Commerce City",
          "Commerce City",
          "Commerce City",
          "Commerce City",
          "Chicago",
          "New York City",
          "New York City",
          "New York City",
          "New York City",
          "Chambersburg",
          "Chambersburg",
          "Chambersburg",
          "Brandon",
          "Carol City",
          "Coconut Creek",
          "Camp Springs",
          "Camp Springs",
          "Weatherford",
          "Weatherford",
          "Weslaco",
          "Weslaco",
          "Muscatine",
          "Allen Park",
          "Allen Park",
          "Allen Park",
          "Casselberry",
          "Casselberry",
          "Lubbock",
          "Lufkin",
          "Mansfield",
          "Mansfield",
          "Mansfield",
          "Stockton",
          "Stockton",
          "Stockton",
          "Portsmouth",
          "Alexandria",
          "Alexandria",
          "Alexandria",
          "Alexandria",
          "Menlo Park",
          "Menlo Park",
          "Menlo Park",
          "Menlo Park",
          "Sunnyvale",
          "Sunnyvale",
          "Chicago",
          "Chicago",
          "Battle Creek",
          "Battle Creek",
          "Moreno Valley",
          "Mountain View",
          "Boston",
          "Boston",
          "Boston",
          "Boston",
          "Boston",
          "Boston",
          "Indianapolis",
          "Indianapolis",
          "Indianapolis",
          "Indianapolis",
          "Kokomo",
          "Lafayette",
          "Lafayette",
          "Englewood",
          "Englewood",
          "Englewood",
          "Englewood",
          "Bay City",
          "Bay City",
          "Bay City",
          "Jeffersonville",
          "Jeffersonville",
          "Jeffersonville",
          "Elyria",
          "Euclid",
          "Springfield",
          "Springfield",
          "Springfield",
          "South Lake Tahoe",
          "Taylors",
          "Columbus",
          "Columbus",
          "Clearfield",
          "Clearfield",
          "Westerville",
          "Westerville",
          "Westlake",
          "Westlake",
          "Wooster",
          "Des Plaines",
          "Des Plaines",
          "Des Plaines",
          "Des Plaines",
          "Downers Grove",
          "Downers Grove",
          "Downers Grove",
          "Ozark",
          "Dundalk",
          "Dundalk",
          "Elmira",
          "Elmira",
          "Coral Gables",
          "Coral Gables",
          "Coral Gables",
          "Coral Springs",
          "Coral Springs",
          "Coral Springs",
          "College Station",
          "Muncie",
          "Hopkins",
          "Birmingham",
          "Decatur",
          "Decatur",
          "Decatur",
          "Eden",
          "Palm Coast",
          "University City",
          "University City",
          "University City",
          "Richmond",
          "Biloxi",
          "Clinton",
          "Greenville",
          "Gulfport",
          "Gulfport",
          "Annandale",
          "Annandale",
          "Blacksburg",
          "Blacksburg",
          "Blacksburg",
          "Fayetteville",
          "Waterville",
          "Willoughby",
          "Huntington",
          "Huntington",
          "Huntington",
          "Waldorf",
          "Woodmere",
          "Woodmere",
          "Woodmere",
          "Franklin Square",
          "Franklin Square",
          "Franklin Square",
          "Freeport",
          "Freeport",
          "Sacramento",
          "Sacramento",
          "Hopkinton",
          "Highland",
          "Highland",
          "Lancaster",
          "Schererville",
          "Schererville",
          "Schererville",
          "Glen Cove",
          "Glen Cove",
          "Glen Cove",
          "Glen Cove",
          "Greeneville",
          "Hattiesburg",
          "Hattiesburg",
          "Horn Lake",
          "Jackson",
          "Salinas",
          "Salinas",
          "Salinas",
          "Stamford",
          "Friendswood",
          "Friendswood",
          "Bethpage",
          "Woodstock",
          "Woodstock",
          "Asheboro",
          "Asheboro",
          "Asheboro",
          "Thousand Oaks",
          "Thousand Oaks",
          "Laguna Hills",
          "Burke",
          "Burke",
          "Charlottesville",
          "Charlottesville",
          "Fairborn",
          "Fairfield",
          "Fairfield",
          "Chicago",
          "Chicago",
          "Conroe",
          "Conroe",
          "Elgin",
          "Harrisburg",
          "Harrisburg",
          "Newton",
          "Reston",
          "Reston",
          "Hot Springs",
          "Levittown",
          "Levittown",
          "Meridian",
          "Meridian",
          "Shaker Heights",
          "Shaker Heights",
          "Pottstown",
          "Pottstown",
          "Marietta",
          "Martinez",
          "Newnan",
          "Newnan",
          "Garner",
          "Garner",
          "Garner",
          "Northport",
          "Jonesboro",
          "San Diego",
          "San Diego",
          "San Diego",
          "San Diego",
          "Hilliard",
          "Hilliard",
          "Hilliard",
          "Hilliard",
          "Hilliard",
          "Kent",
          "Kettering",
          "Kettering",
          "Moscow",
          "Moscow",
          "Moscow",
          "Washington",
          "Washington",
          "Washington",
          "Harrison",
          "Harrison",
          "Harrison",
          "Hempstead",
          "Gastonia",
          "Gastonia",
          "Goldsboro",
          "Atlanta",
          "Atlanta",
          "Atlanta",
          "Atlanta",
          "Enid",
          "Lawton",
          "Lawton",
          "Torrance",
          "Torrance",
          "Torrance",
          "Dunedin",
          "Dunedin",
          "Dunedin",
          "Dunedin",
          "Creve Coeur",
          "Freeport",
          "South Bend",
          "Terre Haute",
          "Valparaiso",
          "Valparaiso",
          "Valparaiso",
          "West Lafayette",
          "West Lafayette",
          "San Carlos",
          "San Carlos",
          "San Clemente",
          "Woodstock",
          "Galesburg",
          "Parkersburg",
          "Olive Branch",
          "Olive Branch",
          "Pearl",
          "Canton",
          "Dearborn",
          "Dearborn",
          "Bettendorf",
          "Bettendorf",
          "Burlington",
          "Burlington",
          "Burlington",
          "Cedar Falls",
          "Cedar Falls",
          "Cedar Falls",
          "Cedar Rapids",
          "Cedar Rapids",
          "Cedar Rapids",
          "Cedar Rapids",
          "San Francisco",
          "Townsend",
          "Enterprise",
          "Enterprise",
          "Carlsbad",
          "Webster",
          "Alamogordo",
          "Palm Beach Gardens",
          "Palm Beach Gardens",
          "Palm Beach Gardens",
          "Chesapeake",
          "Linden",
          "Barrington",
          "Lima",
          "Lima",
          "Webster Groves",
          "Appleton",
          "Appleton",
          "Appleton",
          "Lorain",
          "Peachtree City",
          "Little Rock",
          "Little Rock",
          "North Little Rock",
          "North Little Rock",
          "Paragould",
          "Pine Bluff",
          "Greenville",
          "Greer",
          "Garland",
          "Georgetown",
          "Grand Prairie",
          "Grand Prairie",
          "Grand Prairie",
          "Grand Prairie",
          "Emporia",
          "Draper",
          "Draper",
          "Draper",
          "Draper",
          "Mount Lebanon",
          "Mount Lebanon",
          "Bozeman",
          "Bozeman",
          "Bozeman",
          "Bozeman",
          "Butte",
          "Miami",
          "Miami",
          "Miami",
          "Miami",
          "Saginaw",
          "Saginaw",
          "Clinton",
          "Tupelo",
          "Willow Grove",
          "Willow Grove",
          "Dearborn Heights",
          "Dearborn Heights",
          "East Lansing",
          "East Lansing",
          "East Lansing",
          "Littleton",
          "Midland",
          "Midland",
          "Holladay",
          "Holladay",
          "Holladay",
          "Holladay",
          "Holladay",
          "Kearns",
          "East Massapequa",
          "Durango",
          "Durango",
          "Durango",
          "Durango",
          "Durango",
          "Council Bluffs",
          "Council Bluffs",
          "Council Bluffs",
          "Plum",
          "Greenville",
          "Greenville",
          "Greenville",
          "Greenville",
          "Greenville",
          "Mount Vernon",
          "Rogers",
          "Liberal",
          "Liberal",
          "Liberal",
          "Liberal",
          "Harrisonburg",
          "Harrisonburg",
          "Albuquerque",
          "Albuquerque",
          "Albuquerque",
          "Hickory",
          "High Point",
          "High Point",
          "High Point",
          "North Platte",
          "Mechanicsville",
          "Mechanicsville",
          "Newport News",
          "Indian Trail",
          "Indian Trail",
          "Indian Trail",
          "Fort Thomas",
          "Eastpointe",
          "Farmington Hills",
          "Farmington Hills",
          "Farmington Hills",
          "Flint",
          "Flint",
          "Flint",
          "Flint",
          "Garden City",
          "Garden City",
          "Ithaca",
          "New City",
          "New City",
          "New City",
          "Chico",
          "Mount Pleasant",
          "Myrtle Beach",
          "Mehlville",
          "Oakville",
          "Oakville",
          "Norfolk",
          "Norfolk",
          "Norfolk",
          "Norfolk",
          "Oakton",
          "Oakton",
          "Sherwood",
          "West Memphis",
          "West Memphis",
          "Sterling Heights",
          "Gladstone",
          "Hazelwood",
          "Clovis",
          "West Palm Beach",
          "Watertown",
          "Fairfax",
          "Fairfax",
          "Fort Lauderdale",
          "Fort Lauderdale",
          "Fort Lauderdale",
          "Dubuque",
          "Dubuque",
          "Warren",
          "Warren",
          "Warren",
          "Warren",
          "Warren",
          "Westland",
          "Sharon",
          "Sharon",
          "Pasadena",
          "Pasadena",
          "Worcester",
          "Owensboro",
          "Independence",
          "Detroit",
          "Detroit",
          "New Bern",
          "New Bern",
          "New Bern",
          "New Bern",
          "Jamestown",
          "Jamestown",
          "Jamestown",
          "Levittown",
          "Levittown",
          "Lindenhurst",
          "Lindenhurst",
          "Bloomington",
          "Brooklyn Center",
          "Brooklyn Center",
          "Brooklyn Center",
          "Brooklyn Park",
          "Brooklyn Park",
          "Burnsville",
          "Burnsville",
          "Burnsville",
          "Fort Dodge",
          "Fort Dodge",
          "College Park",
          "Bowie",
          "Catonsville",
          "Massillon",
          "Medina",
          "Medina",
          "Medina",
          "Winter Garden",
          "Hobbs",
          "Lakeland",
          "State College",
          "Paducah",
          "Paducah",
          "Paducah",
          "Paducah",
          "Paducah",
          "Raleigh",
          "Rocky Mount",
          "Rocky Mount",
          "Rome",
          "Rome",
          "Rome",
          "Rome",
          "Joplin",
          "Kansas City",
          "Kansas City",
          "Kirkwood",
          "Kirkwood",
          "Land O Lakes",
          "Mauldin",
          "Mauldin",
          "Mauldin",
          "Harker Heights",
          "Harlingen",
          "Harlingen",
          "Houston",
          "Niagara Falls",
          "Greensburg",
          "Eau Claire",
          "Fitchburg",
          "Franklin",
          "Rock Hill",
          "Spartanburg",
          "Spartanburg",
          "Spartanburg",
          "Summerville",
          "Summerville",
          "Summerville",
          "Summerville",
          "Coon Rapids",
          "Coon Rapids",
          "Coon Rapids",
          "Panama City",
          "Panama City",
          "Panama City",
          "New York City",
          "New York City",
          "Watertown",
          "Lehigh Acres",
          "Lehigh Acres",
          "Coachella",
          "Coachella",
          "Coachella",
          "Coachella",
          "Coachella",
          "Marion",
          "Green Bay",
          "Greenfield",
          "Greenfield",
          "Greenfield",
          "Greenfield",
          "College Park",
          "College Park",
          "Cloverleaf",
          "Pleasure Ridge Park",
          "Pleasure Ridge Park",
          "Crofton",
          "Cumberland",
          "Cumberland",
          "Cumberland",
          "Edgewood",
          "Edgewood",
          "Edgewood",
          "Rock Springs",
          "Rock Springs",
          "Fort Myers",
          "Fruit Cove",
          "Fruit Cove",
          "Fruit Cove",
          "Fruit Cove",
          "Fruit Cove",
          "Pembroke Pines",
          "Duluth",
          "Grand Rapids",
          "Grand Rapids",
          "New York City",
          "New York City",
          "New York City",
          "Las Cruces",
          "Oceanside",
          "Oceanside",
          "Oceanside",
          "Oceanside",
          "Roswell",
          "Roswell",
          "Sandy Springs",
          "Sandy Springs",
          "Savannah",
          "Hanover Park",
          "Petersburg",
          "Petersburg",
          "Petersburg",
          "Portsmouth",
          "Portsmouth",
          "Richmond",
          "Richmond",
          "Richmond",
          "Huntsville",
          "Huntsville",
          "Hurst",
          "Irving",
          "Irving",
          "Irving",
          "Keller",
          "Killeen",
          "Killeen",
          "Killeen",
          "Midwest City",
          "Midwest City",
          "Moore",
          "Moore",
          "Muskego",
          "Melbourne",
          "Merritt Island",
          "Miami",
          "Miami",
          "Edina",
          "Edina",
          "Edina",
          "Janesville",
          "Hoover",
          "Mobile",
          "Mobile",
          "Lino Lakes",
          "New York City",
          "New York City",
          "Bossier City",
          "Bossier City",
          "Bossier City",
          "Bossier City",
          "Sault Sainte Marie",
          "Sault Sainte Marie",
          "Sault Sainte Marie",
          "Salisbury",
          "Salisbury",
          "Joliet",
          "Lafayette",
          "Lafayette",
          "Winter Haven",
          "Winter Haven",
          "Statesboro",
          "Statesboro",
          "Statesboro",
          "Tucker",
          "Tucker",
          "Tucker",
          "Cabot",
          "Cabot",
          "Concord",
          "Concord",
          "Concord",
          "Costa Mesa",
          "Costa Mesa",
          "San Diego",
          "San Diego",
          "San Diego",
          "San Diego",
          "Encinitas",
          "Encinitas",
          "Kankakee",
          "Lake In The Hills",
          "Munster",
          "Munster",
          "Cheshire",
          "Cambridge",
          "Englewood",
          "Providence",
          "Corsicana",
          "Lake Charles",
          "Apple Valley",
          "Atascadero",
          "Winter Park",
          "Winter Springs",
          "Springfield",
          "Virginia Beach",
          "Los Angeles",
          "Los Angeles",
          "Los Angeles",
          "Los Angeles",
          "Los Angeles",
          "Whitehall",
          "Whitehall",
          "Whitehall",
          "Whitehall",
          "York",
          "Kenosha",
          "Madison",
          "Madison",
          "Madison",
          "Ossining",
          "Ossining",
          "Ossining",
          "Fridley",
          "Davis",
          "Davis",
          "Davis",
          "Davis",
          "Davis",
          "New York City",
          "New York City",
          "Opelika",
          "Opelika",
          "Opelika",
          "Phenix City",
          "Phenix City",
          "Holland",
          "Holland",
          "Inkster",
          "Manitowoc",
          "Manitowoc",
          "Athens",
          "Athens",
          "Merrimack",
          "Hackensack",
          "Hackensack",
          "Iselin",
          "Fords",
          "Portage",
          "Aberdeen",
          "New York City",
          "New York City",
          "New York City",
          "New York City",
          "New York City",
          "New York City",
          "Sioux Falls",
          "Sioux Falls",
          "Bartlett",
          "Brentwood",
          "Brentwood",
          "Norman",
          "Norman",
          "Norman",
          "Norman",
          "Boise",
          "Bakersfield",
          "Bakersfield",
          "Bakersfield",
          "Baldwin",
          "Derby",
          "Derby",
          "Lakewood",
          "Lakewood",
          "Rapid City",
          "Rapid City",
          "Rapid City",
          "Winchester",
          "Winchester",
          "Port Charlotte",
          "Port Charlotte",
          "Port Charlotte",
          "Port Charlotte",
          "Port Charlotte",
          "Plainview",
          "Clifton",
          "Tuscaloosa",
          "Vestavia Hills",
          "Vestavia Hills",
          "Bullhead City",
          "Bullhead City",
          "Pensacola",
          "Pensacola",
          "Ellicott City",
          "Ellicott City",
          "Kalamazoo",
          "Kalamazoo",
          "Lansing",
          "Lansing",
          "Dalton",
          "Chattanooga",
          "Chattanooga",
          "Clarksville",
          "Bellingham",
          "Caldwell",
          "Chandler",
          "Chandler",
          "New York City",
          "New York City",
          "Waynesboro",
          "Waterbury",
          "Lindenwold",
          "Dunwoody",
          "East Point",
          "Dublin",
          "Franklin Park",
          "Gaithersburg",
          "Gaithersburg",
          "Wilmington",
          "Wilmington",
          "Wilson",
          "Woodburn",
          "Woodburn",
          "Woodburn",
          "Metairie",
          "Madison Heights",
          "Madison Heights",
          "Marshalltown",
          "Marshalltown",
          "Mason City",
          "Mason City",
          "Mason City",
          "Sioux City",
          "East Los Angeles",
          "East Los Angeles",
          "Cleveland",
          "Newark",
          "Newark",
          "North Las Vegas",
          "Boise",
          "Boise",
          "El Centro",
          "El Centro",
          "Inver Grove Heights",
          "Inver Grove Heights",
          "Tulsa",
          "Tulsa",
          "North Miami",
          "North Miami",
          "North Miami",
          "North Miami",
          "Collierville",
          "Collierville",
          "Collierville",
          "Columbia",
          "Odessa",
          "Des Moines",
          "Des Moines",
          "Des Moines",
          "Gainesville",
          "Hays",
          "Hays",
          "Hays",
          "La Vista",
          "La Vista",
          "La Vista",
          "La Vista",
          "Paris",
          "Paris",
          "Edmonds",
          "Edmonds",
          "Edmonds",
          "Hialeah",
          "Hialeah",
          "North Olmsted",
          "North Olmsted",
          "Seattle",
          "North Miami Beach",
          "North Miami Beach",
          "Charlotte",
          "Charlotte",
          "Charlotte",
          "Charlotte",
          "Charlotte",
          "Charlotte",
          "Charlotte",
          "Charlotte",
          "North Ridgeville",
          "North Ridgeville",
          "North Royalton",
          "Parma",
          "Parma",
          "Parma",
          "Livonia",
          "Mankato",
          "Mankato",
          "Maple Grove",
          "Maple Grove",
          "Reynoldsburg",
          "Garfield Heights",
          "Garfield Heights",
          "Garfield Heights",
          "Garfield Heights",
          "Grand Forks",
          "Grand Forks",
          "Chicago",
          "Hagerstown",
          "Laurel",
          "Laurel",
          "Charleston",
          "Charleston",
          "El Dorado Hills",
          "Boston",
          "Stoneham",
          "Morristown",
          "Midland",
          "Depew",
          "Grove City",
          "Maplewood",
          "Milwaukee",
          "Neenah",
          "Van Buren",
          "Middle River",
          "Mount Vernon",
          "Hollywood",
          "Hollywood",
          "Hollywood",
          "New Berlin",
          "New Berlin",
          "New Berlin",
          "Oak Creek",
          "Dickinson",
          "Dickinson",
          "Dickinson",
          "Dickinson",
          "Sandusky",
          "Sandusky",
          "Sandusky",
          "Sandusky",
          "West Des Moines",
          "West Des Moines",
          "Racine",
          "Sheboygan",
          "Oak Park",
          "Pontiac",
          "Port Huron",
          "Port Huron",
          "Port Huron",
          "Coeur D Alene",
          "Coeur D Alene",
          "Idaho Falls",
          "Idaho Falls",
          "Minnetonka Mills",
          "Minnetonka Mills",
          "Rochester",
          "Rochester",
          "Rochester",
          "Lombard",
          "Lombard",
          "Mandan",
          "Mandan",
          "Mandan",
          "Mandan",
          "Garden City",
          "Garden City",
          "Hutchinson",
          "Leavenworth",
          "Leawood",
          "Leawood",
          "Berkeley",
          "Murray",
          "Murray",
          "Murray",
          "Murray",
          "Kirkland",
          "Kirkland",
          "Kirkland",
          "Lacey",
          "Lacey",
          "Lacey",
          "Lacey",
          "Austintown",
          "Oakdale",
          "Oakdale",
          "Oakdale",
          "Los Angeles",
          "Stow",
          "Strongsville",
          "Toledo",
          "Toledo",
          "Philadelphia",
          "Philadelphia",
          "Philadelphia",
          "Philadelphia",
          "Philadelphia",
          "Philadelphia",
          "Philadelphia",
          "North Port",
          "Hamilton",
          "Shirley",
          "Shirley",
          "Shirley",
          "Oakland Park",
          "Houston",
          "Houston",
          "Houston",
          "New Iberia",
          "New Iberia",
          "New Iberia",
          "Orlando",
          "New Orleans",
          "Melrose Park",
          "Moline",
          "Mount Prospect",
          "Shreveport",
          "Mundelein",
          "Mundelein",
          "Naperville",
          "Naperville",
          "Naperville",
          "Naperville",
          "Naperville",
          "Naperville",
          "Laconia",
          "Londonderry",
          "Pasadena",
          "Pasadena",
          "Pflugerville",
          "Pharr",
          "Pharr",
          "Post Falls",
          "Rexburg",
          "Rexburg",
          "Twentynine Palms",
          "Twentynine Palms",
          "Twentynine Palms",
          "Twentynine Palms",
          "Twentynine Palms",
          "Twentynine Palms",
          "Twentynine Palms",
          "Saint Petersburg",
          "Saint Petersburg",
          "Saint Petersburg",
          "Sanford",
          "Sanford",
          "Sanford",
          "Sanford",
          "Ponte Vedra Beach",
          "Ponte Vedra Beach",
          "Ponte Vedra Beach",
          "Port Orange",
          "Port Saint Lucie",
          "Jacksonville",
          "Jacksonville",
          "Jacksonville",
          "Jupiter",
          "Jupiter",
          "Owatonna",
          "Riverview",
          "Stevens Point",
          "Stevens Point",
          "Spring Hill",
          "Spring Hill",
          "San Francisco",
          "Northbrook",
          "Twin Falls",
          "Twin Falls",
          "Twin Falls",
          "Beverly Hills",
          "Addison",
          "Addison",
          "Sunrise",
          "Tallahassee",
          "Tallahassee",
          "Gallatin",
          "Germantown",
          "Hendersonville",
          "Hendersonville",
          "Hendersonville",
          "Hendersonville",
          "Hendersonville",
          "Superior",
          "Waukesha",
          "Waukesha",
          "Waukesha",
          "Corvallis",
          "Hudson",
          "Slidell",
          "Annapolis",
          "New York City",
          "Rotterdam",
          "Rotterdam",
          "Tamarac",
          "Longview",
          "Longview",
          "Lynnwood",
          "Adrian",
          "Eureka",
          "North Plainfield",
          "Mount Vernon",
          "Mount Vernon",
          "Mount Vernon",
          "Columbia",
          "Columbia",
          "Columbia",
          "Columbia",
          "Kendall",
          "Kendall",
          "Kissimmee",
          "Herndon",
          "Herndon",
          "Granite Bay",
          "Lake Worth",
          "New London",
          "Agawam",
          "Natick",
          "Sandwich",
          "Winchester",
          "Jackson",
          "Jackson",
          "El Mirage",
          "Ormond Beach",
          "Ormond Beach",
          "Tampa",
          "Titusville",
          "Titusville",
          "Troutdale",
          "Washington",
          "Rochester Hills",
          "Royal Palm Beach",
          "Royal Palm Beach",
          "Royal Palm Beach",
          "Parkland",
          "Pasco",
          "Pasco",
          "Calexico",
          "Calexico",
          "Calexico",
          "Camarillo",
          "Camarillo",
          "Camarillo",
          "Eagle",
          "Eagle",
          "Eagle",
          "Wauwatosa",
          "West Allis",
          "West Bend",
          "West Bend",
          "West Bend",
          "Troy",
          "Troy",
          "Upper Arlington",
          "Upper Arlington",
          "Odenton",
          "Odenton",
          "Odenton",
          "Odenton",
          "Kennesaw",
          "Kennesaw",
          "La Grange",
          "La Grange",
          "La Grange",
          "Macon",
          "Macon",
          "Boardman",
          "Boardman",
          "Bowling Green",
          "Bowling Green",
          "Fairfield",
          "Pullman",
          "Pullman",
          "Danville",
          "Danville",
          "Danville",
          "Fairmont",
          "Cheyenne"
         ],
         "lat": [
          48.495234,
          34.089059000000006,
          34.089059000000006,
          40.653502,
          44.704646000000004,
          44.704646000000004,
          44.704646000000004,
          44.704646000000004,
          44.704646000000004,
          44.704646000000004,
          44.704646000000004,
          44.704646000000004,
          40.853343,
          40.853343,
          43.037166,
          43.037166,
          46.588803000000006,
          46.855422999999995,
          40.72596,
          40.72596,
          40.72596,
          33.531938000000004,
          33.531938000000004,
          33.851965,
          42.4631,
          42.4631,
          42.4631,
          42.4631,
          45.507752,
          45.507752,
          47.677471000000004,
          47.677471000000004,
          47.677471000000004,
          47.147861999999996,
          43.001907,
          43.001907,
          30.514401,
          30.514401,
          37.288807,
          37.288807,
          38.291164,
          40.755345,
          40.755345,
          40.755345,
          40.755345,
          40.755345,
          40.755345,
          40.755345,
          40.755345,
          40.755345,
          40.755345,
          44.484038,
          44.484038,
          40.810931,
          39.242608000000004,
          39.242608000000004,
          38.34401,
          38.34401,
          38.34401,
          38.099119,
          38.099119,
          38.099119,
          29.894261,
          29.894261,
          29.894261,
          41.886456,
          41.886456,
          41.886456,
          41.886456,
          39.184986,
          39.184986,
          43.480703999999996,
          42.378619,
          42.378619,
          42.378619,
          43.190984,
          40.877998999999996,
          45.41387,
          45.41387,
          45.41387,
          45.210104,
          47.671346,
          47.671346,
          47.671346,
          47.671346,
          41.07221,
          41.07221,
          41.07221,
          41.07221,
          38.938664,
          38.906065000000005,
          38.906065000000005,
          38.243734,
          38.243734,
          41.342690000000005,
          41.670981,
          40.366177,
          40.366177,
          40.366177,
          40.366177,
          32.869384000000004,
          32.869384000000004,
          36.522968,
          36.522968,
          36.046597999999996,
          36.046597999999996,
          36.046597999999996,
          36.046597999999996,
          40.532354,
          40.532354,
          40.532354,
          46.279657,
          46.279657,
          36.240331,
          30.44629,
          30.44629,
          30.44629,
          40.849879,
          40.849879,
          37.758379999999995,
          37.758379999999995,
          42.419496,
          33.627942,
          33.627942,
          42.108428,
          41.756129,
          41.756129,
          41.756129,
          41.756129,
          40.366648,
          40.366648,
          38.959606,
          42.130091,
          36.733398,
          36.733398,
          36.733398,
          42.731628,
          42.731628,
          42.731628,
          42.731628,
          43.087669,
          43.087669,
          43.087669,
          40.659997,
          35.192919,
          41.623532,
          41.623532,
          41.702148,
          41.702148,
          41.702148,
          41.702148,
          41.702148,
          41.702148,
          39.963322,
          39.963322,
          39.963322,
          38.674013,
          39.059221,
          39.059221,
          39.059221,
          35.781607,
          35.781607,
          35.781607,
          44.877164,
          44.877164,
          39.544548999999996,
          39.795301,
          27.843349,
          35.616662,
          41.507751,
          29.423932,
          29.423932,
          29.423932,
          35.279872,
          35.279872,
          33.363440000000004,
          33.363440000000004,
          33.363440000000004,
          33.615409,
          35.214693,
          35.214693,
          35.214693,
          35.214693,
          41.163879,
          41.688899,
          41.688899,
          40.7935,
          40.736101,
          39.020405,
          39.020405,
          37.700632,
          37.700632,
          40.435645,
          39.376878999999995,
          39.376878999999995,
          47.683820000000004,
          47.683820000000004,
          47.683820000000004,
          47.683820000000004,
          47.683820000000004,
          47.683820000000004,
          41.871331,
          42.278424,
          32.733451,
          32.733451,
          32.733451,
          39.035028000000004,
          41.845228000000006,
          41.845228000000006,
          43.426792,
          43.426792,
          43.426792,
          43.426792,
          43.426792,
          43.426792,
          43.037495,
          42.334496,
          42.334496,
          40.085313,
          40.085313,
          25.897372,
          44.81777,
          44.81777,
          44.81777,
          43.660525,
          25.784326,
          25.784326,
          25.784326,
          43.976735,
          43.976735,
          33.534128,
          33.534128,
          35.25925,
          40.092940999999996,
          41.776866999999996,
          37.776835,
          37.776835,
          44.094772999999996,
          44.094772999999996,
          44.094772999999996,
          42.409915999999996,
          42.432686,
          42.432686,
          42.432686,
          36.225565,
          36.225565,
          40.477286,
          39.949962,
          39.949962,
          40.922826,
          40.709895,
          40.709895,
          40.789051,
          38.645484,
          38.645484,
          38.645484,
          42.922273,
          35.351477,
          35.351477,
          41.141456,
          39.784108,
          39.492265,
          26.190444,
          40.669502,
          39.147877,
          39.147877,
          39.147877,
          42.582839,
          40.109646999999995,
          40.109646999999995,
          42.026209,
          42.026209,
          42.026209,
          45.011215,
          45.011215,
          37.353741,
          37.353741,
          37.353741,
          37.353741,
          37.048384999999996,
          37.241193,
          39.379382,
          34.090975,
          42.075122,
          42.560995,
          42.059434,
          40.957498,
          40.280530999999996,
          33.786805,
          33.786805,
          33.786805,
          33.786805,
          33.786805,
          39.376371999999996,
          41.684896,
          41.684896,
          41.684896,
          36.753177,
          43.631549,
          43.631549,
          42.185974,
          40.757985999999995,
          40.757985999999995,
          40.757985999999995,
          40.757985999999995,
          47.432251,
          47.432251,
          35.860152,
          35.860152,
          35.860152,
          36.930527000000005,
          36.930527000000005,
          39.0752,
          39.0752,
          37.812815,
          37.812815,
          44.272796,
          44.272796,
          44.272796,
          35.875925,
          35.875925,
          33.400127000000005,
          33.400127000000005,
          33.400127000000005,
          42.229856,
          42.229856,
          39.628475,
          33.485178000000005,
          33.485178000000005,
          29.56478,
          29.56478,
          29.56478,
          29.56478,
          33.632806,
          34.009754,
          34.009754,
          34.009754,
          34.009754,
          40.38584,
          40.38584,
          40.38584,
          40.280454,
          40.280454,
          33.492107,
          33.492107,
          33.492107,
          36.030927,
          40.567088,
          40.567088,
          34.080143,
          41.493763,
          41.428163,
          41.428163,
          44.089172999999995,
          44.089172999999995,
          44.089172999999995,
          44.089172999999995,
          42.484545000000004,
          43.213705,
          42.077178,
          41.75253,
          40.098641,
          40.098641,
          40.098641,
          39.970240999999994,
          39.970240999999994,
          39.970240999999994,
          39.185340999999994,
          39.470603000000004,
          38.282872,
          38.282872,
          38.282872,
          33.960041,
          33.960041,
          33.960041,
          33.960041,
          33.960041,
          33.960041,
          33.960041,
          33.960041,
          33.960041,
          40.713459,
          38.333601,
          38.333601,
          38.333601,
          42.205289,
          42.205289,
          42.989984,
          43.617302,
          43.617302,
          43.617302,
          40.371185,
          40.371185,
          44.967565,
          44.967565,
          37.346241,
          36.9707,
          36.9707,
          34.900809,
          34.900809,
          47.63877,
          47.63877,
          47.63877,
          47.63877,
          47.63877,
          44.776138,
          41.703097,
          42.167638000000004,
          42.167638000000004,
          42.167638000000004,
          36.233655,
          36.233655,
          36.233655,
          36.233655,
          34.104555,
          34.104555,
          34.104555,
          34.104555,
          42.117527,
          44.451941,
          44.451941,
          44.451941,
          44.451941,
          36.079259,
          32.745831,
          32.745831,
          41.023872,
          41.023872,
          39.013905,
          36.65364,
          36.65364,
          47.077796,
          47.077796,
          47.693740999999996,
          41.151899,
          41.151899,
          41.151899,
          41.151899,
          38.580552000000004,
          38.580552000000004,
          38.778579,
          47.209021,
          39.859584999999996,
          39.859584999999996,
          39.859584999999996,
          39.859584999999996,
          39.859584999999996,
          41.418873,
          41.418873,
          41.418873,
          41.639734999999995,
          41.639734999999995,
          41.639734999999995,
          41.639734999999995,
          47.66377,
          47.66377,
          47.66377,
          47.66377,
          47.66377,
          34.137557,
          34.137557,
          34.137557,
          34.137557,
          34.137557,
          34.137557,
          34.137557,
          34.137557,
          34.137557,
          38.457611,
          38.457611,
          38.457611,
          38.457611,
          42.373047,
          36.655797,
          36.655797,
          40.290615,
          40.290615,
          40.290615,
          41.219246000000005,
          41.219246000000005,
          42.506362,
          42.792456,
          40.803000000000004,
          40.656302000000004,
          40.656302000000004,
          40.714501,
          32.417144,
          32.417144,
          32.417144,
          32.417144,
          33.573602,
          38.983853,
          38.221179,
          34.589477,
          34.589477,
          34.621743,
          34.621743,
          45.373991,
          45.373991,
          39.929596999999994,
          45.638729999999995,
          41.4903,
          45.361990999999996,
          45.361990999999996,
          45.361990999999996,
          40.595096999999996,
          40.595096999999996,
          40.595096999999996,
          40.595096999999996,
          33.929163,
          41.682249,
          41.682249,
          33.611272,
          35.388059000000005,
          41.173226,
          41.173226,
          41.173226,
          41.173226,
          41.173226,
          32.156011,
          32.156011,
          32.156011,
          32.156011,
          32.156011,
          32.156011,
          32.156011,
          32.156011,
          29.016896999999997,
          45.986775,
          35.968513,
          35.73062,
          32.432975,
          35.171903,
          35.171903,
          33.428618,
          33.428618,
          39.774341,
          37.016943,
          34.443746000000004,
          34.000578000000004,
          34.000578000000004,
          34.000578000000004,
          34.000578000000004,
          34.399992,
          41.277763,
          41.390194,
          45.085643,
          45.085643,
          45.085643,
          45.085643,
          39.499862,
          39.499862,
          39.499862,
          40.706246,
          40.706246,
          33.617504,
          33.617504,
          32.851678,
          32.851678,
          38.880112,
          38.880112,
          38.880112,
          33.226597999999996,
          33.226597999999996,
          33.226597999999996,
          40.826181,
          40.826181,
          40.826181,
          40.826181,
          40.50217,
          40.50217,
          40.50217,
          40.50217,
          42.558576,
          37.825094,
          37.825094,
          40.071472,
          40.071472,
          40.071472,
          30.678096999999998,
          32.535841,
          32.535841,
          40.641389000000004,
          34.063264000000004,
          34.063264000000004,
          34.063264000000004,
          34.063264000000004,
          44.344406,
          44.344406,
          40.397507,
          33.871214,
          33.871214,
          41.581494,
          37.270542999999996,
          40.666552,
          40.666552,
          34.067409000000005,
          34.067409000000005,
          34.067409000000005,
          34.067409000000005,
          34.067409000000005,
          34.067409000000005,
          34.067409000000005,
          33.020118,
          33.020118,
          37.463910999999996,
          41.898582,
          33.91355,
          33.91355,
          42.357903,
          35.239022,
          34.21707,
          34.21707,
          43.576983,
          40.983996999999995,
          42.882231,
          42.882231,
          43.697117999999996,
          43.697117999999996,
          43.527322,
          34.606079,
          34.606079,
          34.606079,
          34.606079,
          35.73663,
          35.575877,
          35.755651,
          35.755651,
          37.408511,
          37.408511,
          37.408511,
          40.438035,
          40.438035,
          40.784874,
          40.784874,
          40.784874,
          42.929891,
          42.929891,
          40.841522,
          40.841522,
          40.295925,
          40.109478,
          26.685125,
          38.697238,
          38.697238,
          39.114138,
          34.07711,
          34.07711,
          34.07711,
          34.07711,
          34.07711,
          42.361477,
          33.643508000000004,
          33.643508000000004,
          33.643508000000004,
          40.884895,
          40.884895,
          40.884895,
          41.744082,
          41.614188,
          37.707763,
          40.625444,
          41.598234999999995,
          41.919808,
          39.80095,
          40.760698,
          40.760698,
          40.760698,
          40.760698,
          40.821698,
          40.717178999999994,
          32.867977,
          32.867977,
          32.867977,
          29.036879,
          32.590063,
          32.590063,
          32.590063,
          27.542244,
          34.033564,
          34.033564,
          39.81431,
          39.81431,
          32.260315999999996,
          33.495343,
          33.495343,
          38.731976,
          38.731976,
          41.533848,
          28.716241999999998,
          28.716241999999998,
          26.344128,
          42.338724,
          42.338724,
          42.338724,
          42.338724,
          42.338724,
          42.338724,
          31.708309999999997,
          32.858727,
          32.858727,
          32.858727,
          32.858727,
          32.925975,
          41.918578000000004,
          33.081421,
          31.514266999999997,
          31.514266999999997,
          42.234891,
          34.014212,
          34.014212,
          42.601684000000006,
          40.769796,
          39.700561,
          39.700561,
          28.666249,
          28.666249,
          28.666249,
          28.666249,
          40.10637,
          40.168205,
          34.630103000000005,
          34.630103000000005,
          33.666269,
          33.666269,
          33.666269,
          33.666269,
          41.666049,
          38.94081,
          38.94081,
          38.94081,
          38.94081,
          38.94081,
          38.94081,
          38.94081,
          38.94081,
          26.398248,
          42.38532,
          42.748888,
          40.905639,
          40.74765,
          41.7715,
          41.048148,
          41.588636,
          41.588636,
          41.741872,
          41.741872,
          41.741872,
          42.338947,
          41.881632,
          40.012212,
          40.012212,
          40.012212,
          33.143752,
          33.143752,
          33.143752,
          33.033214,
          33.033214,
          33.033214,
          33.033214,
          33.00542,
          33.00542,
          33.00542,
          33.00542,
          32.588536,
          32.577135,
          32.577135,
          40.727093,
          40.727093,
          40.727093,
          30.547001,
          30.547001,
          42.121188000000004,
          42.121188000000004,
          42.121188000000004,
          30.501271999999997,
          30.501271999999997,
          30.501271999999997,
          29.786656,
          29.786656,
          29.786656,
          39.659105,
          39.659105,
          37.644426,
          39.93404,
          34.638773,
          26.347711,
          26.347711,
          26.347711,
          32.761801,
          32.761801,
          41.583535,
          41.583535,
          38.668827,
          38.668827,
          39.991712,
          39.991712,
          40.560528000000005,
          40.560528000000005,
          40.627668,
          40.688246,
          40.688246,
          43.357357,
          43.357357,
          43.357357,
          34.000219,
          34.000219,
          34.000219,
          34.000219,
          38.791242,
          39.836586,
          39.836586,
          39.836586,
          39.836586,
          41.850232,
          40.752859,
          40.752859,
          40.752859,
          40.752859,
          39.931123,
          39.931123,
          39.931123,
          27.911201000000002,
          25.94422,
          26.251909,
          38.839663,
          38.839663,
          32.77516,
          32.77516,
          26.162609,
          26.162609,
          41.413371999999995,
          42.254788,
          42.254788,
          42.254788,
          28.665125,
          28.665125,
          33.513337,
          31.330567,
          32.577009999999994,
          32.577009999999994,
          32.577009999999994,
          38.004172,
          38.004172,
          38.004172,
          43.070188,
          38.813013,
          38.813013,
          38.813013,
          38.813013,
          37.451688,
          37.451688,
          37.451688,
          37.451688,
          37.378341,
          37.378341,
          41.819833,
          41.819833,
          42.35714,
          42.35714,
          33.923243,
          37.40679,
          42.365028,
          42.365028,
          42.365028,
          42.365028,
          42.365028,
          42.365028,
          39.742593,
          39.742593,
          39.742593,
          39.742593,
          40.501576,
          40.41836,
          40.41836,
          39.579454,
          39.579454,
          39.579454,
          39.579454,
          43.583323,
          43.583323,
          43.583323,
          38.309104999999995,
          38.309104999999995,
          38.309104999999995,
          41.369846,
          41.570344,
          37.168434999999995,
          37.168434999999995,
          37.168434999999995,
          38.908741,
          34.935635999999995,
          41.437838,
          41.437838,
          41.126476000000004,
          41.126476000000004,
          40.109513,
          40.109513,
          41.454439,
          41.454439,
          40.800086,
          42.047178,
          42.047178,
          42.047178,
          42.047178,
          41.761463,
          41.761463,
          41.761463,
          37.021086,
          39.263162,
          39.263162,
          42.091924,
          42.091924,
          25.753926999999997,
          25.753926999999997,
          25.753926999999997,
          26.272608,
          26.272608,
          26.272608,
          30.614646999999998,
          40.164393,
          44.953763,
          33.479306,
          34.595332,
          34.595332,
          34.595332,
          36.505996,
          29.581683,
          38.663951000000004,
          38.663951000000004,
          38.663951000000004,
          39.831061,
          30.399147999999997,
          32.347295,
          33.380388,
          30.461786,
          30.461786,
          38.830345,
          38.830345,
          37.232027,
          37.232027,
          37.232027,
          35.060087,
          44.554965,
          41.625886,
          38.410745,
          38.410745,
          38.410745,
          38.634306,
          40.633103000000006,
          40.633103000000006,
          40.633103000000006,
          40.701702000000004,
          40.701702000000004,
          40.701702000000004,
          40.653935,
          40.653935,
          38.477508,
          38.477508,
          42.220447,
          41.549851000000004,
          41.549851000000004,
          40.032664000000004,
          41.492084999999996,
          41.492084999999996,
          41.492084999999996,
          40.864757,
          40.864757,
          40.864757,
          40.864757,
          36.102325,
          31.285508,
          31.285508,
          34.959171000000005,
          32.234627,
          36.681160999999996,
          36.681160999999996,
          36.681160999999996,
          41.051996,
          29.516872999999997,
          29.516872999999997,
          40.740662,
          42.316121,
          42.316121,
          35.686122,
          35.686122,
          35.686122,
          34.208837,
          34.208837,
          33.602823,
          38.788646,
          38.788646,
          38.072402000000004,
          38.072402000000004,
          39.808909,
          39.330356,
          39.330356,
          41.904666999999996,
          41.904666999999996,
          30.313308000000003,
          30.313308000000003,
          42.034776,
          40.343261,
          40.343261,
          38.051679,
          38.959672999999995,
          38.959672999999995,
          34.506487,
          40.142059,
          40.142059,
          32.339003999999996,
          32.339003999999996,
          41.499202000000004,
          41.499202000000004,
          40.253496000000005,
          40.253496000000005,
          33.99605,
          33.512541,
          33.400875,
          33.400875,
          35.679194,
          35.679194,
          35.679194,
          33.260567,
          35.844795,
          32.838761,
          32.838761,
          32.838761,
          32.838761,
          40.021665000000006,
          40.021665000000006,
          40.021665000000006,
          40.021665000000006,
          40.021665000000006,
          41.148756,
          39.687459000000004,
          39.687459000000004,
          46.727636,
          46.727636,
          46.727636,
          38.97808,
          38.97808,
          38.97808,
          40.972667,
          40.972667,
          40.972667,
          40.702271,
          35.248787,
          35.248787,
          35.377069,
          33.830054,
          33.830054,
          33.830054,
          33.830054,
          36.402666,
          34.613973,
          34.613973,
          33.840264000000005,
          33.840264000000005,
          33.840264000000005,
          28.025395,
          28.025395,
          28.025395,
          28.025395,
          38.662302000000004,
          42.300917999999996,
          41.626588,
          39.393237,
          41.47339,
          41.47339,
          41.47339,
          40.461012,
          40.461012,
          37.499175,
          37.499175,
          33.427078,
          34.108027,
          40.948073,
          39.265408,
          34.954106,
          34.954106,
          32.280746,
          42.330870000000004,
          42.333787,
          42.333787,
          41.551883000000004,
          41.551883000000004,
          40.814207,
          40.814207,
          40.814207,
          42.527184000000005,
          42.527184000000005,
          42.527184000000005,
          42.021015999999996,
          42.021015999999996,
          42.021015999999996,
          42.021015999999996,
          37.74873,
          42.658738,
          31.32579,
          31.32579,
          33.158136999999996,
          42.047728,
          32.839921000000004,
          26.802139,
          26.802139,
          26.802139,
          36.761697999999996,
          40.633953000000005,
          41.746834,
          40.759451,
          40.759451,
          38.590652,
          44.244753,
          44.244753,
          44.244753,
          41.459218,
          33.398992,
          34.674192,
          34.674192,
          34.854746,
          34.854746,
          36.065711,
          34.189398,
          34.840717,
          34.937356,
          32.854893,
          30.643058,
          32.728982,
          32.728982,
          32.728982,
          32.728982,
          38.410548999999996,
          40.514843,
          40.514843,
          40.514843,
          40.514843,
          40.372802,
          40.372802,
          45.707153000000005,
          45.707153000000005,
          45.707153000000005,
          45.707153000000005,
          45.946694,
          26.6435,
          26.6435,
          26.6435,
          26.6435,
          43.413975,
          43.413975,
          41.861633000000005,
          34.23615,
          40.145859,
          40.145859,
          42.335687,
          42.335687,
          42.747921999999996,
          42.747921999999996,
          42.747921999999996,
          39.582603999999996,
          31.995623,
          31.995623,
          40.662797,
          40.662797,
          40.662797,
          40.662797,
          40.662797,
          40.650496000000004,
          40.68085,
          37.295888,
          37.295888,
          37.295888,
          37.295888,
          37.295888,
          41.2544,
          41.2544,
          41.2544,
          40.482655,
          33.15023,
          33.15023,
          33.15023,
          33.15023,
          33.15023,
          40.907607,
          36.342234999999995,
          37.067979,
          37.067979,
          37.067979,
          37.067979,
          38.426786,
          38.426786,
          35.031329,
          35.031329,
          35.031329,
          35.759932,
          35.950435999999996,
          35.950435999999996,
          35.950435999999996,
          41.129363,
          37.605641,
          37.605641,
          37.115697999999995,
          35.105208000000005,
          35.105208000000005,
          35.105208000000005,
          39.076011,
          42.466086,
          42.458502,
          42.458502,
          42.458502,
          43.062076,
          43.062076,
          43.062076,
          43.062076,
          42.324338,
          42.324338,
          42.447373,
          41.145495000000004,
          41.145495000000004,
          41.145495000000004,
          39.720955,
          32.813518,
          33.698101,
          38.469953000000004,
          38.469953000000004,
          38.469953000000004,
          36.916497,
          36.916497,
          36.916497,
          36.916497,
          38.88619,
          38.88619,
          34.799541,
          35.150009000000004,
          35.150009000000004,
          42.563644000000004,
          39.213082,
          38.7785,
          34.432846000000005,
          26.750991,
          43.170606,
          38.889111,
          38.889111,
          26.13883,
          26.13883,
          26.13883,
          42.515252000000004,
          42.515252000000004,
          42.514885,
          42.514885,
          42.514885,
          42.514885,
          42.514885,
          42.335937,
          41.230106,
          41.230106,
          34.169356,
          34.169356,
          42.248492999999996,
          37.753347,
          39.053255,
          42.388785999999996,
          42.388785999999996,
          35.119673999999996,
          35.119673999999996,
          35.119673999999996,
          35.119673999999996,
          42.09179,
          42.09179,
          42.09179,
          40.724883,
          40.724883,
          40.690049,
          40.690049,
          44.837964,
          45.064714,
          45.064714,
          45.064714,
          45.112742,
          45.112742,
          44.770297,
          44.770297,
          44.770297,
          42.499241999999995,
          42.499241999999995,
          33.646984,
          38.979413,
          39.278056,
          40.805131,
          41.139849,
          41.139849,
          41.139849,
          28.536794,
          32.70778,
          28.041197999999998,
          40.792010999999995,
          37.044233,
          37.044233,
          37.044233,
          37.044233,
          37.044233,
          35.814572,
          35.935125,
          35.935125,
          34.253343,
          34.253343,
          34.253343,
          34.253343,
          37.047160999999996,
          39.034838,
          39.034838,
          38.582702000000005,
          38.582702000000005,
          28.233671,
          34.774657,
          34.774657,
          34.774657,
          31.113828,
          26.206602,
          26.206602,
          29.70053,
          43.091105999999996,
          40.298765,
          44.829609999999995,
          43.037647,
          42.896145000000004,
          34.914611,
          34.940921,
          34.940921,
          34.940921,
          33.034586,
          33.034586,
          33.034586,
          33.034586,
          45.163848,
          45.163848,
          45.163848,
          30.188584999999996,
          30.188584999999996,
          30.188584999999996,
          40.741012,
          40.741012,
          44.916657,
          26.605990000000002,
          26.605990000000002,
          33.679871999999996,
          33.679871999999996,
          33.679871999999996,
          33.679871999999996,
          33.679871999999996,
          42.042648,
          44.505782,
          42.969115,
          42.969115,
          42.969115,
          42.969115,
          38.99756,
          38.99756,
          29.778526,
          38.141719,
          38.141719,
          39.012134,
          39.580690999999995,
          39.580690999999995,
          39.580690999999995,
          39.427058,
          39.427058,
          39.427058,
          41.594542,
          41.594542,
          26.711646999999996,
          30.092346000000003,
          30.092346000000003,
          30.092346000000003,
          30.092346000000003,
          30.092346000000003,
          26.023567,
          46.972432,
          43.000076,
          43.000076,
          40.786387,
          40.786387,
          40.786387,
          32.300193,
          40.636286,
          40.636286,
          40.636286,
          40.636286,
          34.032532,
          34.032532,
          33.931746000000004,
          33.931746000000004,
          32.068658,
          41.977477,
          37.174217,
          37.174217,
          37.174217,
          36.810448,
          36.810448,
          37.544746,
          37.544746,
          37.544746,
          30.680640999999998,
          30.680640999999998,
          32.821378,
          32.826729,
          32.826729,
          32.826729,
          32.927040000000005,
          31.117874,
          31.117874,
          31.117874,
          35.459478000000004,
          35.459478000000004,
          35.34377,
          35.34377,
          42.901235,
          28.139259999999997,
          28.396301,
          25.812625,
          25.812625,
          44.911564,
          44.911564,
          44.911564,
          42.69146,
          33.356981,
          30.690440000000002,
          30.690440000000002,
          45.153515999999996,
          40.802395000000004,
          40.802395000000004,
          32.552315,
          32.552315,
          32.552315,
          32.552315,
          46.460895,
          46.460895,
          46.460895,
          35.679639,
          35.679639,
          41.533631,
          30.211901,
          30.211901,
          28.051985,
          28.051985,
          32.423083,
          32.423083,
          32.423083,
          33.853853,
          33.853853,
          33.853853,
          34.967043,
          34.967043,
          37.957772,
          37.957772,
          37.957772,
          33.647028000000006,
          33.647028000000006,
          33.053092,
          33.053092,
          33.053092,
          33.053092,
          33.053092,
          33.053092,
          41.114132,
          42.17315,
          41.551457,
          41.551457,
          41.365709,
          42.379146,
          40.893343,
          41.839296000000004,
          32.03049,
          30.226399,
          34.538622,
          35.474913,
          28.598677000000002,
          28.683408,
          38.745164,
          36.799284,
          34.122058,
          34.122058,
          34.122058,
          34.122058,
          34.122058,
          39.966814,
          39.966814,
          39.966814,
          39.966814,
          39.952197999999996,
          42.559823,
          43.036696,
          43.036696,
          43.036696,
          41.176837,
          41.176837,
          41.176837,
          45.095674,
          38.549256,
          38.549256,
          38.549256,
          38.549256,
          38.549256,
          40.752354,
          40.752354,
          32.660497,
          32.660497,
          32.660497,
          32.433065,
          32.433065,
          42.765918,
          42.765918,
          42.292582,
          44.096194,
          44.096194,
          33.925084999999996,
          33.925084999999996,
          42.858053000000005,
          40.888678000000006,
          40.888678000000006,
          40.571504,
          40.535304,
          42.210792,
          45.46932,
          40.699226,
          40.699226,
          40.699226,
          40.699226,
          40.699226,
          40.699226,
          43.537075,
          43.537075,
          35.193046,
          36.007373,
          36.007373,
          35.225702000000005,
          35.225702000000005,
          35.225702000000005,
          35.225702000000005,
          43.63123,
          35.340759000000006,
          35.340759000000006,
          35.340759000000006,
          40.369619,
          37.557434,
          37.557434,
          41.480881,
          41.480881,
          44.085288,
          44.085288,
          44.085288,
          39.179076,
          39.179076,
          26.993876,
          26.993876,
          26.993876,
          26.993876,
          26.993876,
          40.779911,
          40.879699,
          33.193818,
          33.420558,
          33.420558,
          35.097719,
          35.097719,
          30.447996999999997,
          30.447996999999997,
          39.276305,
          39.276305,
          42.278890999999994,
          42.278890999999994,
          42.677335,
          41.565684999999995,
          34.780699,
          35.028574,
          35.028574,
          36.58068,
          48.759079,
          43.658834000000006,
          33.328951,
          33.328951,
          40.810906,
          40.810906,
          38.076547,
          41.551601,
          39.810485,
          33.942751,
          33.676258000000004,
          37.714179,
          41.93548,
          39.13975,
          39.13975,
          34.221512,
          34.221512,
          35.715315000000004,
          45.144415,
          45.144415,
          45.144415,
          29.997168,
          42.501385,
          42.501385,
          42.042506,
          42.042506,
          43.153969000000004,
          43.153969000000004,
          43.153969000000004,
          42.466291999999996,
          34.023662,
          34.023662,
          35.146361999999996,
          40.079115,
          40.079115,
          36.256479,
          43.603768,
          43.603768,
          32.783359000000004,
          32.783359000000004,
          44.844833,
          44.844833,
          36.04309,
          36.04309,
          25.893372,
          25.893372,
          25.893372,
          25.893372,
          35.057224,
          35.057224,
          35.057224,
          35.619784,
          31.890373999999998,
          47.397521000000005,
          47.397521000000005,
          47.397521000000005,
          29.653195,
          38.881082,
          38.881082,
          38.881082,
          41.183458,
          41.183458,
          41.183458,
          41.183458,
          33.660274,
          33.660274,
          47.821568,
          47.821568,
          47.821568,
          25.864773,
          25.864773,
          41.415096999999996,
          41.415096999999996,
          47.66747,
          25.941535,
          25.941535,
          35.248292,
          35.248292,
          35.248292,
          35.248292,
          35.248292,
          35.248292,
          35.248292,
          35.248292,
          41.389546,
          41.389546,
          41.313758,
          41.393852,
          41.393852,
          41.393852,
          42.396194,
          44.15644,
          44.15644,
          45.120764,
          45.120764,
          39.956384,
          41.414403,
          41.414403,
          41.414403,
          41.414403,
          47.899217,
          47.899217,
          41.880446,
          39.633946,
          39.098475,
          39.098475,
          32.879529,
          32.879529,
          38.672127,
          42.346996999999995,
          42.480145,
          40.79215,
          43.605457,
          42.904958,
          39.88628,
          44.957315,
          43.119409999999995,
          44.180085,
          35.456536,
          39.337798,
          40.385636,
          26.023634,
          26.023634,
          26.023634,
          42.980163,
          42.980163,
          42.980163,
          42.884347,
          46.878057,
          46.878057,
          46.878057,
          46.878057,
          41.42646,
          41.42646,
          41.42646,
          41.42646,
          41.570916,
          41.570916,
          42.767286,
          43.736145,
          42.467234999999995,
          42.644581,
          42.978974,
          42.978974,
          42.978974,
          47.66655,
          47.66655,
          43.497685,
          43.497685,
          44.921599,
          44.921599,
          43.175113,
          43.175113,
          43.175113,
          41.875429,
          41.875429,
          46.812148,
          46.812148,
          46.812148,
          46.812148,
          37.976008,
          37.976008,
          38.034292,
          39.298776000000004,
          38.900535,
          38.900535,
          37.868575,
          36.617443,
          36.617443,
          36.617443,
          36.617443,
          47.71828,
          47.71828,
          47.71828,
          47.027082,
          47.027082,
          47.027082,
          47.027082,
          41.099008000000005,
          44.985792,
          44.985792,
          44.985792,
          33.923365000000004,
          41.174256,
          41.312752,
          41.6522,
          41.6522,
          39.895677,
          39.895677,
          39.895677,
          39.895677,
          39.895677,
          39.895677,
          39.895677,
          27.051075,
          39.404856,
          40.794317,
          40.794317,
          40.794317,
          26.182160999999997,
          29.858729999999998,
          29.858729999999998,
          29.858729999999998,
          29.975453,
          29.975453,
          29.975453,
          28.489758000000002,
          29.970404,
          41.899879999999996,
          41.490333,
          42.065427,
          32.474453000000004,
          42.263622999999995,
          42.263622999999995,
          41.764779,
          41.764779,
          41.764779,
          41.764779,
          41.764779,
          41.764779,
          43.557153,
          42.880481,
          29.705678000000002,
          29.705678000000002,
          30.450121999999997,
          26.201284,
          26.201284,
          47.720306,
          43.809909999999995,
          43.809909999999995,
          34.165696000000004,
          34.165696000000004,
          34.165696000000004,
          34.165696000000004,
          34.165696000000004,
          34.165696000000004,
          34.165696000000004,
          27.788636999999998,
          27.788636999999998,
          27.788636999999998,
          28.803979,
          28.803979,
          28.803979,
          28.803979,
          29.937672999999997,
          29.937672999999997,
          29.937672999999997,
          29.116360999999998,
          27.291694,
          30.28374,
          30.28374,
          30.28374,
          26.928034999999998,
          26.928034999999998,
          44.07393,
          27.847802,
          44.524054,
          44.524054,
          28.475662,
          28.475662,
          37.792778000000006,
          42.124576,
          42.530288,
          42.530288,
          42.530288,
          34.088808,
          41.931573,
          41.931573,
          26.150863,
          30.486061,
          30.486061,
          36.388996999999996,
          35.088885,
          36.311046999999995,
          36.311046999999995,
          36.311046999999995,
          36.311046999999995,
          36.311046999999995,
          46.684273,
          43.015289,
          43.015289,
          43.015289,
          44.608694,
          42.759821,
          30.269565000000004,
          38.946462,
          40.759291,
          42.793326,
          42.793326,
          26.183628,
          46.156082,
          46.156082,
          47.848237,
          41.900927,
          40.793739,
          40.620102,
          48.414576000000004,
          48.414576000000004,
          48.414576000000004,
          34.066271,
          34.066271,
          34.066271,
          34.066271,
          25.66558,
          25.66558,
          28.301788000000002,
          38.977109000000006,
          38.977109000000006,
          38.743811,
          26.621145000000002,
          41.352498,
          42.070609999999995,
          42.290763,
          41.735645,
          42.451945,
          35.60758,
          35.60758,
          33.596823,
          29.284924,
          29.284924,
          28.006247,
          28.564077,
          28.564077,
          45.529551,
          38.897566999999995,
          42.662293,
          26.719596000000003,
          26.719596000000003,
          26.719596000000003,
          47.153571,
          46.270249,
          46.270249,
          32.683491,
          32.683491,
          32.683491,
          34.231753999999995,
          34.231753999999995,
          34.231753999999995,
          43.705551,
          43.705551,
          43.705551,
          43.049012,
          43.020363,
          43.40328,
          43.40328,
          43.40328,
          40.036525,
          40.036525,
          40.02063,
          40.02063,
          39.079902000000004,
          39.079902000000004,
          39.079902000000004,
          39.079902000000004,
          34.038949,
          34.038949,
          33.029838,
          33.029838,
          33.029838,
          32.844871999999995,
          32.844871999999995,
          41.032675,
          41.032675,
          41.388519,
          41.388519,
          38.269582,
          46.732704999999996,
          46.732704999999996,
          40.133786,
          40.133786,
          40.133786,
          39.470949,
          41.141281
         ],
         "legendgroup": "",
         "lon": [
          -122.61976000000001,
          -118.0951,
          -118.0951,
          -74.26058,
          -93.42139,
          -93.42139,
          -93.42139,
          -93.42139,
          -93.42139,
          -93.42139,
          -93.42139,
          -93.42139,
          -73.20777,
          -73.20777,
          -76.12653,
          -76.12653,
          -112.04193000000001,
          -114.01229,
          -73.99834,
          -73.99834,
          -73.99834,
          -117.7025,
          -117.7025,
          -118.1468,
          -123.33162,
          -123.33162,
          -123.33162,
          -123.33162,
          -122.4323,
          -122.4323,
          -122.12138,
          -122.12138,
          -122.12138,
          -122.31863999999999,
          -78.8631,
          -78.8631,
          -97.65549,
          -97.65549,
          -80.07821,
          -80.07821,
          -122.28671000000001,
          -73.97609,
          -73.97609,
          -73.97609,
          -73.97609,
          -73.97609,
          -73.97609,
          -73.97609,
          -73.97609,
          -73.97609,
          -73.97609,
          -73.22126,
          -73.22126,
          -81.42142,
          -84.5453,
          -84.5453,
          -121.95333000000001,
          -121.95333000000001,
          -121.95333000000001,
          -122.21035,
          -122.21035,
          -122.21035,
          -90.03072,
          -90.03072,
          -90.03072,
          -87.62325,
          -87.62325,
          -87.62325,
          -87.62325,
          -96.56931999999999,
          -96.56931999999999,
          -70.45871,
          -71.06495,
          -71.06495,
          -71.06495,
          -70.88786999999999,
          -74.08265,
          -122.72492,
          -122.72492,
          -122.72492,
          -123.20747,
          -122.34166,
          -122.34166,
          -122.34166,
          -122.34166,
          -111.97625,
          -111.97625,
          -111.97625,
          -111.97625,
          -77.22196,
          -90.15909,
          -90.15909,
          -122.69345,
          -122.69345,
          -73.07446,
          -70.19797,
          -79.89418,
          -79.89418,
          -79.89418,
          -79.89418,
          -97.25123,
          -97.25123,
          -82.51162,
          -82.51162,
          -83.92511,
          -83.92511,
          -83.92511,
          -83.92511,
          -105.0535,
          -105.0535,
          -105.0535,
          -119.28137,
          -119.28137,
          -86.29271,
          -91.17305,
          -91.17305,
          -91.17305,
          -73.97501,
          -73.97501,
          -122.48478,
          -122.48478,
          -71.15635,
          -97.13636,
          -97.13636,
          -87.97723,
          -88.29699000000001,
          -88.29699000000001,
          -88.29699000000001,
          -88.29699000000001,
          -111.89052,
          -111.89052,
          -94.68189,
          -83.16017,
          -95.92404,
          -95.92404,
          -95.92404,
          -73.66465,
          -73.66465,
          -73.66465,
          -73.66465,
          -75.22681,
          -75.22681,
          -75.22681,
          -111.88394,
          -80.66821999999999,
          -87.83542,
          -87.83542,
          -93.04467,
          -93.04467,
          -93.04467,
          -93.04467,
          -93.04467,
          -93.04467,
          -105.15053,
          -105.15053,
          -105.15053,
          -104.69627,
          -108.58311,
          -108.58311,
          -108.58311,
          -83.93590999999999,
          -83.93590999999999,
          -83.93590999999999,
          -93.28124,
          -93.28124,
          -104.96808,
          -76.97726999999999,
          -82.79307,
          -105.97926000000001,
          -81.60883000000001,
          -98.5235,
          -98.5235,
          -98.5235,
          -111.72256000000002,
          -111.72256000000002,
          -111.75093000000001,
          -111.75093000000001,
          -111.75093000000001,
          -84.36704,
          -80.82665,
          -80.82665,
          -80.82665,
          -80.82665,
          -73.265744,
          -72.73101,
          -72.73101,
          -74.16144,
          -74.22509000000001,
          -94.70583,
          -94.70583,
          -97.4343,
          -97.4343,
          -105.08726000000001,
          -76.7287,
          -76.7287,
          -122.30122,
          -122.30122,
          -122.30122,
          -122.30122,
          -122.30122,
          -122.30122,
          -87.81235,
          -72.411,
          -117.0337,
          -117.0337,
          -117.0337,
          -77.19995,
          -88.30995,
          -88.30995,
          -70.75245,
          -70.75245,
          -70.75245,
          -70.75245,
          -70.75245,
          -70.75245,
          -71.57023000000001,
          -122.83547,
          -122.83547,
          -82.97326,
          -82.97326,
          -80.16048,
          -68.78952,
          -68.78952,
          -68.78952,
          -70.25862,
          -80.18753000000001,
          -80.18753000000001,
          -80.18753000000001,
          -75.91199,
          -75.91199,
          -112.1767,
          -112.1767,
          -113.95225,
          -75.37525,
          -71.43672,
          -122.21791999999999,
          -122.21791999999999,
          -70.19141,
          -70.19141,
          -70.19141,
          -71.0522,
          -83.04422,
          -83.04422,
          -83.04422,
          -83.30799,
          -83.30799,
          -88.99592,
          -75.30184,
          -75.30184,
          -98.33086999999999,
          -99.05499,
          -99.05499,
          -96.69589,
          -90.32888,
          -90.32888,
          -90.32888,
          -76.55882,
          -80.19879,
          -80.19879,
          -81.47928,
          -84.23841,
          -75.01886999999999,
          -98.15301,
          -74.19889,
          -119.74536,
          -119.74536,
          -119.74536,
          -71.72051,
          -88.21246,
          -88.21246,
          -97.41741,
          -97.41741,
          -97.41741,
          -93.15536,
          -93.15536,
          -122.08717,
          -122.08717,
          -122.08717,
          -122.08717,
          -120.86983000000001,
          -121.9534,
          -75.03923,
          -118.3813,
          -71.47953000000001,
          -70.8757,
          -70.86205,
          -74.15626999999999,
          -74.712018,
          -84.43700000000001,
          -84.43700000000001,
          -84.43700000000001,
          -84.43700000000001,
          -84.43700000000001,
          -76.79916,
          -88.34177,
          -88.34177,
          -88.34177,
          -119.69703,
          -70.27271999999999,
          -70.27271999999999,
          -71.20166,
          -73.97267,
          -73.97267,
          -73.97267,
          -73.97267,
          -121.80338799999998,
          -121.80338799999998,
          -86.3648,
          -86.3648,
          -86.3648,
          -86.44751,
          -86.44751,
          -84.52064,
          -84.52064,
          -121.21416,
          -121.21416,
          -121.19173,
          -121.19173,
          -121.19173,
          -84.12608,
          -84.12608,
          -111.78594,
          -111.78594,
          -111.78594,
          -87.96779000000001,
          -87.96779000000001,
          -79.98796,
          -104.55089,
          -104.55089,
          -97.96283000000001,
          -97.96283000000001,
          -97.96283000000001,
          -97.96283000000001,
          -96.59106,
          -118.33705,
          -118.33705,
          -118.33705,
          -118.33705,
          -111.73333000000001,
          -111.73333000000001,
          -111.73333000000001,
          -111.6491,
          -111.6491,
          -88.43746,
          -88.43746,
          -88.43746,
          -114.96786999999999,
          -89.63382,
          -89.63382,
          -117.73861000000001,
          -73.05173,
          -73.12729,
          -73.12729,
          -70.24143000000001,
          -70.24143000000001,
          -70.24143000000001,
          -70.24143000000001,
          -71.15205999999999,
          -71.53774,
          -87.72373,
          -88.04864,
          -85.68451999999999,
          -85.68451999999999,
          -85.68451999999999,
          -86.15416,
          -86.15416,
          -86.15416,
          -85.9456,
          -76.81416999999999,
          -104.57029,
          -104.57029,
          -104.57029,
          -118.3949,
          -118.3949,
          -118.3949,
          -118.3949,
          -118.3949,
          -118.3949,
          -118.3949,
          -118.3949,
          -118.3949,
          -73.3001,
          -104.74329,
          -104.74329,
          -104.74329,
          -83.19811999999999,
          -83.19811999999999,
          -71.46376,
          -72.96325,
          -72.96325,
          -72.96325,
          -80.63426,
          -80.63426,
          -93.05001,
          -93.05001,
          -121.9846,
          -121.99086000000001,
          -121.99086000000001,
          -120.34876000000001,
          -120.34876000000001,
          -122.36693999999999,
          -122.36693999999999,
          -122.36693999999999,
          -122.36693999999999,
          -122.36693999999999,
          -93.52556,
          -88.07462,
          -87.96393,
          -87.96393,
          -87.96393,
          -115.06881000000001,
          -115.06881000000001,
          -115.06881000000001,
          -115.06881000000001,
          -117.58734,
          -117.58734,
          -117.58734,
          -117.58734,
          -71.8657,
          -73.17941,
          -73.17941,
          -73.17941,
          -73.17941,
          -86.72584,
          -96.80672,
          -96.80672,
          -92.41741,
          -92.41741,
          -94.4591,
          -83.34736,
          -83.34736,
          -122.40517,
          -122.40517,
          -117.38828999999998,
          -96.04484000000001,
          -96.04484000000001,
          -96.04484000000001,
          -96.04484000000001,
          -90.26307,
          -90.26307,
          -90.62045,
          -122.44498,
          -104.95943,
          -104.95943,
          -104.95943,
          -104.95943,
          -104.95943,
          -87.34298000000001,
          -87.34298000000001,
          -87.34298000000001,
          -87.46084,
          -87.46084,
          -87.46084,
          -87.46084,
          -122.30118,
          -122.30118,
          -122.30118,
          -122.30118,
          -122.30118,
          -118.20765,
          -118.20765,
          -118.20765,
          -118.20765,
          -118.20765,
          -118.20765,
          -118.20765,
          -118.20765,
          -118.20765,
          -122.69317,
          -122.69317,
          -122.69317,
          -122.69317,
          -70.97803,
          -116.004795,
          -116.004795,
          -86.5028,
          -86.5028,
          -86.5028,
          -73.13221,
          -73.13221,
          -71.20008,
          -71.21316,
          -74.18895,
          -74.30371,
          -74.30371,
          -74.3633,
          -110.96354,
          -110.96354,
          -110.96354,
          -110.96354,
          -112.23983999999999,
          -84.64401,
          -84.55465,
          -112.44726000000001,
          -112.44726000000001,
          -112.32176000000001,
          -112.32176000000001,
          -122.77127,
          -122.77127,
          -91.37415,
          -122.62846,
          -90.56956,
          -122.64443,
          -122.64443,
          -122.64443,
          -75.45915,
          -75.45915,
          -75.45915,
          -75.45915,
          -118.009,
          -72.93365,
          -72.93365,
          -117.66681000000001,
          -97.73626,
          -112.05093000000001,
          -112.05093000000001,
          -112.05093000000001,
          -112.05093000000001,
          -112.05093000000001,
          -80.787899,
          -80.787899,
          -80.787899,
          -80.787899,
          -80.787899,
          -80.787899,
          -80.787899,
          -80.787899,
          -80.95736,
          -118.07919,
          -86.52231,
          -86.91144,
          -99.77096,
          -101.87581,
          -101.87581,
          -93.99235999999999,
          -93.99235999999999,
          -105.10036000000001,
          -121.56581000000001,
          -119.94215,
          -117.96943,
          -117.96943,
          -117.96943,
          -117.96943,
          -117.33998999999999,
          -72.80542,
          -73.45441,
          -93.1353,
          -93.1353,
          -93.1353,
          -93.1353,
          -119.77497,
          -119.77497,
          -119.77497,
          -111.85656999999999,
          -111.85656999999999,
          -111.95416000000002,
          -111.95416000000002,
          -97.13849,
          -97.13849,
          -77.02362,
          -77.02362,
          -77.02362,
          -97.13061,
          -97.13061,
          -97.13061,
          -73.9371,
          -73.9371,
          -73.9371,
          -73.9371,
          -78.39121,
          -78.39121,
          -78.39121,
          -78.39121,
          -71.17031,
          -87.56055,
          -87.56055,
          -80.6868,
          -80.6868,
          -80.6868,
          -96.37639,
          -97.30681,
          -97.30681,
          -122.34206,
          -117.16888,
          -117.16888,
          -117.16888,
          -117.16888,
          -69.76345,
          -69.76345,
          -74.3298,
          -118.37177,
          -118.37177,
          -73.41313000000001,
          -122.02305,
          -74.11768000000002,
          -74.11768000000002,
          -118.47528,
          -118.47528,
          -118.47528,
          -118.47528,
          -118.47528,
          -118.47528,
          -118.47528,
          -97.00771,
          -97.00771,
          -122.23396000000001,
          -87.6371,
          -117.46051999999999,
          -117.46051999999999,
          -71.06408,
          -91.73776,
          -119.1769,
          -119.1769,
          -70.27364200000001,
          -74.11438000000001,
          -73.17873,
          -73.17873,
          -70.46301,
          -70.46301,
          -70.45170999999999,
          -92.49472,
          -92.49472,
          -92.49472,
          -92.49472,
          -78.86462,
          -82.6062,
          -78.77508,
          -78.77508,
          -94.70414,
          -94.70414,
          -94.70414,
          -79.87191,
          -79.87191,
          -73.19924,
          -73.19924,
          -73.19924,
          -78.75813000000001,
          -78.75813000000001,
          -73.28001,
          -73.28001,
          -83.06968,
          -83.12713000000001,
          -80.66279,
          -121.80944,
          -121.80944,
          -121.6196,
          -118.30755,
          -118.30755,
          -118.30755,
          -118.30755,
          -118.30755,
          -71.05417,
          -112.38502,
          -112.38502,
          -112.38502,
          -73.00501,
          -73.00501,
          -73.00501,
          -87.77022,
          -87.54638,
          -89.19246,
          -75.38831,
          -88.02753,
          -88.30498,
          -89.64999,
          -73.33006999999999,
          -73.33006999999999,
          -73.33006999999999,
          -73.33006999999999,
          -73.37553,
          -74.01433,
          -96.86306,
          -96.86306,
          -96.86306,
          -95.44103,
          -96.75891999999999,
          -96.75891999999999,
          -96.75891999999999,
          -99.49233000000001,
          -117.03776,
          -117.03776,
          -105.12263,
          -105.12263,
          -110.98534,
          -117.07656999999999,
          -117.07656999999999,
          -121.2531,
          -121.2531,
          -72.06232,
          -100.48058,
          -100.48058,
          -98.18011,
          -71.07276,
          -71.07276,
          -71.07276,
          -71.07276,
          -71.07276,
          -71.07276,
          -106.32749,
          -97.08453,
          -97.08453,
          -97.08453,
          -97.08453,
          -96.88322,
          -88.13688,
          -96.88956999999999,
          -97.11806999999999,
          -97.11806999999999,
          -72.58243,
          -118.11358,
          -118.11358,
          -71.22071,
          -74.022351,
          -75.7431,
          -75.7431,
          -81.36796,
          -81.36796,
          -81.36796,
          -81.36796,
          -111.65408000000001,
          -111.59577,
          -86.80159,
          -86.80159,
          -117.9693,
          -117.9693,
          -117.9693,
          -117.9693,
          -72.778391,
          -77.08723,
          -77.08723,
          -77.08723,
          -77.08723,
          -77.08723,
          -77.08723,
          -77.08723,
          -77.08723,
          -81.39325,
          -71.42989,
          -71.46491999999999,
          -74.1199,
          -74.25881,
          -71.46485,
          -85.11114,
          -87.37271,
          -87.37271,
          -86.13717,
          -86.13717,
          -86.13717,
          -70.919635,
          -71.35583000000001,
          -75.14503,
          -75.14503,
          -75.14503,
          -95.60101999999999,
          -95.60101999999999,
          -95.60101999999999,
          -97.05965,
          -97.05965,
          -97.05965,
          -97.05965,
          -96.89773000000001,
          -96.89773000000001,
          -96.89773000000001,
          -96.89773000000001,
          -96.94949,
          -85.47282,
          -85.47282,
          -73.97864,
          -73.97864,
          -73.97864,
          -97.87006,
          -97.87006,
          -88.27226999999999,
          -88.27226999999999,
          -88.27226999999999,
          -97.83086999999999,
          -97.83086999999999,
          -97.83086999999999,
          -95.12214,
          -95.12214,
          -95.12214,
          -104.7791,
          -104.7791,
          -84.78862,
          -105.05453999999999,
          -99.31787,
          -80.15648,
          -80.15648,
          -80.15648,
          -117.01273,
          -117.01273,
          -87.50391,
          -87.50391,
          -87.50791,
          -87.50791,
          -75.11116,
          -75.11116,
          -112.29455,
          -112.29455,
          -111.97566,
          -111.99898999999999,
          -111.99898999999999,
          -124.21086000000001,
          -124.21086000000001,
          -124.21086000000001,
          -118.22605,
          -118.22605,
          -118.22605,
          -118.22605,
          -104.82491999999999,
          -104.9039,
          -104.9039,
          -104.9039,
          -104.9039,
          -87.71799999999999,
          -73.97608000000001,
          -73.97608000000001,
          -73.97608000000001,
          -73.97608000000001,
          -77.66139,
          -77.66139,
          -77.66139,
          -82.2948,
          -80.2773,
          -80.21016,
          -76.91478000000001,
          -76.91478000000001,
          -97.77986999999999,
          -97.77986999999999,
          -97.98512,
          -97.98512,
          -91.00612,
          -83.21027,
          -83.21027,
          -83.21027,
          -81.31772,
          -81.31772,
          -101.93239,
          -94.68666999999999,
          -97.13485,
          -97.13485,
          -97.13485,
          -121.3237,
          -121.3237,
          -121.3237,
          -70.77684,
          -77.11667,
          -77.11667,
          -77.11667,
          -77.11667,
          -122.18385,
          -122.18385,
          -122.18385,
          -122.18385,
          -122.02398000000001,
          -122.02398000000001,
          -87.61269,
          -87.61269,
          -85.20257,
          -85.20257,
          -117.24211000000001,
          -122.07461,
          -71.05636,
          -71.05636,
          -71.05636,
          -71.05636,
          -71.05636,
          -71.05636,
          -86.11766,
          -86.11766,
          -86.11766,
          -86.11766,
          -86.14676999999999,
          -86.81846999999999,
          -86.81846999999999,
          -104.88288,
          -104.88288,
          -104.88288,
          -104.88288,
          -83.87869,
          -83.87869,
          -83.87869,
          -85.72035,
          -85.72035,
          -85.72035,
          -82.10874,
          -81.52726,
          -93.31296999999999,
          -93.31296999999999,
          -93.31296999999999,
          -120.00992,
          -82.32238000000001,
          -97.37191999999999,
          -97.37191999999999,
          -112.04427,
          -112.04427,
          -82.91606,
          -82.91606,
          -81.92865,
          -81.92865,
          -81.95725999999999,
          -87.89058,
          -87.89058,
          -87.89058,
          -87.89058,
          -88.01334,
          -88.01334,
          -88.01334,
          -93.21540999999999,
          -76.5082,
          -76.5082,
          -76.79217,
          -76.79217,
          -80.27034,
          -80.27034,
          -80.27034,
          -80.25589000000001,
          -80.25589000000001,
          -80.25589000000001,
          -96.32641,
          -85.38114,
          -93.43346,
          -86.85878000000001,
          -86.98786,
          -86.98786,
          -86.98786,
          -79.74935,
          -81.21645,
          -90.32348,
          -90.32348,
          -90.32348,
          -84.89067,
          -88.88917000000002,
          -90.33224,
          -91.05187,
          -89.10381,
          -89.10381,
          -77.21387,
          -77.21387,
          -80.42126999999999,
          -80.42126999999999,
          -80.42126999999999,
          -79.00848,
          -69.61296999999999,
          -81.39929000000001,
          -82.36995,
          -82.36995,
          -82.36995,
          -76.86008000000001,
          -73.71404,
          -73.71404,
          -73.71404,
          -73.67562,
          -73.67562,
          -73.67562,
          -73.587,
          -73.587,
          -121.44561000000002,
          -121.44561000000002,
          -71.53418,
          -87.45806,
          -87.45806,
          -76.27575,
          -87.4519,
          -87.4519,
          -87.4519,
          -73.62609,
          -73.62609,
          -73.62609,
          -73.62609,
          -82.85446,
          -89.2799,
          -89.2799,
          -90.04093,
          -90.26331,
          -121.61538,
          -121.61538,
          -121.61538,
          -73.53903000000001,
          -95.19471999999999,
          -95.19471999999999,
          -73.48631,
          -88.43884,
          -88.43884,
          -79.82919,
          -79.82919,
          -79.82919,
          -118.87348,
          -118.87348,
          -117.71295,
          -77.27888,
          -77.27888,
          -78.50149,
          -78.50149,
          -84.01971999999999,
          -84.55277,
          -84.55277,
          -87.62504,
          -87.62504,
          -95.45085,
          -95.45085,
          -88.32393,
          -76.7808,
          -76.7808,
          -97.323,
          -77.3462,
          -77.3462,
          -93.01941,
          -74.85821,
          -74.85821,
          -88.6596,
          -88.6596,
          -81.55434,
          -81.55434,
          -75.63481,
          -75.63481,
          -84.47464000000001,
          -82.09491,
          -84.71206,
          -84.71206,
          -78.60246,
          -78.60246,
          -78.60246,
          -87.58945,
          -90.68443,
          -117.26158999999998,
          -117.26158999999998,
          -117.26158999999998,
          -117.26158999999998,
          -83.14761999999999,
          -83.14761999999999,
          -83.14761999999999,
          -83.14761999999999,
          -83.14761999999999,
          -81.35302,
          -84.15595,
          -84.15595,
          -116.98066999999999,
          -116.98066999999999,
          -116.98066999999999,
          -77.02858,
          -77.02858,
          -77.02858,
          -73.71885999999999,
          -73.71885999999999,
          -73.71885999999999,
          -73.61740999999999,
          -81.2142,
          -81.2142,
          -77.92463000000001,
          -84.38472,
          -84.38472,
          -84.38472,
          -84.38472,
          -97.92836,
          -98.46255,
          -98.46255,
          -118.35587,
          -118.35587,
          -118.35587,
          -82.77534,
          -82.77534,
          -82.77534,
          -82.77534,
          -90.45363,
          -89.63208,
          -86.24804,
          -87.3977,
          -87.03165,
          -87.03165,
          -87.03165,
          -86.93664,
          -86.93664,
          -122.26655,
          -122.26655,
          -117.61401000000001,
          -84.4843,
          -90.36871,
          -81.53706,
          -89.83743,
          -89.83743,
          -90.10708000000001,
          -83.47575,
          -83.18179,
          -83.18179,
          -90.48975,
          -90.48975,
          -91.11910999999999,
          -91.11910999999999,
          -91.11910999999999,
          -92.45609,
          -92.45609,
          -92.45609,
          -91.65231,
          -91.65231,
          -91.65231,
          -91.65231,
          -122.41545,
          -71.69204,
          -85.84116999999999,
          -85.84116999999999,
          -117.32646000000001,
          -71.86108,
          -105.97561,
          -80.07032,
          -80.07032,
          -80.07032,
          -76.24511,
          -74.25339,
          -71.32030999999999,
          -84.08458,
          -84.08458,
          -90.35168,
          -88.37783,
          -88.37783,
          -88.37783,
          -82.1691,
          -84.57061999999999,
          -92.35557,
          -92.35557,
          -92.39981,
          -92.39981,
          -90.5102,
          -92.04495,
          -82.44234,
          -82.22117,
          -96.60211,
          -97.64713,
          -97.00428000000001,
          -97.00428000000001,
          -97.00428000000001,
          -97.00428000000001,
          -96.19736,
          -111.87293999999999,
          -111.87293999999999,
          -111.87293999999999,
          -111.87293999999999,
          -80.0448,
          -80.0448,
          -110.9878,
          -110.9878,
          -110.9878,
          -110.9878,
          -112.6987,
          -81.84418000000001,
          -81.84418000000001,
          -81.84418000000001,
          -81.84418000000001,
          -83.91427,
          -83.91427,
          -90.21539,
          -88.75665,
          -75.1216,
          -75.1216,
          -83.28331999999999,
          -83.28331999999999,
          -84.47143,
          -84.47143,
          -84.47143,
          -104.95833999999999,
          -102.08108,
          -102.08108,
          -111.83797,
          -111.83797,
          -111.83797,
          -111.83797,
          -111.83797,
          -111.99591000000001,
          -73.46289,
          -107.84945,
          -107.84945,
          -107.84945,
          -107.84945,
          -107.84945,
          -95.79061999999999,
          -95.79061999999999,
          -95.79061999999999,
          -79.74278000000001,
          -96.11289000000001,
          -96.11289000000001,
          -96.11289000000001,
          -96.11289000000001,
          -96.11289000000001,
          -73.83709,
          -94.07141,
          -100.92813000000001,
          -100.92813000000001,
          -100.92813000000001,
          -100.92813000000001,
          -78.88153,
          -78.88153,
          -106.68695,
          -106.68695,
          -106.68695,
          -81.33012,
          -79.99345,
          -79.99345,
          -79.99345,
          -100.77502,
          -77.31536,
          -77.31536,
          -76.5183,
          -80.62098,
          -80.62098,
          -80.62098,
          -84.45127,
          -82.94641,
          -83.3464,
          -83.3464,
          -83.3464,
          -83.69728,
          -83.69728,
          -83.69728,
          -83.69728,
          -83.3382,
          -83.3382,
          -76.483703,
          -73.9949,
          -73.9949,
          -73.9949,
          -121.81888,
          -79.85899,
          -78.89604,
          -90.32160999999999,
          -90.32160999999999,
          -90.32160999999999,
          -76.21795999999999,
          -76.21795999999999,
          -76.21795999999999,
          -76.21795999999999,
          -77.32401999999999,
          -77.32401999999999,
          -92.24764,
          -90.17636,
          -90.17636,
          -83.07158000000001,
          -94.57248,
          -90.37005,
          -103.22589,
          -80.07296,
          -88.73058,
          -77.4363,
          -77.4363,
          -80.16865,
          -80.16865,
          -80.16865,
          -90.6794,
          -90.6794,
          -82.99768,
          -82.99768,
          -82.99768,
          -82.99768,
          -82.99768,
          -83.37799999999999,
          -80.49896,
          -80.49896,
          -118.12392,
          -118.12392,
          -71.80793,
          -87.17419,
          -94.4061,
          -83.1918,
          -83.1918,
          -77.01509,
          -77.01509,
          -77.01509,
          -77.01509,
          -79.24459,
          -79.24459,
          -79.24459,
          -73.51739,
          -73.51739,
          -73.37442,
          -73.37442,
          -93.27656999999999,
          -93.34155,
          -93.34155,
          -93.34155,
          -93.3789,
          -93.3789,
          -93.27301999999999,
          -93.27301999999999,
          -93.27301999999999,
          -94.18256,
          -94.18256,
          -84.4538,
          -76.74382,
          -76.74002,
          -81.50101,
          -81.85646,
          -81.85646,
          -81.85646,
          -81.59344,
          -103.16615999999999,
          -81.92392,
          -77.84993,
          -88.59046,
          -88.59046,
          -88.59046,
          -88.59046,
          -88.59046,
          -78.58348000000001,
          -77.77076,
          -77.77076,
          -85.15312,
          -85.15312,
          -85.15312,
          -85.15312,
          -94.51124,
          -94.54507,
          -94.54507,
          -90.40966,
          -90.40966,
          -82.45463000000001,
          -82.30431999999999,
          -82.30431999999999,
          -82.30431999999999,
          -97.69246,
          -97.68776,
          -97.68776,
          -95.53514,
          -78.96249,
          -79.54126,
          -91.50520999999999,
          -89.39154,
          -88.00891,
          -81.0125,
          -81.98682,
          -81.98682,
          -81.98682,
          -80.18599,
          -80.18599,
          -80.18599,
          -80.18599,
          -93.3195,
          -93.3195,
          -93.3195,
          -85.56392,
          -85.56392,
          -85.56392,
          -74.00012,
          -74.00012,
          -97.11346,
          -81.70296,
          -81.70296,
          -116.17656000000001,
          -116.17656000000001,
          -116.17656000000001,
          -116.17656000000001,
          -116.17656000000001,
          -91.58261999999999,
          -87.97946999999999,
          -87.99141,
          -87.99141,
          -87.99141,
          -87.99141,
          -76.92577,
          -76.92577,
          -95.18118,
          -85.86375,
          -85.86375,
          -76.68561,
          -78.690593,
          -78.690593,
          -78.690593,
          -76.30183000000001,
          -76.30183000000001,
          -76.30183000000001,
          -109.16304,
          -109.16304,
          -81.865,
          -81.60274,
          -81.60274,
          -81.60274,
          -81.60274,
          -81.60274,
          -80.23850999999999,
          -92.10105,
          -85.64785,
          -85.64785,
          -73.97709,
          -73.97709,
          -73.97709,
          -106.76078000000001,
          -73.6374,
          -73.6374,
          -73.6374,
          -73.6374,
          -84.31774,
          -84.31774,
          -84.37817,
          -84.37817,
          -81.09258,
          -88.17257,
          -77.39008000000001,
          -77.39008000000001,
          -77.39008000000001,
          -76.36811,
          -76.36811,
          -77.40085,
          -77.40085,
          -77.40085,
          -95.50776,
          -95.50776,
          -97.181,
          -96.9614,
          -96.9614,
          -96.9614,
          -97.2506,
          -97.72924,
          -97.72924,
          -97.72924,
          -97.39721,
          -97.39721,
          -97.48595999999999,
          -97.48595999999999,
          -88.12464,
          -80.65077,
          -80.70198,
          -80.2369,
          -80.2369,
          -93.31947,
          -93.31947,
          -93.31947,
          -89.04276999999999,
          -86.81577,
          -88.19700999999999,
          -88.19700999999999,
          -93.14463,
          -73.93359,
          -73.93359,
          -93.70836,
          -93.70836,
          -93.70836,
          -93.70836,
          -84.32485,
          -84.32485,
          -84.32485,
          -80.46645,
          -80.46645,
          -88.05592,
          -92.05912,
          -92.05912,
          -81.72457,
          -81.72457,
          -81.80677,
          -81.80677,
          -81.80677,
          -84.22036,
          -84.22036,
          -84.22036,
          -92.03537,
          -92.03537,
          -121.97708999999999,
          -121.97708999999999,
          -121.97708999999999,
          -117.91506000000001,
          -117.91506000000001,
          -117.26855,
          -117.26855,
          -117.26855,
          -117.26855,
          -117.26855,
          -117.26855,
          -87.86784,
          -88.31849,
          -87.50143,
          -87.50143,
          -72.92750699999999,
          -71.12803000000001,
          -73.9758,
          -71.43802,
          -96.38300500000001,
          -93.20496,
          -117.17728999999999,
          -120.676,
          -81.35594,
          -81.28151,
          -77.23535,
          -76.17766999999999,
          -118.3379,
          -118.3379,
          -118.3379,
          -118.3379,
          -118.3379,
          -82.87413000000001,
          -82.87413000000001,
          -82.87413000000001,
          -82.87413000000001,
          -76.71328000000001,
          -87.87878,
          -89.44499,
          -89.44499,
          -89.44499,
          -73.84741,
          -73.84741,
          -73.84741,
          -93.25336,
          -121.73655,
          -121.73655,
          -121.73655,
          -121.73655,
          -121.73655,
          -73.9789,
          -73.9789,
          -85.39917,
          -85.39917,
          -85.39917,
          -85.04512,
          -85.04512,
          -86.10544,
          -86.10544,
          -83.31414000000001,
          -87.68919,
          -87.68919,
          -83.34529,
          -83.34529,
          -71.51216,
          -74.0488,
          -74.0488,
          -74.3183,
          -74.31104,
          -85.55958000000001,
          -98.49646,
          -74.04118000000001,
          -74.04118000000001,
          -74.04118000000001,
          -74.04118000000001,
          -74.04118000000001,
          -74.04118000000001,
          -96.69527,
          -96.69527,
          -89.86559,
          -86.79120999999999,
          -86.79120999999999,
          -97.42394,
          -97.42394,
          -97.42394,
          -97.42394,
          -116.28716000000001,
          -119.06497,
          -119.06497,
          -119.06497,
          -80.01831,
          -97.25166999999999,
          -97.25166999999999,
          -81.80036,
          -81.80036,
          -103.21335,
          -103.21335,
          -103.21335,
          -78.16653000000001,
          -78.16653000000001,
          -82.09821,
          -82.09821,
          -82.09821,
          -82.09821,
          -82.09821,
          -73.47948000000001,
          -74.14263000000001,
          -87.56843,
          -86.78489,
          -86.78489,
          -114.59733999999999,
          -114.59733999999999,
          -87.20727,
          -87.20727,
          -76.86081999999999,
          -76.86081999999999,
          -85.55107,
          -85.55107,
          -84.56913,
          -87.54819,
          -84.93994,
          -85.15939,
          -85.15939,
          -87.4056,
          -122.43597,
          -116.67755,
          -111.8735,
          -111.8735,
          -73.96375,
          -73.96375,
          -78.89839,
          -73.06262,
          -74.99574,
          -84.31769,
          -84.44977,
          -121.92567,
          -87.87468,
          -77.18568,
          -77.18568,
          -77.88452,
          -77.88452,
          -77.91989000000001,
          -122.84521000000001,
          -122.84521000000001,
          -122.84521000000001,
          -90.2138,
          -83.10474,
          -83.10474,
          -92.90646,
          -92.90646,
          -93.20036999999999,
          -93.20036999999999,
          -93.20036999999999,
          -96.35291,
          -118.15581,
          -118.15581,
          -84.88723,
          -82.40054,
          -82.40054,
          -115.16139,
          -116.272921,
          -116.272921,
          -115.57746000000002,
          -115.57746000000002,
          -93.03528,
          -93.03528,
          -95.88417,
          -95.88417,
          -80.18164,
          -80.18164,
          -80.18164,
          -80.18164,
          -89.67416999999999,
          -89.67416999999999,
          -89.67416999999999,
          -87.03565,
          -102.35398,
          -122.315,
          -122.315,
          -122.315,
          -82.3244,
          -99.32559,
          -99.32559,
          -99.32559,
          -96.05318,
          -96.05318,
          -96.05318,
          -96.05318,
          -95.55958000000001,
          -95.55958000000001,
          -122.33651,
          -122.33651,
          -122.33651,
          -80.30069,
          -80.30069,
          -81.91436,
          -81.91436,
          -122.37468,
          -80.13861,
          -80.13861,
          -80.82748000000001,
          -80.82748000000001,
          -80.82748000000001,
          -80.82748000000001,
          -80.82748000000001,
          -80.82748000000001,
          -80.82748000000001,
          -80.82748000000001,
          -82.0046,
          -82.0046,
          -81.74204,
          -81.70506999999999,
          -81.70506999999999,
          -81.70506999999999,
          -83.37161,
          -93.99388,
          -93.99388,
          -93.43183,
          -93.43183,
          -82.7961,
          -81.60793000000001,
          -81.60793000000001,
          -81.60793000000001,
          -81.60793000000001,
          -97.05896,
          -97.05896,
          -87.63014,
          -77.73025,
          -76.86570999999999,
          -76.86570999999999,
          -80.05911,
          -80.05911,
          -121.15783,
          -71.10215,
          -71.09835,
          -74.48559,
          -84.27234,
          -78.7006,
          -83.07989,
          -93.00616,
          -87.94726999999999,
          -88.48273,
          -94.34581,
          -76.41533000000001,
          -82.48254,
          -80.18921999999999,
          -80.18921999999999,
          -80.18921999999999,
          -88.09438,
          -88.09438,
          -88.09438,
          -87.8992,
          -102.8041,
          -102.8041,
          -102.8041,
          -102.8041,
          -82.71083,
          -82.71083,
          -82.71083,
          -82.71083,
          -93.73568,
          -93.73568,
          -87.79746999999999,
          -87.72893,
          -83.17952,
          -83.28211,
          -82.44402,
          -82.44402,
          -82.44402,
          -116.7757,
          -116.7757,
          -112.07391000000001,
          -112.07391000000001,
          -93.40857,
          -93.40857,
          -77.56272,
          -77.56272,
          -77.56272,
          -88.01723,
          -88.01723,
          -100.90890999999999,
          -100.90890999999999,
          -100.90890999999999,
          -100.90890999999999,
          -100.82503,
          -100.82503,
          -97.92381999999999,
          -94.93555,
          -94.63248,
          -94.63248,
          -122.25855,
          -88.28746,
          -88.28746,
          -88.28746,
          -88.28746,
          -122.19702,
          -122.19702,
          -122.19702,
          -122.80358999999999,
          -122.80358999999999,
          -122.80358999999999,
          -122.80358999999999,
          -80.74545,
          -92.96531999999999,
          -92.96531999999999,
          -92.96531999999999,
          -118.27591000000001,
          -81.43744000000001,
          -81.83197,
          -83.67036999999999,
          -83.67036999999999,
          -75.19044,
          -75.19044,
          -75.19044,
          -75.19044,
          -75.19044,
          -75.19044,
          -75.19044,
          -82.24417,
          -84.52271,
          -72.87181,
          -72.87181,
          -72.87181,
          -80.13341,
          -95.57243000000001,
          -95.57243000000001,
          -95.57243000000001,
          -91.84073000000001,
          -91.84073000000001,
          -91.84073000000001,
          -81.40625,
          -90.03036,
          -87.85978,
          -90.50005999999999,
          -87.93621,
          -93.80022,
          -88.01172,
          -88.01172,
          -88.14579,
          -88.14579,
          -88.14579,
          -88.14579,
          -88.14579,
          -88.14579,
          -71.43842,
          -71.38205,
          -95.20215999999999,
          -95.20215999999999,
          -97.62299999999999,
          -98.18619,
          -98.18619,
          -116.94564,
          -111.80941999999999,
          -111.80941999999999,
          -116.03343000000001,
          -116.03343000000001,
          -116.03343000000001,
          -116.03343000000001,
          -116.03343000000001,
          -116.03343000000001,
          -116.03343000000001,
          -82.72244,
          -82.72244,
          -82.72244,
          -81.28761,
          -81.28761,
          -81.28761,
          -81.28761,
          -81.420603,
          -81.420603,
          -81.420603,
          -80.98175,
          -80.29691,
          -81.58359,
          -81.58359,
          -81.58359,
          -80.11803,
          -80.11803,
          -93.22716,
          -82.31799000000001,
          -89.55621,
          -89.55621,
          -82.50199,
          -82.50199,
          -122.42188,
          -87.84303,
          -114.47509,
          -114.47509,
          -114.47509,
          -118.40612,
          -88.00222,
          -88.00222,
          -80.27284,
          -84.31528,
          -84.31528,
          -86.4548,
          -89.80677,
          -86.61173000000001,
          -86.61173000000001,
          -86.61173000000001,
          -86.61173000000001,
          -86.61173000000001,
          -92.09474,
          -88.20924000000001,
          -88.20924000000001,
          -88.20924000000001,
          -123.2752,
          -71.42079,
          -89.77587,
          -76.48358,
          -73.97979000000001,
          -73.98942,
          -73.98942,
          -80.22122,
          -122.98043,
          -122.98043,
          -122.28348000000001,
          -84.04585,
          -124.16102,
          -74.42481,
          -122.35196,
          -122.35196,
          -122.35196,
          -81.02492,
          -81.02492,
          -81.02492,
          -81.02492,
          -80.30688,
          -80.30688,
          -81.42159000000001,
          -77.38526999999999,
          -77.38526999999999,
          -121.19013000000001,
          -80.08976,
          -72.10338,
          -72.62029,
          -71.35368000000001,
          -70.48866,
          -71.14276,
          -88.81959,
          -88.81959,
          -112.32364,
          -81.10296,
          -81.10296,
          -82.50632,
          -80.81695,
          -80.81695,
          -122.39156000000001,
          -77.04195,
          -83.12781,
          -80.22077,
          -80.22077,
          -80.22077,
          -122.4485,
          -119.09461999999999,
          -119.09461999999999,
          -115.48277,
          -115.48277,
          -115.48277,
          -119.05258,
          -119.05258,
          -119.05258,
          -116.36346,
          -116.36346,
          -116.36346,
          -88.00012,
          -88.01273,
          -88.18026,
          -88.18026,
          -88.18026,
          -84.20629,
          -84.20629,
          -83.07655,
          -83.07655,
          -76.70867,
          -76.70867,
          -76.70867,
          -76.70867,
          -84.59706,
          -84.59706,
          -85.0745,
          -85.0745,
          -85.0745,
          -83.67119,
          -83.67119,
          -80.66467,
          -80.66467,
          -83.65795,
          -83.65795,
          -122.03701000000001,
          -117.18648,
          -117.18648,
          -87.62898,
          -87.62898,
          -87.62898,
          -80.13936,
          -104.80208
         ],
         "marker": {
          "color": "#636efa"
         },
         "mode": "markers",
         "name": "",
         "showlegend": false,
         "subplot": "mapbox",
         "type": "scattermapbox"
        }
       ],
       "layout": {
        "legend": {
         "tracegroupgap": 0
        },
        "mapbox": {
         "center": {
          "lat": 37.0902,
          "lon": -95.7129
         },
         "domain": {
          "x": [
           0,
           1
          ],
          "y": [
           0,
           1
          ]
         },
         "style": "open-street-map",
         "zoom": 3
        },
        "margin": {
         "b": 0,
         "l": 0,
         "r": 0,
         "t": 0
        },
        "template": {
         "data": {
          "bar": [
           {
            "error_x": {
             "color": "#2a3f5f"
            },
            "error_y": {
             "color": "#2a3f5f"
            },
            "marker": {
             "line": {
              "color": "#E5ECF6",
              "width": 0.5
             }
            },
            "type": "bar"
           }
          ],
          "barpolar": [
           {
            "marker": {
             "line": {
              "color": "#E5ECF6",
              "width": 0.5
             }
            },
            "type": "barpolar"
           }
          ],
          "carpet": [
           {
            "aaxis": {
             "endlinecolor": "#2a3f5f",
             "gridcolor": "white",
             "linecolor": "white",
             "minorgridcolor": "white",
             "startlinecolor": "#2a3f5f"
            },
            "baxis": {
             "endlinecolor": "#2a3f5f",
             "gridcolor": "white",
             "linecolor": "white",
             "minorgridcolor": "white",
             "startlinecolor": "#2a3f5f"
            },
            "type": "carpet"
           }
          ],
          "choropleth": [
           {
            "colorbar": {
             "outlinewidth": 0,
             "ticks": ""
            },
            "type": "choropleth"
           }
          ],
          "contour": [
           {
            "colorbar": {
             "outlinewidth": 0,
             "ticks": ""
            },
            "colorscale": [
             [
              0,
              "#0d0887"
             ],
             [
              0.1111111111111111,
              "#46039f"
             ],
             [
              0.2222222222222222,
              "#7201a8"
             ],
             [
              0.3333333333333333,
              "#9c179e"
             ],
             [
              0.4444444444444444,
              "#bd3786"
             ],
             [
              0.5555555555555556,
              "#d8576b"
             ],
             [
              0.6666666666666666,
              "#ed7953"
             ],
             [
              0.7777777777777778,
              "#fb9f3a"
             ],
             [
              0.8888888888888888,
              "#fdca26"
             ],
             [
              1,
              "#f0f921"
             ]
            ],
            "type": "contour"
           }
          ],
          "contourcarpet": [
           {
            "colorbar": {
             "outlinewidth": 0,
             "ticks": ""
            },
            "type": "contourcarpet"
           }
          ],
          "heatmap": [
           {
            "colorbar": {
             "outlinewidth": 0,
             "ticks": ""
            },
            "colorscale": [
             [
              0,
              "#0d0887"
             ],
             [
              0.1111111111111111,
              "#46039f"
             ],
             [
              0.2222222222222222,
              "#7201a8"
             ],
             [
              0.3333333333333333,
              "#9c179e"
             ],
             [
              0.4444444444444444,
              "#bd3786"
             ],
             [
              0.5555555555555556,
              "#d8576b"
             ],
             [
              0.6666666666666666,
              "#ed7953"
             ],
             [
              0.7777777777777778,
              "#fb9f3a"
             ],
             [
              0.8888888888888888,
              "#fdca26"
             ],
             [
              1,
              "#f0f921"
             ]
            ],
            "type": "heatmap"
           }
          ],
          "heatmapgl": [
           {
            "colorbar": {
             "outlinewidth": 0,
             "ticks": ""
            },
            "colorscale": [
             [
              0,
              "#0d0887"
             ],
             [
              0.1111111111111111,
              "#46039f"
             ],
             [
              0.2222222222222222,
              "#7201a8"
             ],
             [
              0.3333333333333333,
              "#9c179e"
             ],
             [
              0.4444444444444444,
              "#bd3786"
             ],
             [
              0.5555555555555556,
              "#d8576b"
             ],
             [
              0.6666666666666666,
              "#ed7953"
             ],
             [
              0.7777777777777778,
              "#fb9f3a"
             ],
             [
              0.8888888888888888,
              "#fdca26"
             ],
             [
              1,
              "#f0f921"
             ]
            ],
            "type": "heatmapgl"
           }
          ],
          "histogram": [
           {
            "marker": {
             "colorbar": {
              "outlinewidth": 0,
              "ticks": ""
             }
            },
            "type": "histogram"
           }
          ],
          "histogram2d": [
           {
            "colorbar": {
             "outlinewidth": 0,
             "ticks": ""
            },
            "colorscale": [
             [
              0,
              "#0d0887"
             ],
             [
              0.1111111111111111,
              "#46039f"
             ],
             [
              0.2222222222222222,
              "#7201a8"
             ],
             [
              0.3333333333333333,
              "#9c179e"
             ],
             [
              0.4444444444444444,
              "#bd3786"
             ],
             [
              0.5555555555555556,
              "#d8576b"
             ],
             [
              0.6666666666666666,
              "#ed7953"
             ],
             [
              0.7777777777777778,
              "#fb9f3a"
             ],
             [
              0.8888888888888888,
              "#fdca26"
             ],
             [
              1,
              "#f0f921"
             ]
            ],
            "type": "histogram2d"
           }
          ],
          "histogram2dcontour": [
           {
            "colorbar": {
             "outlinewidth": 0,
             "ticks": ""
            },
            "colorscale": [
             [
              0,
              "#0d0887"
             ],
             [
              0.1111111111111111,
              "#46039f"
             ],
             [
              0.2222222222222222,
              "#7201a8"
             ],
             [
              0.3333333333333333,
              "#9c179e"
             ],
             [
              0.4444444444444444,
              "#bd3786"
             ],
             [
              0.5555555555555556,
              "#d8576b"
             ],
             [
              0.6666666666666666,
              "#ed7953"
             ],
             [
              0.7777777777777778,
              "#fb9f3a"
             ],
             [
              0.8888888888888888,
              "#fdca26"
             ],
             [
              1,
              "#f0f921"
             ]
            ],
            "type": "histogram2dcontour"
           }
          ],
          "mesh3d": [
           {
            "colorbar": {
             "outlinewidth": 0,
             "ticks": ""
            },
            "type": "mesh3d"
           }
          ],
          "parcoords": [
           {
            "line": {
             "colorbar": {
              "outlinewidth": 0,
              "ticks": ""
             }
            },
            "type": "parcoords"
           }
          ],
          "pie": [
           {
            "automargin": true,
            "type": "pie"
           }
          ],
          "scatter": [
           {
            "marker": {
             "colorbar": {
              "outlinewidth": 0,
              "ticks": ""
             }
            },
            "type": "scatter"
           }
          ],
          "scatter3d": [
           {
            "line": {
             "colorbar": {
              "outlinewidth": 0,
              "ticks": ""
             }
            },
            "marker": {
             "colorbar": {
              "outlinewidth": 0,
              "ticks": ""
             }
            },
            "type": "scatter3d"
           }
          ],
          "scattercarpet": [
           {
            "marker": {
             "colorbar": {
              "outlinewidth": 0,
              "ticks": ""
             }
            },
            "type": "scattercarpet"
           }
          ],
          "scattergeo": [
           {
            "marker": {
             "colorbar": {
              "outlinewidth": 0,
              "ticks": ""
             }
            },
            "type": "scattergeo"
           }
          ],
          "scattergl": [
           {
            "marker": {
             "colorbar": {
              "outlinewidth": 0,
              "ticks": ""
             }
            },
            "type": "scattergl"
           }
          ],
          "scattermapbox": [
           {
            "marker": {
             "colorbar": {
              "outlinewidth": 0,
              "ticks": ""
             }
            },
            "type": "scattermapbox"
           }
          ],
          "scatterpolar": [
           {
            "marker": {
             "colorbar": {
              "outlinewidth": 0,
              "ticks": ""
             }
            },
            "type": "scatterpolar"
           }
          ],
          "scatterpolargl": [
           {
            "marker": {
             "colorbar": {
              "outlinewidth": 0,
              "ticks": ""
             }
            },
            "type": "scatterpolargl"
           }
          ],
          "scatterternary": [
           {
            "marker": {
             "colorbar": {
              "outlinewidth": 0,
              "ticks": ""
             }
            },
            "type": "scatterternary"
           }
          ],
          "surface": [
           {
            "colorbar": {
             "outlinewidth": 0,
             "ticks": ""
            },
            "colorscale": [
             [
              0,
              "#0d0887"
             ],
             [
              0.1111111111111111,
              "#46039f"
             ],
             [
              0.2222222222222222,
              "#7201a8"
             ],
             [
              0.3333333333333333,
              "#9c179e"
             ],
             [
              0.4444444444444444,
              "#bd3786"
             ],
             [
              0.5555555555555556,
              "#d8576b"
             ],
             [
              0.6666666666666666,
              "#ed7953"
             ],
             [
              0.7777777777777778,
              "#fb9f3a"
             ],
             [
              0.8888888888888888,
              "#fdca26"
             ],
             [
              1,
              "#f0f921"
             ]
            ],
            "type": "surface"
           }
          ],
          "table": [
           {
            "cells": {
             "fill": {
              "color": "#EBF0F8"
             },
             "line": {
              "color": "white"
             }
            },
            "header": {
             "fill": {
              "color": "#C8D4E3"
             },
             "line": {
              "color": "white"
             }
            },
            "type": "table"
           }
          ]
         },
         "layout": {
          "annotationdefaults": {
           "arrowcolor": "#2a3f5f",
           "arrowhead": 0,
           "arrowwidth": 1
          },
          "coloraxis": {
           "colorbar": {
            "outlinewidth": 0,
            "ticks": ""
           }
          },
          "colorscale": {
           "diverging": [
            [
             0,
             "#8e0152"
            ],
            [
             0.1,
             "#c51b7d"
            ],
            [
             0.2,
             "#de77ae"
            ],
            [
             0.3,
             "#f1b6da"
            ],
            [
             0.4,
             "#fde0ef"
            ],
            [
             0.5,
             "#f7f7f7"
            ],
            [
             0.6,
             "#e6f5d0"
            ],
            [
             0.7,
             "#b8e186"
            ],
            [
             0.8,
             "#7fbc41"
            ],
            [
             0.9,
             "#4d9221"
            ],
            [
             1,
             "#276419"
            ]
           ],
           "sequential": [
            [
             0,
             "#0d0887"
            ],
            [
             0.1111111111111111,
             "#46039f"
            ],
            [
             0.2222222222222222,
             "#7201a8"
            ],
            [
             0.3333333333333333,
             "#9c179e"
            ],
            [
             0.4444444444444444,
             "#bd3786"
            ],
            [
             0.5555555555555556,
             "#d8576b"
            ],
            [
             0.6666666666666666,
             "#ed7953"
            ],
            [
             0.7777777777777778,
             "#fb9f3a"
            ],
            [
             0.8888888888888888,
             "#fdca26"
            ],
            [
             1,
             "#f0f921"
            ]
           ],
           "sequentialminus": [
            [
             0,
             "#0d0887"
            ],
            [
             0.1111111111111111,
             "#46039f"
            ],
            [
             0.2222222222222222,
             "#7201a8"
            ],
            [
             0.3333333333333333,
             "#9c179e"
            ],
            [
             0.4444444444444444,
             "#bd3786"
            ],
            [
             0.5555555555555556,
             "#d8576b"
            ],
            [
             0.6666666666666666,
             "#ed7953"
            ],
            [
             0.7777777777777778,
             "#fb9f3a"
            ],
            [
             0.8888888888888888,
             "#fdca26"
            ],
            [
             1,
             "#f0f921"
            ]
           ]
          },
          "colorway": [
           "#636efa",
           "#EF553B",
           "#00cc96",
           "#ab63fa",
           "#FFA15A",
           "#19d3f3",
           "#FF6692",
           "#B6E880",
           "#FF97FF",
           "#FECB52"
          ],
          "font": {
           "color": "#2a3f5f"
          },
          "geo": {
           "bgcolor": "white",
           "lakecolor": "white",
           "landcolor": "#E5ECF6",
           "showlakes": true,
           "showland": true,
           "subunitcolor": "white"
          },
          "hoverlabel": {
           "align": "left"
          },
          "hovermode": "closest",
          "mapbox": {
           "style": "light"
          },
          "paper_bgcolor": "white",
          "plot_bgcolor": "#E5ECF6",
          "polar": {
           "angularaxis": {
            "gridcolor": "white",
            "linecolor": "white",
            "ticks": ""
           },
           "bgcolor": "#E5ECF6",
           "radialaxis": {
            "gridcolor": "white",
            "linecolor": "white",
            "ticks": ""
           }
          },
          "scene": {
           "xaxis": {
            "backgroundcolor": "#E5ECF6",
            "gridcolor": "white",
            "gridwidth": 2,
            "linecolor": "white",
            "showbackground": true,
            "ticks": "",
            "zerolinecolor": "white"
           },
           "yaxis": {
            "backgroundcolor": "#E5ECF6",
            "gridcolor": "white",
            "gridwidth": 2,
            "linecolor": "white",
            "showbackground": true,
            "ticks": "",
            "zerolinecolor": "white"
           },
           "zaxis": {
            "backgroundcolor": "#E5ECF6",
            "gridcolor": "white",
            "gridwidth": 2,
            "linecolor": "white",
            "showbackground": true,
            "ticks": "",
            "zerolinecolor": "white"
           }
          },
          "shapedefaults": {
           "line": {
            "color": "#2a3f5f"
           }
          },
          "ternary": {
           "aaxis": {
            "gridcolor": "white",
            "linecolor": "white",
            "ticks": ""
           },
           "baxis": {
            "gridcolor": "white",
            "linecolor": "white",
            "ticks": ""
           },
           "bgcolor": "#E5ECF6",
           "caxis": {
            "gridcolor": "white",
            "linecolor": "white",
            "ticks": ""
           }
          },
          "title": {
           "x": 0.05
          },
          "xaxis": {
           "automargin": true,
           "gridcolor": "white",
           "linecolor": "white",
           "ticks": "",
           "title": {
            "standoff": 15
           },
           "zerolinecolor": "white",
           "zerolinewidth": 2
          },
          "yaxis": {
           "automargin": true,
           "gridcolor": "white",
           "linecolor": "white",
           "ticks": "",
           "title": {
            "standoff": 15
           },
           "zerolinecolor": "white",
           "zerolinewidth": 2
          }
         }
        }
       }
      }
     },
     "metadata": {}
    }
   ],
   "source": [
    "fig = px.scatter_mapbox(superstore2, lat=\"Latitude\", lon=\"Longitude\", hover_name=\"City\",zoom=3,  center = {\"lat\": 37.0902, \"lon\": -95.7129})\n",
    "fig.update_layout(mapbox_style=\"open-street-map\")\n",
    "fig.update_layout(margin={\"r\":0,\"t\":0,\"l\":0,\"b\":0})\n",
    "fig.show()"
   ]
  },
  {
   "cell_type": "code",
   "execution_count": 19,
   "metadata": {},
   "outputs": [
    {
     "output_type": "execute_result",
     "data": {
      "text/plain": "          ID STATE_CODE STATE_NAME                       CITY          COUNTY  \\\n0          1         AK     Alaska                       Adak  Aleutians West   \n1          2         AK     Alaska                   Akiachak          Bethel   \n2          3         AK     Alaska                      Akiak          Bethel   \n3          4         AK     Alaska                     Akutan  Aleutians East   \n4          5         AK     Alaska                   Alakanuk    Wade Hampton   \n...      ...        ...        ...                        ...             ...   \n29875  29876         WY    Wyoming                    Worland        Washakie   \n29876  29877         WY    Wyoming                     Wright        Campbell   \n29877  29878         WY    Wyoming                     Wyarno        Sheridan   \n29878  29879         WY    Wyoming  Yellowstone National Park            Park   \n29879  29880         WY    Wyoming                      Yoder          Goshen   \n\n        LATITUDE   LONGITUDE  \n0      55.999722 -161.207778  \n1      60.891854 -161.392330  \n2      60.890632 -161.199325  \n3      54.143012 -165.785368  \n4      62.746967 -164.602280  \n...          ...         ...  \n29875  44.013796 -107.956260  \n29876  43.829349 -105.532327  \n29877  44.813333 -106.773333  \n29878  44.853913 -110.674366  \n29879  41.912018 -104.353507  \n\n[29880 rows x 7 columns]",
      "text/html": "<div>\n<style scoped>\n    .dataframe tbody tr th:only-of-type {\n        vertical-align: middle;\n    }\n\n    .dataframe tbody tr th {\n        vertical-align: top;\n    }\n\n    .dataframe thead th {\n        text-align: right;\n    }\n</style>\n<table border=\"1\" class=\"dataframe\">\n  <thead>\n    <tr style=\"text-align: right;\">\n      <th></th>\n      <th>ID</th>\n      <th>STATE_CODE</th>\n      <th>STATE_NAME</th>\n      <th>CITY</th>\n      <th>COUNTY</th>\n      <th>LATITUDE</th>\n      <th>LONGITUDE</th>\n    </tr>\n  </thead>\n  <tbody>\n    <tr>\n      <th>0</th>\n      <td>1</td>\n      <td>AK</td>\n      <td>Alaska</td>\n      <td>Adak</td>\n      <td>Aleutians West</td>\n      <td>55.999722</td>\n      <td>-161.207778</td>\n    </tr>\n    <tr>\n      <th>1</th>\n      <td>2</td>\n      <td>AK</td>\n      <td>Alaska</td>\n      <td>Akiachak</td>\n      <td>Bethel</td>\n      <td>60.891854</td>\n      <td>-161.392330</td>\n    </tr>\n    <tr>\n      <th>2</th>\n      <td>3</td>\n      <td>AK</td>\n      <td>Alaska</td>\n      <td>Akiak</td>\n      <td>Bethel</td>\n      <td>60.890632</td>\n      <td>-161.199325</td>\n    </tr>\n    <tr>\n      <th>3</th>\n      <td>4</td>\n      <td>AK</td>\n      <td>Alaska</td>\n      <td>Akutan</td>\n      <td>Aleutians East</td>\n      <td>54.143012</td>\n      <td>-165.785368</td>\n    </tr>\n    <tr>\n      <th>4</th>\n      <td>5</td>\n      <td>AK</td>\n      <td>Alaska</td>\n      <td>Alakanuk</td>\n      <td>Wade Hampton</td>\n      <td>62.746967</td>\n      <td>-164.602280</td>\n    </tr>\n    <tr>\n      <th>...</th>\n      <td>...</td>\n      <td>...</td>\n      <td>...</td>\n      <td>...</td>\n      <td>...</td>\n      <td>...</td>\n      <td>...</td>\n    </tr>\n    <tr>\n      <th>29875</th>\n      <td>29876</td>\n      <td>WY</td>\n      <td>Wyoming</td>\n      <td>Worland</td>\n      <td>Washakie</td>\n      <td>44.013796</td>\n      <td>-107.956260</td>\n    </tr>\n    <tr>\n      <th>29876</th>\n      <td>29877</td>\n      <td>WY</td>\n      <td>Wyoming</td>\n      <td>Wright</td>\n      <td>Campbell</td>\n      <td>43.829349</td>\n      <td>-105.532327</td>\n    </tr>\n    <tr>\n      <th>29877</th>\n      <td>29878</td>\n      <td>WY</td>\n      <td>Wyoming</td>\n      <td>Wyarno</td>\n      <td>Sheridan</td>\n      <td>44.813333</td>\n      <td>-106.773333</td>\n    </tr>\n    <tr>\n      <th>29878</th>\n      <td>29879</td>\n      <td>WY</td>\n      <td>Wyoming</td>\n      <td>Yellowstone National Park</td>\n      <td>Park</td>\n      <td>44.853913</td>\n      <td>-110.674366</td>\n    </tr>\n    <tr>\n      <th>29879</th>\n      <td>29880</td>\n      <td>WY</td>\n      <td>Wyoming</td>\n      <td>Yoder</td>\n      <td>Goshen</td>\n      <td>41.912018</td>\n      <td>-104.353507</td>\n    </tr>\n  </tbody>\n</table>\n<p>29880 rows × 7 columns</p>\n</div>"
     },
     "metadata": {},
     "execution_count": 19
    }
   ],
   "source": [
    "us_cities"
   ]
  },
  {
   "source": [
    "# currency"
   ],
   "cell_type": "markdown",
   "metadata": {}
  },
  {
   "cell_type": "code",
   "execution_count": 1,
   "metadata": {},
   "outputs": [],
   "source": [
    "from tools import df_0, transco_dic\n",
    "import pandas as pd"
   ]
  },
  {
   "cell_type": "code",
   "execution_count": 3,
   "metadata": {},
   "outputs": [],
   "source": [
    "today = df_0[df_0.date == df_0.date.max()]"
   ]
  },
  {
   "cell_type": "code",
   "execution_count": 4,
   "metadata": {},
   "outputs": [],
   "source": [
    "transco = pd.read_csv(\"transco.csv\", sep=\";\")\n",
    "transco.rename(columns={\"abbr\": \"currency\"}, inplace=True)"
   ]
  },
  {
   "cell_type": "code",
   "execution_count": 7,
   "metadata": {},
   "outputs": [
    {
     "output_type": "execute_result",
     "data": {
      "text/plain": "42"
     },
     "metadata": {},
     "execution_count": 7
    }
   ],
   "source": [
    "len(today.currency.unique())"
   ]
  },
  {
   "cell_type": "code",
   "execution_count": 8,
   "metadata": {},
   "outputs": [
    {
     "output_type": "execute_result",
     "data": {
      "text/plain": "35"
     },
     "metadata": {},
     "execution_count": 8
    }
   ],
   "source": [
    "len(transco.currency.unique())"
   ]
  },
  {
   "cell_type": "code",
   "execution_count": 12,
   "metadata": {},
   "outputs": [
    {
     "output_type": "execute_result",
     "data": {
      "text/plain": "[&#39;TRL&#39;, &#39;EEK&#39;, &#39;CYP&#39;, &#39;ROL&#39;, &#39;MTL&#39;, &#39;SIT&#39;, &#39;SKK&#39;]"
     },
     "metadata": {},
     "execution_count": 12
    }
   ],
   "source": [
    "# absentes dans transco\n",
    "[m for m in today.currency.unique() if m not in transco.currency.unique()]"
   ]
  },
  {
   "cell_type": "code",
   "execution_count": 13,
   "metadata": {},
   "outputs": [
    {
     "output_type": "execute_result",
     "data": {
      "text/plain": "   currency                  label\n0       USD              US dollar\n1       JPY           Japanese yen\n2       BGN          Bulgarian lev\n3       CZK           Czech koruna\n4       DKK           Danish krone\n5       GBP         Pound sterling\n6       HUF       Hungarian forint\n7       PLN           Polish zloty\n8       RON           Romanian leu\n9       SEK          Swedish krona\n10      CHF            Swiss franc\n11      ISK        Icelandic krona\n12      NOK        Norwegian krone\n13      HRK          Croatian kuna\n14      RUB         Russian rouble\n15      TRY           Turkish lira\n16      AUD      Australian dollar\n17      BRL         Brazilian real\n18      CAD        Canadian dollar\n19      CNY  Chinese yuan renminbi\n20      HKD       Hong Kong dollar\n21      IDR      Indonesian rupiah\n22      ILS         Israeli shekel\n23      INR           Indian rupee\n24      KRW       South Korean won\n25      MXN           Mexican peso\n26      MYR      Malaysian ringgit\n27      NZD     New Zealand dollar\n28      PHP        Philippine peso\n29      SGD       Singapore dollar\n30      THB              Thai baht\n31      ZAR     South African rand\n32      LVL            Latvia, Lat\n33      LTL       Lithuania, Litas\n34      EUR                   Euro",
      "text/html": "<div>\n<style scoped>\n    .dataframe tbody tr th:only-of-type {\n        vertical-align: middle;\n    }\n\n    .dataframe tbody tr th {\n        vertical-align: top;\n    }\n\n    .dataframe thead th {\n        text-align: right;\n    }\n</style>\n<table border=\"1\" class=\"dataframe\">\n  <thead>\n    <tr style=\"text-align: right;\">\n      <th></th>\n      <th>currency</th>\n      <th>label</th>\n    </tr>\n  </thead>\n  <tbody>\n    <tr>\n      <th>0</th>\n      <td>USD</td>\n      <td>US dollar</td>\n    </tr>\n    <tr>\n      <th>1</th>\n      <td>JPY</td>\n      <td>Japanese yen</td>\n    </tr>\n    <tr>\n      <th>2</th>\n      <td>BGN</td>\n      <td>Bulgarian lev</td>\n    </tr>\n    <tr>\n      <th>3</th>\n      <td>CZK</td>\n      <td>Czech koruna</td>\n    </tr>\n    <tr>\n      <th>4</th>\n      <td>DKK</td>\n      <td>Danish krone</td>\n    </tr>\n    <tr>\n      <th>5</th>\n      <td>GBP</td>\n      <td>Pound sterling</td>\n    </tr>\n    <tr>\n      <th>6</th>\n      <td>HUF</td>\n      <td>Hungarian forint</td>\n    </tr>\n    <tr>\n      <th>7</th>\n      <td>PLN</td>\n      <td>Polish zloty</td>\n    </tr>\n    <tr>\n      <th>8</th>\n      <td>RON</td>\n      <td>Romanian leu</td>\n    </tr>\n    <tr>\n      <th>9</th>\n      <td>SEK</td>\n      <td>Swedish krona</td>\n    </tr>\n    <tr>\n      <th>10</th>\n      <td>CHF</td>\n      <td>Swiss franc</td>\n    </tr>\n    <tr>\n      <th>11</th>\n      <td>ISK</td>\n      <td>Icelandic krona</td>\n    </tr>\n    <tr>\n      <th>12</th>\n      <td>NOK</td>\n      <td>Norwegian krone</td>\n    </tr>\n    <tr>\n      <th>13</th>\n      <td>HRK</td>\n      <td>Croatian kuna</td>\n    </tr>\n    <tr>\n      <th>14</th>\n      <td>RUB</td>\n      <td>Russian rouble</td>\n    </tr>\n    <tr>\n      <th>15</th>\n      <td>TRY</td>\n      <td>Turkish lira</td>\n    </tr>\n    <tr>\n      <th>16</th>\n      <td>AUD</td>\n      <td>Australian dollar</td>\n    </tr>\n    <tr>\n      <th>17</th>\n      <td>BRL</td>\n      <td>Brazilian real</td>\n    </tr>\n    <tr>\n      <th>18</th>\n      <td>CAD</td>\n      <td>Canadian dollar</td>\n    </tr>\n    <tr>\n      <th>19</th>\n      <td>CNY</td>\n      <td>Chinese yuan renminbi</td>\n    </tr>\n    <tr>\n      <th>20</th>\n      <td>HKD</td>\n      <td>Hong Kong dollar</td>\n    </tr>\n    <tr>\n      <th>21</th>\n      <td>IDR</td>\n      <td>Indonesian rupiah</td>\n    </tr>\n    <tr>\n      <th>22</th>\n      <td>ILS</td>\n      <td>Israeli shekel</td>\n    </tr>\n    <tr>\n      <th>23</th>\n      <td>INR</td>\n      <td>Indian rupee</td>\n    </tr>\n    <tr>\n      <th>24</th>\n      <td>KRW</td>\n      <td>South Korean won</td>\n    </tr>\n    <tr>\n      <th>25</th>\n      <td>MXN</td>\n      <td>Mexican peso</td>\n    </tr>\n    <tr>\n      <th>26</th>\n      <td>MYR</td>\n      <td>Malaysian ringgit</td>\n    </tr>\n    <tr>\n      <th>27</th>\n      <td>NZD</td>\n      <td>New Zealand dollar</td>\n    </tr>\n    <tr>\n      <th>28</th>\n      <td>PHP</td>\n      <td>Philippine peso</td>\n    </tr>\n    <tr>\n      <th>29</th>\n      <td>SGD</td>\n      <td>Singapore dollar</td>\n    </tr>\n    <tr>\n      <th>30</th>\n      <td>THB</td>\n      <td>Thai baht</td>\n    </tr>\n    <tr>\n      <th>31</th>\n      <td>ZAR</td>\n      <td>South African rand</td>\n    </tr>\n    <tr>\n      <th>32</th>\n      <td>LVL</td>\n      <td>Latvia, Lat</td>\n    </tr>\n    <tr>\n      <th>33</th>\n      <td>LTL</td>\n      <td>Lithuania, Litas</td>\n    </tr>\n    <tr>\n      <th>34</th>\n      <td>EUR</td>\n      <td>Euro</td>\n    </tr>\n  </tbody>\n</table>\n</div>"
     },
     "metadata": {},
     "execution_count": 13
    }
   ],
   "source": [
    "transco"
   ]
  }
 ]
}